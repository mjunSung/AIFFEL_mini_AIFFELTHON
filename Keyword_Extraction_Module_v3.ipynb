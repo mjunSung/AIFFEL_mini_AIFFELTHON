{
  "nbformat": 4,
  "nbformat_minor": 0,
  "metadata": {
    "colab": {
      "provenance": [],
      "machine_shape": "hm",
      "gpuType": "T4"
    },
    "kernelspec": {
      "name": "python3",
      "display_name": "Python 3"
    },
    "language_info": {
      "name": "python"
    },
    "accelerator": "GPU"
  },
  "cells": [
    {
      "cell_type": "code",
      "source": [
        "!pip install --upgrade git+https://github.com/huggingface/transformers"
      ],
      "metadata": {
        "colab": {
          "base_uri": "https://localhost:8080/"
        },
        "id": "c1CXzCpuT6n9",
        "outputId": "ad1cd0af-7498-4110-8a8e-3aa190793de1"
      },
      "execution_count": null,
      "outputs": [
        {
          "output_type": "stream",
          "name": "stdout",
          "text": [
            "Collecting git+https://github.com/huggingface/transformers\n",
            "  Cloning https://github.com/huggingface/transformers to /tmp/pip-req-build-unxb6_ec\n",
            "  Running command git clone --filter=blob:none --quiet https://github.com/huggingface/transformers /tmp/pip-req-build-unxb6_ec\n",
            "  Resolved https://github.com/huggingface/transformers to commit 36c9181f5cc748b174f02f133ff17376e3969e4c\n",
            "  Installing build dependencies ... \u001b[?25l\u001b[?25hdone\n",
            "  Getting requirements to build wheel ... \u001b[?25l\u001b[?25hdone\n",
            "  Preparing metadata (pyproject.toml) ... \u001b[?25l\u001b[?25hdone\n",
            "Requirement already satisfied: filelock in /usr/local/lib/python3.11/dist-packages (from transformers==4.49.0.dev0) (3.16.1)\n",
            "Requirement already satisfied: huggingface-hub<1.0,>=0.24.0 in /usr/local/lib/python3.11/dist-packages (from transformers==4.49.0.dev0) (0.27.1)\n",
            "Requirement already satisfied: numpy>=1.17 in /usr/local/lib/python3.11/dist-packages (from transformers==4.49.0.dev0) (1.26.4)\n",
            "Requirement already satisfied: packaging>=20.0 in /usr/local/lib/python3.11/dist-packages (from transformers==4.49.0.dev0) (24.2)\n",
            "Requirement already satisfied: pyyaml>=5.1 in /usr/local/lib/python3.11/dist-packages (from transformers==4.49.0.dev0) (6.0.2)\n",
            "Requirement already satisfied: regex!=2019.12.17 in /usr/local/lib/python3.11/dist-packages (from transformers==4.49.0.dev0) (2024.11.6)\n",
            "Requirement already satisfied: requests in /usr/local/lib/python3.11/dist-packages (from transformers==4.49.0.dev0) (2.32.3)\n",
            "Requirement already satisfied: tokenizers<0.22,>=0.21 in /usr/local/lib/python3.11/dist-packages (from transformers==4.49.0.dev0) (0.21.0)\n",
            "Requirement already satisfied: safetensors>=0.4.1 in /usr/local/lib/python3.11/dist-packages (from transformers==4.49.0.dev0) (0.5.2)\n",
            "Requirement already satisfied: tqdm>=4.27 in /usr/local/lib/python3.11/dist-packages (from transformers==4.49.0.dev0) (4.67.1)\n",
            "Requirement already satisfied: fsspec>=2023.5.0 in /usr/local/lib/python3.11/dist-packages (from huggingface-hub<1.0,>=0.24.0->transformers==4.49.0.dev0) (2024.10.0)\n",
            "Requirement already satisfied: typing-extensions>=3.7.4.3 in /usr/local/lib/python3.11/dist-packages (from huggingface-hub<1.0,>=0.24.0->transformers==4.49.0.dev0) (4.12.2)\n",
            "Requirement already satisfied: charset-normalizer<4,>=2 in /usr/local/lib/python3.11/dist-packages (from requests->transformers==4.49.0.dev0) (3.4.1)\n",
            "Requirement already satisfied: idna<4,>=2.5 in /usr/local/lib/python3.11/dist-packages (from requests->transformers==4.49.0.dev0) (3.10)\n",
            "Requirement already satisfied: urllib3<3,>=1.21.1 in /usr/local/lib/python3.11/dist-packages (from requests->transformers==4.49.0.dev0) (2.3.0)\n",
            "Requirement already satisfied: certifi>=2017.4.17 in /usr/local/lib/python3.11/dist-packages (from requests->transformers==4.49.0.dev0) (2024.12.14)\n"
          ]
        }
      ]
    },
    {
      "cell_type": "code",
      "source": [
        "import re\n",
        "from time import time"
      ],
      "metadata": {
        "id": "-iy-yzowPo10"
      },
      "execution_count": null,
      "outputs": []
    },
    {
      "cell_type": "code",
      "execution_count": null,
      "metadata": {
        "colab": {
          "base_uri": "https://localhost:8080/"
        },
        "id": "HELd34JoOh7o",
        "outputId": "5c308b8a-c1fe-4187-8067-f5a8690a5d34"
      },
      "outputs": [
        {
          "output_type": "stream",
          "name": "stderr",
          "text": [
            "Device set to use cuda:0\n"
          ]
        }
      ],
      "source": [
        "from transformers import pipeline\n",
        "\n",
        "generator = pipeline(\"text-generation\",\n",
        "                     model=\"unsloth/Llama-3.2-3B-Instruct\",\n",
        "                     max_new_tokens = 128,\n",
        "                     repetition_penalty = 1.1)"
      ]
    },
    {
      "cell_type": "code",
      "source": [
        "example_queries = [\n",
        "    \"최근 AI 업계에서 비디오 생성 모델이 뭐가 있을까? 그리고 그 모델들의 성능 비교는 어떻게 되고, 앞으로의 전망은 어때?\",\n",
        "    \"CES2025의 미래 기술 트렌드에 대해 요약해줘\",\n",
        "    \"AI 윤리 문제에 대해서 앞으로 어떤 변화가 있을 것 같아?\"\n",
        "]"
      ],
      "metadata": {
        "id": "inqKTHIGOpX4"
      },
      "execution_count": null,
      "outputs": []
    },
    {
      "cell_type": "code",
      "source": [
        "prompt =\"\"\"\n",
        "You are an intelligent assistant specializing in generating search-friendly keyword phrases.\n",
        "Your task is to extract concise, contextually accurate keyword phrases from a given user query.\n",
        "These keyword phrases should be optimized for news search and adhere to the following guidelines:\n",
        "\n",
        "1. Ensure each phrase is specific and clear.\n",
        "2. Maintain the user's intended context.\n",
        "3. Include relevant dates, time periods, or locations when applicable.\n",
        "4. Use Named Entities (e.g., people, places, organizations, events) mentioned in the query.\n",
        "5. Incorporate synonyms or related terms to broaden the search scope.\n",
        "6. Keep phrases concise and avoid redundant words.\n",
        "7. Construct keyword phrases suitable for Boolean operators (e.g., AND, OR).\n",
        "8. Include regional or contextual relevance when specified.\n",
        "9. Reflect actions or dynamic processes, not just static terms.\n",
        "10. Ensure the phrases are structured for search engine optimization.\n",
        "\n",
        "**Output Format**:\n",
        "- Provide 3-5 keyword phrases as a numbered list.\n",
        "- Each phrase should be a complete and logical search query.\n",
        "\n",
        "**Example User Query**:\n",
        "“2025년에 헬스케어 분야에서 AI 기술이 어떻게 발전하고 있나요?”\n",
        "\n",
        "**Example Output**:\n",
        "1. 2025년 AI 기술 헬스케어 발전\n",
        "2. AI 헬스케어 트렌드 2025\n",
        "3. 2025년 헬스케어 AI 최신 동향\n",
        "4. AI 기반 헬스케어 혁신 2025\n",
        "\n",
        "Now, extract keyword phrases from the following query:\n",
        "\"{USER_QUERY}\"\n",
        "\"\"\""
      ],
      "metadata": {
        "id": "_uM4whNkPm14"
      },
      "execution_count": null,
      "outputs": []
    },
    {
      "cell_type": "code",
      "source": [
        "response = generator(prompt.format(USER_QUERY = example_queries[0]))[0]['generated_text']\n",
        "pattern = r\"^\\d+\\.\\s(.+)\"\n",
        "key_phrase = re.findall(pattern, response, re.MULTILINE)\n",
        "key_phrase = key_phrase[15:]\n",
        "\n",
        "key_phrase"
      ],
      "metadata": {
        "colab": {
          "base_uri": "https://localhost:8080/"
        },
        "id": "a98i0dGEZ6ks",
        "outputId": "032e5f86-c215-42d7-8d83-1982e6d1374f"
      },
      "execution_count": null,
      "outputs": [
        {
          "output_type": "execute_result",
          "data": {
            "text/plain": [
              "['최근 AI 비디오 생성 모델의 성능 분석',\n",
              " 'AI 비디오 생성 모델의 향후 전망',\n",
              " '비디오 생성 모델의 AI 기술 발전 상황',\n",
              " 'AI 기반 비디오 생성 모델 성능 비교']"
            ]
          },
          "metadata": {},
          "execution_count": 12
        }
      ]
    },
    {
      "cell_type": "code",
      "source": [
        "def extract_key_phrase(generator, query):\n",
        "    prompt =\"\"\"\n",
        "You are an intelligent assistant specializing in generating search-friendly keyword phrases.\n",
        "Your task is to extract concise, contextually accurate keyword phrases from a given user query.\n",
        "These keyword phrases should be optimized for news search and adhere to the following guidelines:\n",
        "\n",
        "1. Ensure each phrase is specific and clear.\n",
        "2. Maintain the user's intended context.\n",
        "3. Include relevant dates, time periods, or locations when applicable.\n",
        "4. Use Named Entities (e.g., people, places, organizations, events) mentioned in the query.\n",
        "5. Incorporate synonyms or related terms to broaden the search scope.\n",
        "6. Keep phrases concise and avoid redundant words.\n",
        "7. Construct keyword phrases suitable for Boolean operators (e.g., AND, OR).\n",
        "8. Include regional or contextual relevance when specified.\n",
        "9. Reflect actions or dynamic processes, not just static terms.\n",
        "10. Ensure the phrases are structured for search engine optimization.\n",
        "\n",
        "**Output Format**:\n",
        "- Provide 3-5 keyword phrases as a numbered list.\n",
        "- Each phrase should be a complete and logical search query.\n",
        "\n",
        "**Example User Query**:\n",
        "“2025년에 헬스케어 분야에서 AI 기술이 어떻게 발전하고 있나요?”\n",
        "\n",
        "**Example Output**:\n",
        "1. 2025년 AI 기술 헬스케어 발전\n",
        "2. AI 헬스케어 트렌드 2025\n",
        "3. 2025년 헬스케어 AI 최신 동향\n",
        "4. AI 기반 헬스케어 혁신 2025\n",
        "\n",
        "Now, extract keyword phrases from the following query:\n",
        "\"{USER_QUERY}\"\n",
        "\"\"\"\n",
        "    final_prompt = prompt.format(USER_QUERY = query)\n",
        "    response = generator(final_prompt)[0]['generated_text']\n",
        "\n",
        "    # response -> phrase list 변환\n",
        "    pattern = r\"^\\d+\\.\\s(.+)\"\n",
        "    key_phrase = re.findall(pattern, response, re.MULTILINE)\n",
        "    key_phrase = key_phrase[15:]\n",
        "\n",
        "    return key_phrase"
      ],
      "metadata": {
        "id": "kUvmHJN-Z9Me"
      },
      "execution_count": null,
      "outputs": []
    },
    {
      "cell_type": "code",
      "source": [
        "key_phrases = extract_key_phrase(generator, example_queries[0])"
      ],
      "metadata": {
        "colab": {
          "base_uri": "https://localhost:8080/"
        },
        "id": "4kTvH3wRbFJ5",
        "outputId": "767cd444-10d6-4904-93b6-921248ed77f5"
      },
      "execution_count": null,
      "outputs": [
        {
          "output_type": "execute_result",
          "data": {
            "text/plain": [
              "['최근 비디오 생성 모델 트렌드',\n",
              " '비디오 생성 모델의 미래 전망',\n",
              " 'AI 기반 비디오 생성 모델 비교',\n",
              " '비디오 생성 모델 성능 향상 방법']"
            ]
          },
          "metadata": {},
          "execution_count": 15
        }
      ]
    },
    {
      "cell_type": "code",
      "source": [
        "def extract_key_words(generator, query):\n",
        "    prompt = \"\"\"\n",
        "You are an intelligent assistant specializing in keyword extraction.\n",
        "Your task is to extract **Matched Keywords** and **Related Keywords** from a given document.\n",
        "The output should be presented as two separate numbered lists for clarity.\n",
        "Make sure that the list should be written in query language.\n",
        "\n",
        "**Guidelines**:\n",
        "1. **Matched Keywords**: Extract up to 5 keywords explicitly mentioned in the document.\n",
        "2. **Related Keywords**: Extract up to 5 keywords contextually related to the document but not explicitly mentioned.\n",
        "\n",
        "**Output Format**:\n",
        "- Matched Keywords:\n",
        "1. [Keyword 1]\n",
        "2. [Keyword 2]\n",
        "3. [Keyword 3]\n",
        "...\n",
        "- Related Keywords:\n",
        "1. [Keyword 1]\n",
        "2. [Keyword 2]\n",
        "3. [Keyword 3]\n",
        "...\n",
        "\n",
        "**Example Input**:\n",
        "Document: \"트랜스포머 기법을 쓰지 않은 LLM모델의 트렌드\"\n",
        "\n",
        "**Example Output**:\n",
        "- Matched Keywords:\n",
        "1. 트랜스포머\n",
        "2. 기법\n",
        "3. LLM\n",
        "4. 모델\n",
        "\n",
        "- Related Keywords:\n",
        "1. 자연어\n",
        "2. 언어모델\n",
        "3. AI\n",
        "4. 챗봇\n",
        "\n",
        "Now, extract keywords for the following document:\n",
        "Document: {USER_QUERY}\n",
        "\"\"\"\n",
        "    prompt_final = prompt.format(USER_QUERY = query)\n",
        "    response = generator(prompt_final)[0]['generated_text']\n",
        "\n",
        "    key_words = re.findall(pattern, response, re.MULTILINE)\n",
        "    key_words = key_words[16:]\n",
        "    return key_words\n"
      ],
      "metadata": {
        "id": "Jt46zfaPUQgR"
      },
      "execution_count": null,
      "outputs": []
    },
    {
      "cell_type": "code",
      "source": [
        "key_phrases = extract_key_phrase(generator, example_queries[0])\n",
        "key_phrases"
      ],
      "metadata": {
        "colab": {
          "base_uri": "https://localhost:8080/"
        },
        "id": "UbMGf6mpTXFl",
        "outputId": "83e540b2-9ad1-4c6f-df90-a15579322d93"
      },
      "execution_count": null,
      "outputs": [
        {
          "output_type": "execute_result",
          "data": {
            "text/plain": [
              "['AI 비디오 생성 모델 전망',\n",
              " '최근 비디오 생성 모델 성능',\n",
              " 'AI 비디오 생성 모델 최신 동향',\n",
              " '비디오 생성 모델 성능 향상 전망 ']"
            ]
          },
          "metadata": {},
          "execution_count": 43
        }
      ]
    },
    {
      "cell_type": "code",
      "source": [
        "key_words = extract_key_words(generator, example_queries[0])\n",
        "key_words"
      ],
      "metadata": {
        "colab": {
          "base_uri": "https://localhost:8080/"
        },
        "id": "OHDCBshyU-dm",
        "outputId": "a79bfcfd-d8f4-4e33-bb57-df76f6ab3a4c"
      },
      "execution_count": null,
      "outputs": [
        {
          "output_type": "execute_result",
          "data": {
            "text/plain": [
              "['비디오', '생성', '모델', '성능', '전망', 'AI', '컴퓨터', '화면', '영상', '인공지능']"
            ]
          },
          "metadata": {},
          "execution_count": 49
        }
      ]
    },
    {
      "cell_type": "code",
      "source": [
        "search_keywords = key_phrases + key_words\n",
        "search_keywords"
      ],
      "metadata": {
        "colab": {
          "base_uri": "https://localhost:8080/"
        },
        "id": "MmcRivr2VIwx",
        "outputId": "54a1a3fe-8ea8-428c-d226-9e3c3ba72f85"
      },
      "execution_count": null,
      "outputs": [
        {
          "output_type": "execute_result",
          "data": {
            "text/plain": [
              "['AI 비디오 생성 모델 전망',\n",
              " '최근 비디오 생성 모델 성능',\n",
              " 'AI 비디오 생성 모델 최신 동향',\n",
              " '비디오 생성 모델 성능 향상 전망 ',\n",
              " '비디오',\n",
              " '생성',\n",
              " '모델',\n",
              " '성능',\n",
              " '전망',\n",
              " 'AI',\n",
              " '컴퓨터',\n",
              " '화면',\n",
              " '영상',\n",
              " '인공지능']"
            ]
          },
          "metadata": {},
          "execution_count": 50
        }
      ]
    },
    {
      "cell_type": "code",
      "source": [],
      "metadata": {
        "id": "hatvu0C8VdQ6"
      },
      "execution_count": null,
      "outputs": []
    }
  ]
}