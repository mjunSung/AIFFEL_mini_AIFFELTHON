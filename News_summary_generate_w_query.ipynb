{
  "nbformat": 4,
  "nbformat_minor": 0,
  "metadata": {
    "colab": {
      "provenance": []
    },
    "kernelspec": {
      "name": "python3",
      "display_name": "Python 3"
    },
    "language_info": {
      "name": "python"
    }
  },
  "cells": [
    {
      "cell_type": "code",
      "source": [
        "!python3 --version"
      ],
      "metadata": {
        "colab": {
          "base_uri": "https://localhost:8080/"
        },
        "id": "oC8hlycoXhSw",
        "outputId": "f5bec93c-ed0b-42f6-fc68-216b88168486"
      },
      "execution_count": null,
      "outputs": [
        {
          "output_type": "stream",
          "name": "stdout",
          "text": [
            "Python 3.11.11\n"
          ]
        }
      ]
    },
    {
      "cell_type": "code",
      "source": [
        "from google.colab import drive\n",
        "drive.mount('/content/drive')"
      ],
      "metadata": {
        "colab": {
          "base_uri": "https://localhost:8080/"
        },
        "id": "zDlkZu50yHxQ",
        "outputId": "6093e217-1896-4ac9-f741-119b6550044a"
      },
      "execution_count": null,
      "outputs": [
        {
          "output_type": "stream",
          "name": "stdout",
          "text": [
            "Mounted at /content/drive\n"
          ]
        }
      ]
    },
    {
      "cell_type": "code",
      "source": [
        "# !apt install python3.11-venv"
      ],
      "metadata": {
        "colab": {
          "base_uri": "https://localhost:8080/"
        },
        "collapsed": true,
        "id": "_4lPLFerY1Zc",
        "outputId": "ad21564b-4fd6-462a-fec0-fa8972a63479"
      },
      "execution_count": null,
      "outputs": [
        {
          "output_type": "stream",
          "name": "stdout",
          "text": [
            "Reading package lists... Done\n",
            "Building dependency tree... Done\n",
            "Reading state information... Done\n",
            "The following NEW packages will be installed:\n",
            "  python3.11-venv\n",
            "0 upgraded, 1 newly installed, 0 to remove and 49 not upgraded.\n",
            "Need to get 3,017 kB of archives.\n",
            "After this operation, 3,372 kB of additional disk space will be used.\n",
            "Get:1 https://ppa.launchpadcontent.net/deadsnakes/ppa/ubuntu jammy/main amd64 python3.11-venv amd64 3.11.11-1+jammy1 [3,017 kB]\n",
            "Fetched 3,017 kB in 5s (557 kB/s)\n",
            "Selecting previously unselected package python3.11-venv.\n",
            "(Reading database ... 124565 files and directories currently installed.)\n",
            "Preparing to unpack .../python3.11-venv_3.11.11-1+jammy1_amd64.deb ...\n",
            "Unpacking python3.11-venv (3.11.11-1+jammy1) ...\n",
            "Setting up python3.11-venv (3.11.11-1+jammy1) ...\n"
          ]
        }
      ]
    },
    {
      "cell_type": "code",
      "source": [
        "!python -m venv drive/MyDrive/langchain_ttrl/env2"
      ],
      "metadata": {
        "collapsed": true,
        "id": "rSc_urYn4uOR"
      },
      "execution_count": null,
      "outputs": []
    },
    {
      "cell_type": "code",
      "source": [
        "proj_path = \"/content/drive/MyDrive/langchain_ttrl\""
      ],
      "metadata": {
        "id": "dbYpsWM3emKD"
      },
      "execution_count": null,
      "outputs": []
    },
    {
      "cell_type": "code",
      "source": [
        "def activate_env(__file__):\n",
        "  \"\"\"\n",
        "  Activate virtualenv for current interpreter:\n",
        "\n",
        "  import runpy\n",
        "  runpy.run_path(this_file)\n",
        "\n",
        "  This can be used when you must use an existing Python interpreter, not the virtualenv bin/python.\n",
        "  \"\"\"  # noqa: D415\n",
        "\n",
        "  # from __future__ import annotations\n",
        "\n",
        "  import os\n",
        "  import site\n",
        "  import sys\n",
        "\n",
        "  try:\n",
        "      abs_file = os.path.abspath(__file__)\n",
        "  except NameError as exc:\n",
        "      msg = \"You must use import runpy; runpy.run_path(this_file)\"\n",
        "      raise AssertionError(msg) from exc\n",
        "\n",
        "  bin_dir = os.path.dirname(abs_file)\n",
        "  base = bin_dir[: -len('bin') - 1]  # strip away the bin part from the __file__, plus the path separator\n",
        "\n",
        "  # prepend bin to PATH (this file is inside the bin directory)\n",
        "  os.environ[\"PATH\"] = os.pathsep.join(\n",
        "      [bin_dir, *os.environ.get(\"PATH\", \"\").split(os.pathsep)])\n",
        "  os.environ[\"VIRTUAL_ENV\"] = base  # virtual env is right above bin directory\n",
        "  os.environ[\"VIRTUAL_ENV_PROMPT\"] = '' or os.path.basename(base)\n",
        "\n",
        "  # add the virtual environments libraries to the host python import mechanism\n",
        "  prev_length = len(sys.path)\n",
        "  for lib in '../lib/python3.11/site-packages'.split(os.pathsep):\n",
        "      path = os.path.realpath(os.path.join(bin_dir, lib))\n",
        "      site.addsitedir(path.decode(\"utf-8\") if '' else path)\n",
        "  sys.path[:] = sys.path[prev_length:] + sys.path[0:prev_length]\n",
        "\n",
        "  sys.real_prefix = sys.prefix\n",
        "  sys.prefix = base"
      ],
      "metadata": {
        "id": "2Bu0pY0waIWo"
      },
      "execution_count": null,
      "outputs": []
    },
    {
      "cell_type": "code",
      "source": [
        "activate_env(proj_path+\"/env2/bin/activate\")"
      ],
      "metadata": {
        "id": "218QlbpZfEwS"
      },
      "execution_count": null,
      "outputs": []
    },
    {
      "cell_type": "code",
      "source": [
        "# !pip install langchain langchain-google-genai"
      ],
      "metadata": {
        "colab": {
          "base_uri": "https://localhost:8080/",
          "height": 1000
        },
        "collapsed": true,
        "id": "llg5UflsTiCP",
        "outputId": "b6e65971-ea8b-4197-b6ef-cdb48c5bbc91"
      },
      "execution_count": null,
      "outputs": [
        {
          "output_type": "stream",
          "name": "stdout",
          "text": [
            "Collecting langchain\n",
            "  Downloading langchain-0.3.14-py3-none-any.whl.metadata (7.1 kB)\n",
            "Collecting langchain-google-genai\n",
            "  Downloading langchain_google_genai-2.0.9-py3-none-any.whl.metadata (3.6 kB)\n",
            "Collecting PyYAML>=5.3 (from langchain)\n",
            "  Downloading PyYAML-6.0.2-cp311-cp311-manylinux_2_17_x86_64.manylinux2014_x86_64.whl.metadata (2.1 kB)\n",
            "Collecting SQLAlchemy<3,>=1.4 (from langchain)\n",
            "  Downloading SQLAlchemy-2.0.37-cp311-cp311-manylinux_2_17_x86_64.manylinux2014_x86_64.whl.metadata (9.6 kB)\n",
            "Collecting aiohttp<4.0.0,>=3.8.3 (from langchain)\n",
            "  Downloading aiohttp-3.11.11-cp311-cp311-manylinux_2_17_x86_64.manylinux2014_x86_64.whl.metadata (7.7 kB)\n",
            "Collecting langchain-core<0.4.0,>=0.3.29 (from langchain)\n",
            "  Downloading langchain_core-0.3.30-py3-none-any.whl.metadata (6.3 kB)\n",
            "Collecting langchain-text-splitters<0.4.0,>=0.3.3 (from langchain)\n",
            "  Downloading langchain_text_splitters-0.3.5-py3-none-any.whl.metadata (2.3 kB)\n",
            "Collecting langsmith<0.3,>=0.1.17 (from langchain)\n",
            "  Downloading langsmith-0.2.11-py3-none-any.whl.metadata (14 kB)\n",
            "Collecting numpy<2,>=1.22.4 (from langchain)\n",
            "  Downloading numpy-1.26.4-cp311-cp311-manylinux_2_17_x86_64.manylinux2014_x86_64.whl.metadata (61 kB)\n",
            "\u001b[2K     \u001b[90m━━━━━━━━━━━━━━━━━━━━━━━━━━━━━━━━━━━━━━━━\u001b[0m \u001b[32m61.0/61.0 kB\u001b[0m \u001b[31m1.7 MB/s\u001b[0m eta \u001b[36m0:00:00\u001b[0m\n",
            "\u001b[?25hCollecting pydantic<3.0.0,>=2.7.4 (from langchain)\n",
            "  Downloading pydantic-2.10.5-py3-none-any.whl.metadata (30 kB)\n",
            "Collecting requests<3,>=2 (from langchain)\n",
            "  Downloading requests-2.32.3-py3-none-any.whl.metadata (4.6 kB)\n",
            "Collecting tenacity!=8.4.0,<10,>=8.1.0 (from langchain)\n",
            "  Downloading tenacity-9.0.0-py3-none-any.whl.metadata (1.2 kB)\n",
            "Collecting filetype<2.0.0,>=1.2.0 (from langchain-google-genai)\n",
            "  Downloading filetype-1.2.0-py2.py3-none-any.whl.metadata (6.5 kB)\n",
            "Collecting google-generativeai<0.9.0,>=0.8.0 (from langchain-google-genai)\n",
            "  Downloading google_generativeai-0.8.3-py3-none-any.whl.metadata (3.9 kB)\n",
            "Collecting aiohappyeyeballs>=2.3.0 (from aiohttp<4.0.0,>=3.8.3->langchain)\n",
            "  Downloading aiohappyeyeballs-2.4.4-py3-none-any.whl.metadata (6.1 kB)\n",
            "Collecting aiosignal>=1.1.2 (from aiohttp<4.0.0,>=3.8.3->langchain)\n",
            "  Downloading aiosignal-1.3.2-py2.py3-none-any.whl.metadata (3.8 kB)\n",
            "Collecting attrs>=17.3.0 (from aiohttp<4.0.0,>=3.8.3->langchain)\n",
            "  Downloading attrs-24.3.0-py3-none-any.whl.metadata (11 kB)\n",
            "Collecting frozenlist>=1.1.1 (from aiohttp<4.0.0,>=3.8.3->langchain)\n",
            "  Downloading frozenlist-1.5.0-cp311-cp311-manylinux_2_5_x86_64.manylinux1_x86_64.manylinux_2_17_x86_64.manylinux2014_x86_64.whl.metadata (13 kB)\n",
            "Collecting multidict<7.0,>=4.5 (from aiohttp<4.0.0,>=3.8.3->langchain)\n",
            "  Downloading multidict-6.1.0-cp311-cp311-manylinux_2_17_x86_64.manylinux2014_x86_64.whl.metadata (5.0 kB)\n",
            "Collecting propcache>=0.2.0 (from aiohttp<4.0.0,>=3.8.3->langchain)\n",
            "  Downloading propcache-0.2.1-cp311-cp311-manylinux_2_17_x86_64.manylinux2014_x86_64.whl.metadata (9.2 kB)\n",
            "Collecting yarl<2.0,>=1.17.0 (from aiohttp<4.0.0,>=3.8.3->langchain)\n",
            "  Downloading yarl-1.18.3-cp311-cp311-manylinux_2_17_x86_64.manylinux2014_x86_64.whl.metadata (69 kB)\n",
            "\u001b[2K     \u001b[90m━━━━━━━━━━━━━━━━━━━━━━━━━━━━━━━━━━━━━━━━\u001b[0m \u001b[32m69.2/69.2 kB\u001b[0m \u001b[31m3.8 MB/s\u001b[0m eta \u001b[36m0:00:00\u001b[0m\n",
            "\u001b[?25hCollecting google-ai-generativelanguage==0.6.10 (from google-generativeai<0.9.0,>=0.8.0->langchain-google-genai)\n",
            "  Downloading google_ai_generativelanguage-0.6.10-py3-none-any.whl.metadata (5.6 kB)\n",
            "Collecting google-api-core (from google-generativeai<0.9.0,>=0.8.0->langchain-google-genai)\n",
            "  Downloading google_api_core-2.24.0-py3-none-any.whl.metadata (3.0 kB)\n",
            "Collecting google-api-python-client (from google-generativeai<0.9.0,>=0.8.0->langchain-google-genai)\n",
            "  Downloading google_api_python_client-2.159.0-py2.py3-none-any.whl.metadata (6.7 kB)\n",
            "Collecting google-auth>=2.15.0 (from google-generativeai<0.9.0,>=0.8.0->langchain-google-genai)\n",
            "  Downloading google_auth-2.37.0-py2.py3-none-any.whl.metadata (4.8 kB)\n",
            "Collecting protobuf (from google-generativeai<0.9.0,>=0.8.0->langchain-google-genai)\n",
            "  Downloading protobuf-5.29.3-cp38-abi3-manylinux2014_x86_64.whl.metadata (592 bytes)\n",
            "Collecting tqdm (from google-generativeai<0.9.0,>=0.8.0->langchain-google-genai)\n",
            "  Downloading tqdm-4.67.1-py3-none-any.whl.metadata (57 kB)\n",
            "\u001b[2K     \u001b[90m━━━━━━━━━━━━━━━━━━━━━━━━━━━━━━━━━━━━━━━━\u001b[0m \u001b[32m57.7/57.7 kB\u001b[0m \u001b[31m3.9 MB/s\u001b[0m eta \u001b[36m0:00:00\u001b[0m\n",
            "\u001b[?25hCollecting typing-extensions (from google-generativeai<0.9.0,>=0.8.0->langchain-google-genai)\n",
            "  Downloading typing_extensions-4.12.2-py3-none-any.whl.metadata (3.0 kB)\n",
            "Collecting proto-plus<2.0.0dev,>=1.22.3 (from google-ai-generativelanguage==0.6.10->google-generativeai<0.9.0,>=0.8.0->langchain-google-genai)\n",
            "  Downloading proto_plus-1.25.0-py3-none-any.whl.metadata (2.2 kB)\n",
            "Collecting jsonpatch<2.0,>=1.33 (from langchain-core<0.4.0,>=0.3.29->langchain)\n",
            "  Downloading jsonpatch-1.33-py2.py3-none-any.whl.metadata (3.0 kB)\n",
            "Collecting packaging<25,>=23.2 (from langchain-core<0.4.0,>=0.3.29->langchain)\n",
            "  Downloading packaging-24.2-py3-none-any.whl.metadata (3.2 kB)\n",
            "Collecting httpx<1,>=0.23.0 (from langsmith<0.3,>=0.1.17->langchain)\n",
            "  Downloading httpx-0.28.1-py3-none-any.whl.metadata (7.1 kB)\n",
            "Collecting orjson<4.0.0,>=3.9.14 (from langsmith<0.3,>=0.1.17->langchain)\n",
            "  Downloading orjson-3.10.15-cp311-cp311-manylinux_2_17_x86_64.manylinux2014_x86_64.whl.metadata (41 kB)\n",
            "\u001b[2K     \u001b[90m━━━━━━━━━━━━━━━━━━━━━━━━━━━━━━━━━━━━━━━━\u001b[0m \u001b[32m41.8/41.8 kB\u001b[0m \u001b[31m2.5 MB/s\u001b[0m eta \u001b[36m0:00:00\u001b[0m\n",
            "\u001b[?25hCollecting requests-toolbelt<2.0.0,>=1.0.0 (from langsmith<0.3,>=0.1.17->langchain)\n",
            "  Downloading requests_toolbelt-1.0.0-py2.py3-none-any.whl.metadata (14 kB)\n",
            "Collecting annotated-types>=0.6.0 (from pydantic<3.0.0,>=2.7.4->langchain)\n",
            "  Downloading annotated_types-0.7.0-py3-none-any.whl.metadata (15 kB)\n",
            "Collecting pydantic-core==2.27.2 (from pydantic<3.0.0,>=2.7.4->langchain)\n",
            "  Downloading pydantic_core-2.27.2-cp311-cp311-manylinux_2_17_x86_64.manylinux2014_x86_64.whl.metadata (6.6 kB)\n",
            "Collecting charset-normalizer<4,>=2 (from requests<3,>=2->langchain)\n",
            "  Downloading charset_normalizer-3.4.1-cp311-cp311-manylinux_2_17_x86_64.manylinux2014_x86_64.whl.metadata (35 kB)\n",
            "Collecting idna<4,>=2.5 (from requests<3,>=2->langchain)\n",
            "  Downloading idna-3.10-py3-none-any.whl.metadata (10 kB)\n",
            "Collecting urllib3<3,>=1.21.1 (from requests<3,>=2->langchain)\n",
            "  Downloading urllib3-2.3.0-py3-none-any.whl.metadata (6.5 kB)\n",
            "Collecting certifi>=2017.4.17 (from requests<3,>=2->langchain)\n",
            "  Downloading certifi-2024.12.14-py3-none-any.whl.metadata (2.3 kB)\n",
            "Collecting greenlet!=0.4.17 (from SQLAlchemy<3,>=1.4->langchain)\n",
            "  Downloading greenlet-3.1.1-cp311-cp311-manylinux_2_24_x86_64.manylinux_2_28_x86_64.whl.metadata (3.8 kB)\n",
            "Collecting googleapis-common-protos<2.0.dev0,>=1.56.2 (from google-api-core->google-generativeai<0.9.0,>=0.8.0->langchain-google-genai)\n",
            "  Downloading googleapis_common_protos-1.66.0-py2.py3-none-any.whl.metadata (1.5 kB)\n",
            "Collecting cachetools<6.0,>=2.0.0 (from google-auth>=2.15.0->google-generativeai<0.9.0,>=0.8.0->langchain-google-genai)\n",
            "  Downloading cachetools-5.5.0-py3-none-any.whl.metadata (5.3 kB)\n",
            "Collecting pyasn1-modules>=0.2.1 (from google-auth>=2.15.0->google-generativeai<0.9.0,>=0.8.0->langchain-google-genai)\n",
            "  Downloading pyasn1_modules-0.4.1-py3-none-any.whl.metadata (3.5 kB)\n",
            "Collecting rsa<5,>=3.1.4 (from google-auth>=2.15.0->google-generativeai<0.9.0,>=0.8.0->langchain-google-genai)\n",
            "  Downloading rsa-4.9-py3-none-any.whl.metadata (4.2 kB)\n",
            "Collecting anyio (from httpx<1,>=0.23.0->langsmith<0.3,>=0.1.17->langchain)\n",
            "  Downloading anyio-4.8.0-py3-none-any.whl.metadata (4.6 kB)\n",
            "Collecting httpcore==1.* (from httpx<1,>=0.23.0->langsmith<0.3,>=0.1.17->langchain)\n",
            "  Downloading httpcore-1.0.7-py3-none-any.whl.metadata (21 kB)\n",
            "Collecting h11<0.15,>=0.13 (from httpcore==1.*->httpx<1,>=0.23.0->langsmith<0.3,>=0.1.17->langchain)\n",
            "  Downloading h11-0.14.0-py3-none-any.whl.metadata (8.2 kB)\n",
            "Collecting jsonpointer>=1.9 (from jsonpatch<2.0,>=1.33->langchain-core<0.4.0,>=0.3.29->langchain)\n",
            "  Downloading jsonpointer-3.0.0-py2.py3-none-any.whl.metadata (2.3 kB)\n",
            "Collecting httplib2<1.dev0,>=0.19.0 (from google-api-python-client->google-generativeai<0.9.0,>=0.8.0->langchain-google-genai)\n",
            "  Downloading httplib2-0.22.0-py3-none-any.whl.metadata (2.6 kB)\n",
            "Collecting google-auth-httplib2<1.0.0,>=0.2.0 (from google-api-python-client->google-generativeai<0.9.0,>=0.8.0->langchain-google-genai)\n",
            "  Downloading google_auth_httplib2-0.2.0-py2.py3-none-any.whl.metadata (2.2 kB)\n",
            "Collecting uritemplate<5,>=3.0.1 (from google-api-python-client->google-generativeai<0.9.0,>=0.8.0->langchain-google-genai)\n",
            "  Downloading uritemplate-4.1.1-py2.py3-none-any.whl.metadata (2.9 kB)\n",
            "Collecting grpcio<2.0dev,>=1.33.2 (from google-api-core[grpc]!=2.0.*,!=2.1.*,!=2.10.*,!=2.2.*,!=2.3.*,!=2.4.*,!=2.5.*,!=2.6.*,!=2.7.*,!=2.8.*,!=2.9.*,<3.0.0dev,>=1.34.1->google-ai-generativelanguage==0.6.10->google-generativeai<0.9.0,>=0.8.0->langchain-google-genai)\n",
            "  Downloading grpcio-1.69.0-cp311-cp311-manylinux_2_17_x86_64.manylinux2014_x86_64.whl.metadata (3.9 kB)\n",
            "Collecting grpcio-status<2.0.dev0,>=1.33.2 (from google-api-core[grpc]!=2.0.*,!=2.1.*,!=2.10.*,!=2.2.*,!=2.3.*,!=2.4.*,!=2.5.*,!=2.6.*,!=2.7.*,!=2.8.*,!=2.9.*,<3.0.0dev,>=1.34.1->google-ai-generativelanguage==0.6.10->google-generativeai<0.9.0,>=0.8.0->langchain-google-genai)\n",
            "  Downloading grpcio_status-1.69.0-py3-none-any.whl.metadata (1.1 kB)\n",
            "Collecting pyparsing!=3.0.0,!=3.0.1,!=3.0.2,!=3.0.3,<4,>=2.4.2 (from httplib2<1.dev0,>=0.19.0->google-api-python-client->google-generativeai<0.9.0,>=0.8.0->langchain-google-genai)\n",
            "  Downloading pyparsing-3.2.1-py3-none-any.whl.metadata (5.0 kB)\n",
            "Collecting pyasn1<0.7.0,>=0.4.6 (from pyasn1-modules>=0.2.1->google-auth>=2.15.0->google-generativeai<0.9.0,>=0.8.0->langchain-google-genai)\n",
            "  Downloading pyasn1-0.6.1-py3-none-any.whl.metadata (8.4 kB)\n",
            "Collecting sniffio>=1.1 (from anyio->httpx<1,>=0.23.0->langsmith<0.3,>=0.1.17->langchain)\n",
            "  Downloading sniffio-1.3.1-py3-none-any.whl.metadata (3.9 kB)\n",
            "Downloading langchain-0.3.14-py3-none-any.whl (1.0 MB)\n",
            "\u001b[2K   \u001b[90m━━━━━━━━━━━━━━━━━━━━━━━━━━━━━━━━━━━━━━━━\u001b[0m \u001b[32m1.0/1.0 MB\u001b[0m \u001b[31m21.4 MB/s\u001b[0m eta \u001b[36m0:00:00\u001b[0m\n",
            "\u001b[?25hDownloading langchain_google_genai-2.0.9-py3-none-any.whl (41 kB)\n",
            "\u001b[2K   \u001b[90m━━━━━━━━━━━━━━━━━━━━━━━━━━━━━━━━━━━━━━━━\u001b[0m \u001b[32m41.7/41.7 kB\u001b[0m \u001b[31m3.0 MB/s\u001b[0m eta \u001b[36m0:00:00\u001b[0m\n",
            "\u001b[?25hDownloading aiohttp-3.11.11-cp311-cp311-manylinux_2_17_x86_64.manylinux2014_x86_64.whl (1.7 MB)\n",
            "\u001b[2K   \u001b[90m━━━━━━━━━━━━━━━━━━━━━━━━━━━━━━━━━━━━━━━━\u001b[0m \u001b[32m1.7/1.7 MB\u001b[0m \u001b[31m57.7 MB/s\u001b[0m eta \u001b[36m0:00:00\u001b[0m\n",
            "\u001b[?25hDownloading filetype-1.2.0-py2.py3-none-any.whl (19 kB)\n",
            "Downloading google_generativeai-0.8.3-py3-none-any.whl (160 kB)\n",
            "\u001b[2K   \u001b[90m━━━━━━━━━━━━━━━━━━━━━━━━━━━━━━━━━━━━━━━━\u001b[0m \u001b[32m160.8/160.8 kB\u001b[0m \u001b[31m12.6 MB/s\u001b[0m eta \u001b[36m0:00:00\u001b[0m\n",
            "\u001b[?25hDownloading google_ai_generativelanguage-0.6.10-py3-none-any.whl (760 kB)\n",
            "\u001b[2K   \u001b[90m━━━━━━━━━━━━━━━━━━━━━━━━━━━━━━━━━━━━━━━━\u001b[0m \u001b[32m760.0/760.0 kB\u001b[0m \u001b[31m42.3 MB/s\u001b[0m eta \u001b[36m0:00:00\u001b[0m\n",
            "\u001b[?25hDownloading langchain_core-0.3.30-py3-none-any.whl (411 kB)\n",
            "\u001b[2K   \u001b[90m━━━━━━━━━━━━━━━━━━━━━━━━━━━━━━━━━━━━━━━━\u001b[0m \u001b[32m411.9/411.9 kB\u001b[0m \u001b[31m27.5 MB/s\u001b[0m eta \u001b[36m0:00:00\u001b[0m\n",
            "\u001b[?25hDownloading langchain_text_splitters-0.3.5-py3-none-any.whl (31 kB)\n",
            "Downloading langsmith-0.2.11-py3-none-any.whl (326 kB)\n",
            "\u001b[2K   \u001b[90m━━━━━━━━━━━━━━━━━━━━━━━━━━━━━━━━━━━━━━━━\u001b[0m \u001b[32m326.9/326.9 kB\u001b[0m \u001b[31m20.2 MB/s\u001b[0m eta \u001b[36m0:00:00\u001b[0m\n",
            "\u001b[?25hDownloading numpy-1.26.4-cp311-cp311-manylinux_2_17_x86_64.manylinux2014_x86_64.whl (18.3 MB)\n",
            "\u001b[2K   \u001b[90m━━━━━━━━━━━━━━━━━━━━━━━━━━━━━━━━━━━━━━━━\u001b[0m \u001b[32m18.3/18.3 MB\u001b[0m \u001b[31m60.0 MB/s\u001b[0m eta \u001b[36m0:00:00\u001b[0m\n",
            "\u001b[?25hDownloading pydantic-2.10.5-py3-none-any.whl (431 kB)\n",
            "\u001b[2K   \u001b[90m━━━━━━━━━━━━━━━━━━━━━━━━━━━━━━━━━━━━━━━━\u001b[0m \u001b[32m431.4/431.4 kB\u001b[0m \u001b[31m26.7 MB/s\u001b[0m eta \u001b[36m0:00:00\u001b[0m\n",
            "\u001b[?25hDownloading pydantic_core-2.27.2-cp311-cp311-manylinux_2_17_x86_64.manylinux2014_x86_64.whl (2.0 MB)\n",
            "\u001b[2K   \u001b[90m━━━━━━━━━━━━━━━━━━━━━━━━━━━━━━━━━━━━━━━━\u001b[0m \u001b[32m2.0/2.0 MB\u001b[0m \u001b[31m61.0 MB/s\u001b[0m eta \u001b[36m0:00:00\u001b[0m\n",
            "\u001b[?25hDownloading PyYAML-6.0.2-cp311-cp311-manylinux_2_17_x86_64.manylinux2014_x86_64.whl (762 kB)\n",
            "\u001b[2K   \u001b[90m━━━━━━━━━━━━━━━━━━━━━━━━━━━━━━━━━━━━━━━━\u001b[0m \u001b[32m763.0/763.0 kB\u001b[0m \u001b[31m37.5 MB/s\u001b[0m eta \u001b[36m0:00:00\u001b[0m\n",
            "\u001b[?25hDownloading requests-2.32.3-py3-none-any.whl (64 kB)\n",
            "\u001b[2K   \u001b[90m━━━━━━━━━━━━━━━━━━━━━━━━━━━━━━━━━━━━━━━━\u001b[0m \u001b[32m64.9/64.9 kB\u001b[0m \u001b[31m5.2 MB/s\u001b[0m eta \u001b[36m0:00:00\u001b[0m\n",
            "\u001b[?25hDownloading SQLAlchemy-2.0.37-cp311-cp311-manylinux_2_17_x86_64.manylinux2014_x86_64.whl (3.2 MB)\n",
            "\u001b[2K   \u001b[90m━━━━━━━━━━━━━━━━━━━━━━━━━━━━━━━━━━━━━━━━\u001b[0m \u001b[32m3.2/3.2 MB\u001b[0m \u001b[31m74.8 MB/s\u001b[0m eta \u001b[36m0:00:00\u001b[0m\n",
            "\u001b[?25hDownloading tenacity-9.0.0-py3-none-any.whl (28 kB)\n",
            "Downloading aiohappyeyeballs-2.4.4-py3-none-any.whl (14 kB)\n",
            "Downloading aiosignal-1.3.2-py2.py3-none-any.whl (7.6 kB)\n",
            "Downloading annotated_types-0.7.0-py3-none-any.whl (13 kB)\n",
            "Downloading attrs-24.3.0-py3-none-any.whl (63 kB)\n",
            "\u001b[2K   \u001b[90m━━━━━━━━━━━━━━━━━━━━━━━━━━━━━━━━━━━━━━━━\u001b[0m \u001b[32m63.4/63.4 kB\u001b[0m \u001b[31m4.2 MB/s\u001b[0m eta \u001b[36m0:00:00\u001b[0m\n",
            "\u001b[?25hDownloading certifi-2024.12.14-py3-none-any.whl (164 kB)\n",
            "\u001b[2K   \u001b[90m━━━━━━━━━━━━━━━━━━━━━━━━━━━━━━━━━━━━━━━━\u001b[0m \u001b[32m164.9/164.9 kB\u001b[0m \u001b[31m10.9 MB/s\u001b[0m eta \u001b[36m0:00:00\u001b[0m\n",
            "\u001b[?25hDownloading charset_normalizer-3.4.1-cp311-cp311-manylinux_2_17_x86_64.manylinux2014_x86_64.whl (143 kB)\n",
            "\u001b[2K   \u001b[90m━━━━━━━━━━━━━━━━━━━━━━━━━━━━━━━━━━━━━━━━\u001b[0m \u001b[32m143.9/143.9 kB\u001b[0m \u001b[31m11.0 MB/s\u001b[0m eta \u001b[36m0:00:00\u001b[0m\n",
            "\u001b[?25hDownloading frozenlist-1.5.0-cp311-cp311-manylinux_2_5_x86_64.manylinux1_x86_64.manylinux_2_17_x86_64.manylinux2014_x86_64.whl (274 kB)\n",
            "\u001b[2K   \u001b[90m━━━━━━━━━━━━━━━━━━━━━━━━━━━━━━━━━━━━━━━━\u001b[0m \u001b[32m274.9/274.9 kB\u001b[0m \u001b[31m20.4 MB/s\u001b[0m eta \u001b[36m0:00:00\u001b[0m\n",
            "\u001b[?25hDownloading google_api_core-2.24.0-py3-none-any.whl (158 kB)\n",
            "\u001b[2K   \u001b[90m━━━━━━━━━━━━━━━━━━━━━━━━━━━━━━━━━━━━━━━━\u001b[0m \u001b[32m158.6/158.6 kB\u001b[0m \u001b[31m10.0 MB/s\u001b[0m eta \u001b[36m0:00:00\u001b[0m\n",
            "\u001b[?25hDownloading google_auth-2.37.0-py2.py3-none-any.whl (209 kB)\n",
            "\u001b[2K   \u001b[90m━━━━━━━━━━━━━━━━━━━━━━━━━━━━━━━━━━━━━━━━\u001b[0m \u001b[32m209.8/209.8 kB\u001b[0m \u001b[31m12.5 MB/s\u001b[0m eta \u001b[36m0:00:00\u001b[0m\n",
            "\u001b[?25hDownloading greenlet-3.1.1-cp311-cp311-manylinux_2_24_x86_64.manylinux_2_28_x86_64.whl (602 kB)\n",
            "\u001b[2K   \u001b[90m━━━━━━━━━━━━━━━━━━━━━━━━━━━━━━━━━━━━━━━━\u001b[0m \u001b[32m602.4/602.4 kB\u001b[0m \u001b[31m32.6 MB/s\u001b[0m eta \u001b[36m0:00:00\u001b[0m\n",
            "\u001b[?25hDownloading httpx-0.28.1-py3-none-any.whl (73 kB)\n",
            "\u001b[2K   \u001b[90m━━━━━━━━━━━━━━━━━━━━━━━━━━━━━━━━━━━━━━━━\u001b[0m \u001b[32m73.5/73.5 kB\u001b[0m \u001b[31m5.8 MB/s\u001b[0m eta \u001b[36m0:00:00\u001b[0m\n",
            "\u001b[?25hDownloading httpcore-1.0.7-py3-none-any.whl (78 kB)\n",
            "\u001b[2K   \u001b[90m━━━━━━━━━━━━━━━━━━━━━━━━━━━━━━━━━━━━━━━━\u001b[0m \u001b[32m78.6/78.6 kB\u001b[0m \u001b[31m6.2 MB/s\u001b[0m eta \u001b[36m0:00:00\u001b[0m\n",
            "\u001b[?25hDownloading idna-3.10-py3-none-any.whl (70 kB)\n",
            "\u001b[2K   \u001b[90m━━━━━━━━━━━━━━━━━━━━━━━━━━━━━━━━━━━━━━━━\u001b[0m \u001b[32m70.4/70.4 kB\u001b[0m \u001b[31m5.2 MB/s\u001b[0m eta \u001b[36m0:00:00\u001b[0m\n",
            "\u001b[?25hDownloading jsonpatch-1.33-py2.py3-none-any.whl (12 kB)\n",
            "Downloading multidict-6.1.0-cp311-cp311-manylinux_2_17_x86_64.manylinux2014_x86_64.whl (129 kB)\n",
            "\u001b[2K   \u001b[90m━━━━━━━━━━━━━━━━━━━━━━━━━━━━━━━━━━━━━━━━\u001b[0m \u001b[32m129.0/129.0 kB\u001b[0m \u001b[31m9.8 MB/s\u001b[0m eta \u001b[36m0:00:00\u001b[0m\n",
            "\u001b[?25hDownloading orjson-3.10.15-cp311-cp311-manylinux_2_17_x86_64.manylinux2014_x86_64.whl (130 kB)\n",
            "\u001b[2K   \u001b[90m━━━━━━━━━━━━━━━━━━━━━━━━━━━━━━━━━━━━━━━━\u001b[0m \u001b[32m130.3/130.3 kB\u001b[0m \u001b[31m10.8 MB/s\u001b[0m eta \u001b[36m0:00:00\u001b[0m\n",
            "\u001b[?25hDownloading packaging-24.2-py3-none-any.whl (65 kB)\n",
            "\u001b[2K   \u001b[90m━━━━━━━━━━━━━━━━━━━━━━━━━━━━━━━━━━━━━━━━\u001b[0m \u001b[32m65.5/65.5 kB\u001b[0m \u001b[31m5.6 MB/s\u001b[0m eta \u001b[36m0:00:00\u001b[0m\n",
            "\u001b[?25hDownloading propcache-0.2.1-cp311-cp311-manylinux_2_17_x86_64.manylinux2014_x86_64.whl (231 kB)\n",
            "\u001b[2K   \u001b[90m━━━━━━━━━━━━━━━━━━━━━━━━━━━━━━━━━━━━━━━━\u001b[0m \u001b[32m231.1/231.1 kB\u001b[0m \u001b[31m17.1 MB/s\u001b[0m eta \u001b[36m0:00:00\u001b[0m\n",
            "\u001b[?25hDownloading protobuf-5.29.3-cp38-abi3-manylinux2014_x86_64.whl (319 kB)\n",
            "\u001b[2K   \u001b[90m━━━━━━━━━━━━━━━━━━━━━━━━━━━━━━━━━━━━━━━━\u001b[0m \u001b[32m319.7/319.7 kB\u001b[0m \u001b[31m21.5 MB/s\u001b[0m eta \u001b[36m0:00:00\u001b[0m\n",
            "\u001b[?25hDownloading requests_toolbelt-1.0.0-py2.py3-none-any.whl (54 kB)\n",
            "\u001b[2K   \u001b[90m━━━━━━━━━━━━━━━━━━━━━━━━━━━━━━━━━━━━━━━━\u001b[0m \u001b[32m54.5/54.5 kB\u001b[0m \u001b[31m4.3 MB/s\u001b[0m eta \u001b[36m0:00:00\u001b[0m\n",
            "\u001b[?25hDownloading typing_extensions-4.12.2-py3-none-any.whl (37 kB)\n",
            "Downloading urllib3-2.3.0-py3-none-any.whl (128 kB)\n",
            "\u001b[2K   \u001b[90m━━━━━━━━━━━━━━━━━━━━━━━━━━━━━━━━━━━━━━━━\u001b[0m \u001b[32m128.4/128.4 kB\u001b[0m \u001b[31m10.4 MB/s\u001b[0m eta \u001b[36m0:00:00\u001b[0m\n",
            "\u001b[?25hDownloading yarl-1.18.3-cp311-cp311-manylinux_2_17_x86_64.manylinux2014_x86_64.whl (344 kB)\n",
            "\u001b[2K   \u001b[90m━━━━━━━━━━━━━━━━━━━━━━━━━━━━━━━━━━━━━━━━\u001b[0m \u001b[32m344.1/344.1 kB\u001b[0m \u001b[31m26.3 MB/s\u001b[0m eta \u001b[36m0:00:00\u001b[0m\n",
            "\u001b[?25hDownloading google_api_python_client-2.159.0-py2.py3-none-any.whl (12.8 MB)\n",
            "\u001b[2K   \u001b[90m━━━━━━━━━━━━━━━━━━━━━━━━━━━━━━━━━━━━━━━━\u001b[0m \u001b[32m12.8/12.8 MB\u001b[0m \u001b[31m85.5 MB/s\u001b[0m eta \u001b[36m0:00:00\u001b[0m\n",
            "\u001b[?25hDownloading tqdm-4.67.1-py3-none-any.whl (78 kB)\n",
            "\u001b[2K   \u001b[90m━━━━━━━━━━━━━━━━━━━━━━━━━━━━━━━━━━━━━━━━\u001b[0m \u001b[32m78.5/78.5 kB\u001b[0m \u001b[31m4.4 MB/s\u001b[0m eta \u001b[36m0:00:00\u001b[0m\n",
            "\u001b[?25hDownloading cachetools-5.5.0-py3-none-any.whl (9.5 kB)\n",
            "Downloading google_auth_httplib2-0.2.0-py2.py3-none-any.whl (9.3 kB)\n",
            "Downloading googleapis_common_protos-1.66.0-py2.py3-none-any.whl (221 kB)\n",
            "\u001b[2K   \u001b[90m━━━━━━━━━━━━━━━━━━━━━━━━━━━━━━━━━━━━━━━━\u001b[0m \u001b[32m221.7/221.7 kB\u001b[0m \u001b[31m17.0 MB/s\u001b[0m eta \u001b[36m0:00:00\u001b[0m\n",
            "\u001b[?25hDownloading httplib2-0.22.0-py3-none-any.whl (96 kB)\n",
            "\u001b[2K   \u001b[90m━━━━━━━━━━━━━━━━━━━━━━━━━━━━━━━━━━━━━━━━\u001b[0m \u001b[32m96.9/96.9 kB\u001b[0m \u001b[31m8.4 MB/s\u001b[0m eta \u001b[36m0:00:00\u001b[0m\n",
            "\u001b[?25hDownloading jsonpointer-3.0.0-py2.py3-none-any.whl (7.6 kB)\n",
            "Downloading proto_plus-1.25.0-py3-none-any.whl (50 kB)\n",
            "\u001b[2K   \u001b[90m━━━━━━━━━━━━━━━━━━━━━━━━━━━━━━━━━━━━━━━━\u001b[0m \u001b[32m50.1/50.1 kB\u001b[0m \u001b[31m3.7 MB/s\u001b[0m eta \u001b[36m0:00:00\u001b[0m\n",
            "\u001b[?25hDownloading pyasn1_modules-0.4.1-py3-none-any.whl (181 kB)\n",
            "\u001b[2K   \u001b[90m━━━━━━━━━━━━━━━━━━━━━━━━━━━━━━━━━━━━━━━━\u001b[0m \u001b[32m181.5/181.5 kB\u001b[0m \u001b[31m13.7 MB/s\u001b[0m eta \u001b[36m0:00:00\u001b[0m\n",
            "\u001b[?25hDownloading rsa-4.9-py3-none-any.whl (34 kB)\n",
            "Downloading uritemplate-4.1.1-py2.py3-none-any.whl (10 kB)\n",
            "Downloading anyio-4.8.0-py3-none-any.whl (96 kB)\n",
            "\u001b[2K   \u001b[90m━━━━━━━━━━━━━━━━━━━━━━━━━━━━━━━━━━━━━━━━\u001b[0m \u001b[32m96.0/96.0 kB\u001b[0m \u001b[31m8.1 MB/s\u001b[0m eta \u001b[36m0:00:00\u001b[0m\n",
            "\u001b[?25hDownloading grpcio-1.69.0-cp311-cp311-manylinux_2_17_x86_64.manylinux2014_x86_64.whl (5.9 MB)\n",
            "\u001b[2K   \u001b[90m━━━━━━━━━━━━━━━━━━━━━━━━━━━━━━━━━━━━━━━━\u001b[0m \u001b[32m5.9/5.9 MB\u001b[0m \u001b[31m76.3 MB/s\u001b[0m eta \u001b[36m0:00:00\u001b[0m\n",
            "\u001b[?25hDownloading grpcio_status-1.69.0-py3-none-any.whl (14 kB)\n",
            "Downloading h11-0.14.0-py3-none-any.whl (58 kB)\n",
            "\u001b[2K   \u001b[90m━━━━━━━━━━━━━━━━━━━━━━━━━━━━━━━━━━━━━━━━\u001b[0m \u001b[32m58.3/58.3 kB\u001b[0m \u001b[31m3.1 MB/s\u001b[0m eta \u001b[36m0:00:00\u001b[0m\n",
            "\u001b[?25hDownloading pyasn1-0.6.1-py3-none-any.whl (83 kB)\n",
            "\u001b[2K   \u001b[90m━━━━━━━━━━━━━━━━━━━━━━━━━━━━━━━━━━━━━━━━\u001b[0m \u001b[32m83.1/83.1 kB\u001b[0m \u001b[31m6.2 MB/s\u001b[0m eta \u001b[36m0:00:00\u001b[0m\n",
            "\u001b[?25hDownloading pyparsing-3.2.1-py3-none-any.whl (107 kB)\n",
            "\u001b[2K   \u001b[90m━━━━━━━━━━━━━━━━━━━━━━━━━━━━━━━━━━━━━━━━\u001b[0m \u001b[32m107.7/107.7 kB\u001b[0m \u001b[31m8.8 MB/s\u001b[0m eta \u001b[36m0:00:00\u001b[0m\n",
            "\u001b[?25hDownloading sniffio-1.3.1-py3-none-any.whl (10 kB)\n",
            "Installing collected packages: filetype, urllib3, uritemplate, typing-extensions, tqdm, tenacity, sniffio, PyYAML, pyparsing, pyasn1, protobuf, propcache, packaging, orjson, numpy, multidict, jsonpointer, idna, h11, grpcio, greenlet, frozenlist, charset-normalizer, certifi, cachetools, attrs, annotated-types, aiohappyeyeballs, yarl, SQLAlchemy, rsa, requests, pydantic-core, pyasn1-modules, proto-plus, jsonpatch, httplib2, httpcore, googleapis-common-protos, anyio, aiosignal, requests-toolbelt, pydantic, httpx, grpcio-status, google-auth, aiohttp, langsmith, google-auth-httplib2, google-api-core, langchain-core, google-api-python-client, langchain-text-splitters, google-ai-generativelanguage, langchain, google-generativeai, langchain-google-genai\n",
            "Successfully installed PyYAML-6.0.2 SQLAlchemy-2.0.37 aiohappyeyeballs-2.4.4 aiohttp-3.11.11 aiosignal-1.3.2 annotated-types-0.7.0 anyio-4.8.0 attrs-24.3.0 cachetools-5.5.0 certifi-2024.12.14 charset-normalizer-3.4.1 filetype-1.2.0 frozenlist-1.5.0 google-ai-generativelanguage-0.6.10 google-api-core-2.24.0 google-api-python-client-2.159.0 google-auth-2.37.0 google-auth-httplib2-0.2.0 google-generativeai-0.8.3 googleapis-common-protos-1.66.0 greenlet-3.1.1 grpcio-1.69.0 grpcio-status-1.69.0 h11-0.14.0 httpcore-1.0.7 httplib2-0.22.0 httpx-0.28.1 idna-3.10 jsonpatch-1.33 jsonpointer-3.0.0 langchain-0.3.14 langchain-core-0.3.30 langchain-google-genai-2.0.9 langchain-text-splitters-0.3.5 langsmith-0.2.11 multidict-6.1.0 numpy-1.26.4 orjson-3.10.15 packaging-24.2 propcache-0.2.1 proto-plus-1.25.0 protobuf-5.29.3 pyasn1-0.6.1 pyasn1-modules-0.4.1 pydantic-2.10.5 pydantic-core-2.27.2 pyparsing-3.2.1 requests-2.32.3 requests-toolbelt-1.0.0 rsa-4.9 sniffio-1.3.1 tenacity-9.0.0 tqdm-4.67.1 typing-extensions-4.12.2 uritemplate-4.1.1 urllib3-2.3.0 yarl-1.18.3\n"
          ]
        },
        {
          "output_type": "display_data",
          "data": {
            "application/vnd.colab-display-data+json": {
              "pip_warning": {
                "packages": [
                  "certifi",
                  "google",
                  "httplib2"
                ]
              },
              "id": "36406722d18e4a14b749b21feae456d3"
            }
          },
          "metadata": {}
        }
      ]
    },
    {
      "cell_type": "code",
      "source": [
        "import sys\n",
        "sys.path"
      ],
      "metadata": {
        "colab": {
          "base_uri": "https://localhost:8080/"
        },
        "id": "YSCYQpxZFTnl",
        "outputId": "2cd7bec8-2ddf-4fbf-96a4-bb620eb91f11"
      },
      "execution_count": null,
      "outputs": [
        {
          "output_type": "execute_result",
          "data": {
            "text/plain": [
              "['/content/drive/MyDrive/langchain_ttrl/env2/lib/python3.11/site-packages',\n",
              " '/content',\n",
              " '/env/python',\n",
              " '/usr/lib/python311.zip',\n",
              " '/usr/lib/python3.11',\n",
              " '/usr/lib/python3.11/lib-dynload',\n",
              " '',\n",
              " '/usr/local/lib/python3.11/dist-packages',\n",
              " '/usr/lib/python3/dist-packages',\n",
              " '/usr/local/lib/python3.11/dist-packages/IPython/extensions',\n",
              " '/usr/local/lib/python3.11/dist-packages/setuptools/_vendor',\n",
              " '/root/.ipython']"
            ]
          },
          "metadata": {},
          "execution_count": 9
        }
      ]
    },
    {
      "cell_type": "code",
      "source": [
        "import os\n",
        "from google.colab import userdata\n",
        "os.environ[\"GOOGLE_API_KEY\"] = userdata.get(\"GOOGLE_API_KEY\")"
      ],
      "metadata": {
        "id": "HPLoOatqJWA7"
      },
      "execution_count": null,
      "outputs": []
    },
    {
      "cell_type": "code",
      "source": [
        "# 랭체인의 구글Api를 사용합니다\n",
        "# 아래 패키지를 임포트 하기 전에 GOOGLE_API_KEY 변수를 먼저 선언할 것\n",
        "from langchain_google_genai import ChatGoogleGenerativeAI\n",
        "llm = ChatGoogleGenerativeAI(model = \"gemini-pro\", temperature=0.0)"
      ],
      "metadata": {
        "id": "fFOcSSJD57b9"
      },
      "execution_count": null,
      "outputs": []
    },
    {
      "cell_type": "code",
      "source": [
        "request = llm.invoke(\"파이썬에 대해 세 문장으로 설명해줘\")\n",
        "print(request.content)"
      ],
      "metadata": {
        "colab": {
          "base_uri": "https://localhost:8080/"
        },
        "id": "P6wvjjbp0jMz",
        "outputId": "a3b14bed-8e2f-4aec-d0f5-c7df528ef0a5"
      },
      "execution_count": null,
      "outputs": [
        {
          "output_type": "stream",
          "name": "stdout",
          "text": [
            "파이썬은 읽기 쉽고 쓰기 쉬운 고수준 프로그래밍 언어로, 다양한 분야에서 사용됩니다.\n",
            "동적 타이핑, 객체 지향 프로그래밍, 강력한 표준 라이브러리를 특징으로 합니다.\n",
            "인공 지능, 데이터 과학, 웹 개발과 같은 분야에서 널리 사용됩니다.\n"
          ]
        }
      ]
    },
    {
      "cell_type": "code",
      "source": [
        "example_queries_path = proj_path+\"/example_queries_ooch.csv\""
      ],
      "metadata": {
        "id": "VmqJeFjICmLx"
      },
      "execution_count": null,
      "outputs": []
    },
    {
      "cell_type": "code",
      "source": [
        "import pandas as pd"
      ],
      "metadata": {
        "id": "9kZqUGd_C30A"
      },
      "execution_count": null,
      "outputs": []
    },
    {
      "cell_type": "code",
      "source": [
        "query_df = pd.read_csv(example_queries_path)\n",
        "query_df.head()"
      ],
      "metadata": {
        "colab": {
          "base_uri": "https://localhost:8080/",
          "height": 206
        },
        "id": "5-HfvI53C9k4",
        "outputId": "bd51258f-1405-4dcf-d217-1ba1dca306a5"
      },
      "execution_count": null,
      "outputs": [
        {
          "output_type": "execute_result",
          "data": {
            "text/plain": [
              "                                            document          keywords\n",
              "0  “트럼프 2.0시대 개막 4대 테마는?” 에너지, AI·로봇,우주, 안보\\nhttp...  미국 정치 이슈와 산업 트렌드\n",
              "1  \\n시니어·AI·해외시장…신사업 시동거는 보험사\\nhttps://n.news.nav...          보험산업과 AI\n",
              "2  \\n망분리 규제 풀리자 AI·SaaS 도입 잇따르는 금융권\\nhttps://n.ne...          금융 AI 규제\n",
              "3  \\n젠슨황이 불 지핀 ‘피지컬 AI’…“실기하면 늦는다”\\nhttps://n.new...          물리 AI 로봇\n",
              "4  \\n\"AI와 AI가 협업하는 시대\"…새해 핵심 트렌드 'AI 오케스트레이션'\\nht...           에이전트 AI"
            ],
            "text/html": [
              "\n",
              "  <div id=\"df-1abd717f-a36c-4c29-a829-d399c75ab416\" class=\"colab-df-container\">\n",
              "    <div>\n",
              "<style scoped>\n",
              "    .dataframe tbody tr th:only-of-type {\n",
              "        vertical-align: middle;\n",
              "    }\n",
              "\n",
              "    .dataframe tbody tr th {\n",
              "        vertical-align: top;\n",
              "    }\n",
              "\n",
              "    .dataframe thead th {\n",
              "        text-align: right;\n",
              "    }\n",
              "</style>\n",
              "<table border=\"1\" class=\"dataframe\">\n",
              "  <thead>\n",
              "    <tr style=\"text-align: right;\">\n",
              "      <th></th>\n",
              "      <th>document</th>\n",
              "      <th>keywords</th>\n",
              "    </tr>\n",
              "  </thead>\n",
              "  <tbody>\n",
              "    <tr>\n",
              "      <th>0</th>\n",
              "      <td>“트럼프 2.0시대 개막 4대 테마는?” 에너지, AI·로봇,우주, 안보\\nhttp...</td>\n",
              "      <td>미국 정치 이슈와 산업 트렌드</td>\n",
              "    </tr>\n",
              "    <tr>\n",
              "      <th>1</th>\n",
              "      <td>\\n시니어·AI·해외시장…신사업 시동거는 보험사\\nhttps://n.news.nav...</td>\n",
              "      <td>보험산업과 AI</td>\n",
              "    </tr>\n",
              "    <tr>\n",
              "      <th>2</th>\n",
              "      <td>\\n망분리 규제 풀리자 AI·SaaS 도입 잇따르는 금융권\\nhttps://n.ne...</td>\n",
              "      <td>금융 AI 규제</td>\n",
              "    </tr>\n",
              "    <tr>\n",
              "      <th>3</th>\n",
              "      <td>\\n젠슨황이 불 지핀 ‘피지컬 AI’…“실기하면 늦는다”\\nhttps://n.new...</td>\n",
              "      <td>물리 AI 로봇</td>\n",
              "    </tr>\n",
              "    <tr>\n",
              "      <th>4</th>\n",
              "      <td>\\n\"AI와 AI가 협업하는 시대\"…새해 핵심 트렌드 'AI 오케스트레이션'\\nht...</td>\n",
              "      <td>에이전트 AI</td>\n",
              "    </tr>\n",
              "  </tbody>\n",
              "</table>\n",
              "</div>\n",
              "    <div class=\"colab-df-buttons\">\n",
              "\n",
              "  <div class=\"colab-df-container\">\n",
              "    <button class=\"colab-df-convert\" onclick=\"convertToInteractive('df-1abd717f-a36c-4c29-a829-d399c75ab416')\"\n",
              "            title=\"Convert this dataframe to an interactive table.\"\n",
              "            style=\"display:none;\">\n",
              "\n",
              "  <svg xmlns=\"http://www.w3.org/2000/svg\" height=\"24px\" viewBox=\"0 -960 960 960\">\n",
              "    <path d=\"M120-120v-720h720v720H120Zm60-500h600v-160H180v160Zm220 220h160v-160H400v160Zm0 220h160v-160H400v160ZM180-400h160v-160H180v160Zm440 0h160v-160H620v160ZM180-180h160v-160H180v160Zm440 0h160v-160H620v160Z\"/>\n",
              "  </svg>\n",
              "    </button>\n",
              "\n",
              "  <style>\n",
              "    .colab-df-container {\n",
              "      display:flex;\n",
              "      gap: 12px;\n",
              "    }\n",
              "\n",
              "    .colab-df-convert {\n",
              "      background-color: #E8F0FE;\n",
              "      border: none;\n",
              "      border-radius: 50%;\n",
              "      cursor: pointer;\n",
              "      display: none;\n",
              "      fill: #1967D2;\n",
              "      height: 32px;\n",
              "      padding: 0 0 0 0;\n",
              "      width: 32px;\n",
              "    }\n",
              "\n",
              "    .colab-df-convert:hover {\n",
              "      background-color: #E2EBFA;\n",
              "      box-shadow: 0px 1px 2px rgba(60, 64, 67, 0.3), 0px 1px 3px 1px rgba(60, 64, 67, 0.15);\n",
              "      fill: #174EA6;\n",
              "    }\n",
              "\n",
              "    .colab-df-buttons div {\n",
              "      margin-bottom: 4px;\n",
              "    }\n",
              "\n",
              "    [theme=dark] .colab-df-convert {\n",
              "      background-color: #3B4455;\n",
              "      fill: #D2E3FC;\n",
              "    }\n",
              "\n",
              "    [theme=dark] .colab-df-convert:hover {\n",
              "      background-color: #434B5C;\n",
              "      box-shadow: 0px 1px 3px 1px rgba(0, 0, 0, 0.15);\n",
              "      filter: drop-shadow(0px 1px 2px rgba(0, 0, 0, 0.3));\n",
              "      fill: #FFFFFF;\n",
              "    }\n",
              "  </style>\n",
              "\n",
              "    <script>\n",
              "      const buttonEl =\n",
              "        document.querySelector('#df-1abd717f-a36c-4c29-a829-d399c75ab416 button.colab-df-convert');\n",
              "      buttonEl.style.display =\n",
              "        google.colab.kernel.accessAllowed ? 'block' : 'none';\n",
              "\n",
              "      async function convertToInteractive(key) {\n",
              "        const element = document.querySelector('#df-1abd717f-a36c-4c29-a829-d399c75ab416');\n",
              "        const dataTable =\n",
              "          await google.colab.kernel.invokeFunction('convertToInteractive',\n",
              "                                                    [key], {});\n",
              "        if (!dataTable) return;\n",
              "\n",
              "        const docLinkHtml = 'Like what you see? Visit the ' +\n",
              "          '<a target=\"_blank\" href=https://colab.research.google.com/notebooks/data_table.ipynb>data table notebook</a>'\n",
              "          + ' to learn more about interactive tables.';\n",
              "        element.innerHTML = '';\n",
              "        dataTable['output_type'] = 'display_data';\n",
              "        await google.colab.output.renderOutput(dataTable, element);\n",
              "        const docLink = document.createElement('div');\n",
              "        docLink.innerHTML = docLinkHtml;\n",
              "        element.appendChild(docLink);\n",
              "      }\n",
              "    </script>\n",
              "  </div>\n",
              "\n",
              "\n",
              "<div id=\"df-cfc1752d-994e-4658-8b0a-d36d06ea1a44\">\n",
              "  <button class=\"colab-df-quickchart\" onclick=\"quickchart('df-cfc1752d-994e-4658-8b0a-d36d06ea1a44')\"\n",
              "            title=\"Suggest charts\"\n",
              "            style=\"display:none;\">\n",
              "\n",
              "<svg xmlns=\"http://www.w3.org/2000/svg\" height=\"24px\"viewBox=\"0 0 24 24\"\n",
              "     width=\"24px\">\n",
              "    <g>\n",
              "        <path d=\"M19 3H5c-1.1 0-2 .9-2 2v14c0 1.1.9 2 2 2h14c1.1 0 2-.9 2-2V5c0-1.1-.9-2-2-2zM9 17H7v-7h2v7zm4 0h-2V7h2v10zm4 0h-2v-4h2v4z\"/>\n",
              "    </g>\n",
              "</svg>\n",
              "  </button>\n",
              "\n",
              "<style>\n",
              "  .colab-df-quickchart {\n",
              "      --bg-color: #E8F0FE;\n",
              "      --fill-color: #1967D2;\n",
              "      --hover-bg-color: #E2EBFA;\n",
              "      --hover-fill-color: #174EA6;\n",
              "      --disabled-fill-color: #AAA;\n",
              "      --disabled-bg-color: #DDD;\n",
              "  }\n",
              "\n",
              "  [theme=dark] .colab-df-quickchart {\n",
              "      --bg-color: #3B4455;\n",
              "      --fill-color: #D2E3FC;\n",
              "      --hover-bg-color: #434B5C;\n",
              "      --hover-fill-color: #FFFFFF;\n",
              "      --disabled-bg-color: #3B4455;\n",
              "      --disabled-fill-color: #666;\n",
              "  }\n",
              "\n",
              "  .colab-df-quickchart {\n",
              "    background-color: var(--bg-color);\n",
              "    border: none;\n",
              "    border-radius: 50%;\n",
              "    cursor: pointer;\n",
              "    display: none;\n",
              "    fill: var(--fill-color);\n",
              "    height: 32px;\n",
              "    padding: 0;\n",
              "    width: 32px;\n",
              "  }\n",
              "\n",
              "  .colab-df-quickchart:hover {\n",
              "    background-color: var(--hover-bg-color);\n",
              "    box-shadow: 0 1px 2px rgba(60, 64, 67, 0.3), 0 1px 3px 1px rgba(60, 64, 67, 0.15);\n",
              "    fill: var(--button-hover-fill-color);\n",
              "  }\n",
              "\n",
              "  .colab-df-quickchart-complete:disabled,\n",
              "  .colab-df-quickchart-complete:disabled:hover {\n",
              "    background-color: var(--disabled-bg-color);\n",
              "    fill: var(--disabled-fill-color);\n",
              "    box-shadow: none;\n",
              "  }\n",
              "\n",
              "  .colab-df-spinner {\n",
              "    border: 2px solid var(--fill-color);\n",
              "    border-color: transparent;\n",
              "    border-bottom-color: var(--fill-color);\n",
              "    animation:\n",
              "      spin 1s steps(1) infinite;\n",
              "  }\n",
              "\n",
              "  @keyframes spin {\n",
              "    0% {\n",
              "      border-color: transparent;\n",
              "      border-bottom-color: var(--fill-color);\n",
              "      border-left-color: var(--fill-color);\n",
              "    }\n",
              "    20% {\n",
              "      border-color: transparent;\n",
              "      border-left-color: var(--fill-color);\n",
              "      border-top-color: var(--fill-color);\n",
              "    }\n",
              "    30% {\n",
              "      border-color: transparent;\n",
              "      border-left-color: var(--fill-color);\n",
              "      border-top-color: var(--fill-color);\n",
              "      border-right-color: var(--fill-color);\n",
              "    }\n",
              "    40% {\n",
              "      border-color: transparent;\n",
              "      border-right-color: var(--fill-color);\n",
              "      border-top-color: var(--fill-color);\n",
              "    }\n",
              "    60% {\n",
              "      border-color: transparent;\n",
              "      border-right-color: var(--fill-color);\n",
              "    }\n",
              "    80% {\n",
              "      border-color: transparent;\n",
              "      border-right-color: var(--fill-color);\n",
              "      border-bottom-color: var(--fill-color);\n",
              "    }\n",
              "    90% {\n",
              "      border-color: transparent;\n",
              "      border-bottom-color: var(--fill-color);\n",
              "    }\n",
              "  }\n",
              "</style>\n",
              "\n",
              "  <script>\n",
              "    async function quickchart(key) {\n",
              "      const quickchartButtonEl =\n",
              "        document.querySelector('#' + key + ' button');\n",
              "      quickchartButtonEl.disabled = true;  // To prevent multiple clicks.\n",
              "      quickchartButtonEl.classList.add('colab-df-spinner');\n",
              "      try {\n",
              "        const charts = await google.colab.kernel.invokeFunction(\n",
              "            'suggestCharts', [key], {});\n",
              "      } catch (error) {\n",
              "        console.error('Error during call to suggestCharts:', error);\n",
              "      }\n",
              "      quickchartButtonEl.classList.remove('colab-df-spinner');\n",
              "      quickchartButtonEl.classList.add('colab-df-quickchart-complete');\n",
              "    }\n",
              "    (() => {\n",
              "      let quickchartButtonEl =\n",
              "        document.querySelector('#df-cfc1752d-994e-4658-8b0a-d36d06ea1a44 button');\n",
              "      quickchartButtonEl.style.display =\n",
              "        google.colab.kernel.accessAllowed ? 'block' : 'none';\n",
              "    })();\n",
              "  </script>\n",
              "</div>\n",
              "\n",
              "    </div>\n",
              "  </div>\n"
            ],
            "application/vnd.google.colaboratory.intrinsic+json": {
              "type": "dataframe",
              "variable_name": "query_df",
              "summary": "{\n  \"name\": \"query_df\",\n  \"rows\": 30,\n  \"fields\": [\n    {\n      \"column\": \"document\",\n      \"properties\": {\n        \"dtype\": \"string\",\n        \"num_unique_values\": 30,\n        \"samples\": [\n          \"\\n\\ub77c\\uc774\\uce74 \\ud488\\uc740 AI \\ud3f0\\uc774 50\\ub9cc\\uc6d0\\ub300?\\u2026\\ud1b5\\ud654\\ub179\\uc74c \\uace0\\uc9c0\\uac00 \\uc544\\uc27d\\ub124[\\uc787:\\uc368\\ubd10]\\nhttps://n.news.naver.com/mnews/article/018/0005927594?sid=105\\n\\uc0e4\\uc624\\ubbf8 14T \\uc368\\ubcf4\\ub2c8 \\uce74\\uba54\\ub77c\\uc5d0 \\uc2a4\\ud399 '\\uc62c\\uc778'\\u2026\\ub77c\\uc774\\uce74 \\uac10\\uc131 \\uacb0\\uacfc\\ubb3c\\uc5d0 \\ub9cc\\uc871\\u2191 \\uae30\\uc0ac \\uc694\\uc57d\\u00b7\\uc790\\ub3d9\\uc790\\ub9c9\\u00b7\\uc0ac\\uc9c4 \\uc9c0\\uc6b0\\uae30 \\ub4f1 AI \\uae30\\ub2a5\\ub3c4 \\ud6cc\\ub96d \\uc544\\uc26c\\uc6b4 \\uc810 \\uc788\\uc9c0\\ub9cc, \\uc11c\\ube0c\\ud3f0\\uc73c\\ub85c \\uad1c\\ucc2e\\uc740 \\ub4ef IT \\uc5c5\\uacc4\\ub294 \\ub298\\uc0c1 \\uc0c8\\ub85c\\uc6b4 \\uac83\\ub4e4\\uc774 \\uc3df\\uc544\\uc9d1\\ub2c8\\ub2e4. \\uae30\\uae30\\uac00 \\ub420 \\uc218\\ub3c4 \\uc788\\uace0, \\uac8c\\uc784\\uc774\\ub098 \\ud504\\ub85c\\uadf8\\ub7a8\\uc774 \\ub420 \\uc218\\ub3c4 \\uc788\\uc9c0\\uc694. \\ubc14\\uc05c \\uc77c\\uc0c1 \\uc18d, \\ub9ce\\uc740 \\uc0ac\\ub78c\\ub4e4\\uc774 \\uadf8\\ub0e5 \\uae30\\uc0ac\\ub85c\\ub9cc \\u2018\\uc544 \\uc774\\ub7f0 \\uac70\\uad6c\\ub098\\u2019\\ud558\\uace0 \\ub118\\uc5b4\\uac00\\ub294 \\uacbd\\uc6b0\\ub3c4 \\ub9ce\\uc2b5\\ub2c8\\ub2e4. \\ud558\\uc9c0\\ub9cc \\uc9c1\\uc811 \\uc368\\ubd10\\uc57c \\uc54c \\uc218 \\uc788\\ub294 \\uac83, \\uc368\\ubcf4\\uc9c0 \\uc54a\\uc73c\\uba74 \\uc54c \\uc218 \\uc5c6\\ub294 \\uac83\\ub4e4\\ub3c4 \\ub9ce\\uc9c0\\uc694. \\uadf8\\ub798\\uc11c \\uc774\\ub370\\uc77c\\ub9ac ICT \\ubd80\\uc5d0\\uc11c\\ub294 \\uc9c1\\uc811 \\ud574\\ubcf4\\uace0 \\ub09c \\ub4a4\\uc758 \\uc0dd\\uc0dd\\ud55c \\ub290\\ub08c\\uc744 [\\uc787( IT ):\\uc368\\ubd10]\\uc5d0 \\uc228\\uae40\\uc5c6\\uc774 \\uadf8\\ub300\\ub85c \\uc804\\ub2ec\\ud574 \\ub4dc\\ub9ac\\uae30\\ub85c \\ud588\\uc2b5\\ub2c8\\ub2e4. \\uc194\\uc9c1\\ud558\\uc9c0 \\uc54a\\uc740 \\ub9ac\\ubdf0\\ub294 \\ub2f4\\uc9c0 \\uc54a\\uaca0\\uc2b5\\ub2c8\\ub2e4.[\\ud3b8\\uc9d1\\uc790 \\uc8fc] [\\uc774\\ub370\\uc77c\\ub9ac \\uc784\\uc720\\uacbd \\uae30\\uc790] \\u201c\\uc544\\ubb34\\ub807\\uac8c\\ub098 \\ucc0d\\uc5b4\\ub3c4 \\uc778\\uc2a4\\ud0c0 \\uac01\\uc774\\ub124\\u201d \\uc0ac\\uc9c4 \\ubabb \\ucc0d\\ub294 \\ub625\\uc190\\ub4e4\\uc744 \\uad6c\\uc81c\\ud574 \\uc904 \\uc911\\uae09\\uae30 \\uc2a4\\ub9c8\\ud2b8\\ud3f0\\uc774 \\ub098\\uc654\\ub2e4. \\uac24\\ub7ed\\uc2dc S24 \\uae09 \\uc2a4\\ud399 \\uce74\\uba54\\ub77c\\uc5d0 \\ub77c\\uc774\\uce74 \\ub80c\\uc988\\ub85c \\uac10\\uc131\\uc744 \\ub354\\ud55c \\u2018\\uc0e4\\uc624\\ubbf8 14T\\u2019 \\uc598\\uae30\\ub2e4. \\uae30\\uc0ac \\uc694\\uc57d, \\uc74c\\uc131 \\ud14d\\uc2a4\\ud2b8 \\ubcc0\\ud658, \\uc11c\\ud074 \\ud22c \\uc11c\\uce58 \\ub4f1 \\ub2e4\\uc591\\ud55c \\uc778\\uacf5\\uc9c0\\ub2a5( AI ) \\uae30\\ub2a5\\uc744 \\uc81c\\uacf5\\ud558\\ub294 \\uac83\\ub3c4 \\uc7a5\\uc810\\uc774\\ub2e4. \\uc2a4\\ud399\\uc740 \\uce74\\uba54\\ub77c\\uc5d0 \\uc62c\\uc778\\ud55c \\uac83\\uc774 \\ubd84\\uba85\\ud574 \\ubcf4\\uc774\\ub294\\ub370 \\uac00\\uaca9\\uc740 50\\ub9cc\\uc6d0 \\ud6c4\\ubc18\\ub300\\ub77c \\u2018\\uac00\\uaca9 \\ub300\\ube44 \\uc131\\ub2a5(\\uac00\\uc131\\ube44)\\u2019\\uc5d0 \\ub300\\ud55c \\ud3c9\\uac00\\ub294 \\uc5c7\\uac08\\ub9b4 \\uc218 \\uc788\\uc9c0\\ub9cc, \\uc88b\\ud569\\uc801\\uc73c\\ub85c \\ub530\\uc838\\ubcf4\\uba74 \\uc11c\\ube0c\\ud3f0\\uc73c\\ub85c \\uc4f0\\uae30\\uc5d0 \\uad1c\\ucc2e\\uc744 \\uac83 \\uac19\\uc740 \\ub290\\ub08c\\uc774\\ub2e4. \\uc0e4\\uc624\\ubbf8 14T(\\uc0ac\\uc9c4=\\uc784\\uc720\\uacbd \\uae30\\uc790) \\uc0e4\\uc624\\ubbf8 14T\\ub97c \\ub300\\uc5ec\\ud574 \\uc0ac\\uc6a9\\ud574 \\ubcf4\\ub2c8 \\uc5ed\\uc2dc \\uce74\\uba54\\ub77c\\uac00 \\uac00\\uc7a5 \\uc778\\uc0c1\\uc801\\uc600\\ub2e4. \\uc911\\uae09\\uae30\\ub85c \\ud3ec\\uc9c0\\uc154\\ub2dd\\ub41c \\uc81c\\ud488\\uc778\\ub370 \\uce74\\uba54\\ub77c\\ub9cc\\uc740 \\ud504\\ub9ac\\ubbf8\\uc5c4\\uae09 \\uc2a4\\ud399\\uc774\\ub2e4. \\uba54\\uc778 \\uce74\\uba54\\ub77c\\ub294 5000\\ub9cc \\ud654\\uc18c, f /1.7 \\uc870\\ub9ac\\uac1c, 1/1.56 \\uc18c\\ub2c8 \\ub300\\ud615 \\uc774\\ubbf8\\uc9c0 \\uc13c\\uc11c\\ub97c \\ud0d1\\uc7ac\\ud574 \\uc800\\uc870\\ub3c4, \\uc57c\\uac04 \\ucd2c\\uc601\\uc5d0\\uc11c\\ub3c4 \\uace0\\ud488\\uc9c8\\uc758 \\uacb0\\uacfc\\ubb3c\\uc744 \\ub9cc\\ub4e4\\uc5b4\\ub0c8\\ub2e4. \\uc544\\uc6b8\\ub7ec 5000\\ub9cc \\ud654\\uc18c \\ub9dd\\uc6d0 \\uce74\\uba54\\ub77c, 1200\\ub9cc\\ud654\\uc18c \\ucd08\\uad11\\uac01 \\uce74\\uba54\\ub77c\\uae4c\\uc9c0 \\ud2b8\\ub9ac\\ud50c\\ub80c\\uc988\\ub85c \\ub2e4\\uc591\\ud55c \\ucd08\\uc810 \\uac70\\ub9ac\\uc5d0\\uc11c \\uc120\\uba85\\ud55c \\ucd2c\\uc601\\uc774 \\uac00\\ub2a5\\ud588\\ub2e4. \\ud2b9\\ud788 \\ub77c\\uc774\\uce74 \\ub80c\\uc988\\ub97c \\ucc44\\ud0dd\\ud55c \\ub355\\uc5d0 \\uc0c9\\uc7ac\\ud604\\ub3c4\\uc640 \\uc120\\uba85\\ub3c4\\uac00 \\ub6f0\\uc5b4\\ub09c \\ub77c\\uc774\\uce74 \\ud2b9\\uc720\\uc758 \\uac10\\uc131\\uc774 \\ub2f4\\uae34 \\uacb0\\uacfc\\ubb3c\\uc744 \\uc5bb\\uc744 \\uc218 \\uc788\\ub2e4\\ub294 \\uc810\\uc774 \\ub9e4\\ub825\\uc801\\uc600\\ub2e4. \\uc0ac\\uc9c4\\uc5d0 \\ub77c\\uc774\\uce74 \\uc6cc\\ud130\\ub9c8\\ud06c\\ub97c \\uc801\\uc6a9\\ud560 \\uc218 \\uc788\\ub2e4.(\\uc0ac\\uc9c4=\\uc784\\uc720\\uacbd \\uae30\\uc790) \\uc0e4\\uc624\\ubbf8 14T\\ub294 \\ub2e4\\uc591\\ud55c AI \\uae30\\ub2a5\\ub3c4 \\uc81c\\uacf5\\ud55c\\ub2e4. \\uac00\\uc7a5 \\ub9ce\\uc774 \\uc4f8 \\uac70 \\uac19\\uc740 \\uae30\\ub2a5\\uc740 \\u2018\\ubbf8\\ube0c\\ub77c\\uc6b0\\uc800(\\uc790\\uccb4 \\uc6f9 \\ube0c\\ub77c\\uc6b0\\uc800)\\u2019\\uc5d0 \\ud3ec\\ud568\\ub41c \\u2018 AI \\uc694\\uc57d\\u2019\\uc774\\ub2e4. \\uae30\\uc0ac\\uc758 \\uc694\\uc810\\uc744 \\uc694\\uc57d\\ud574\\uc8fc\\ub294 AI \\uae30\\ub2a5\\uc740 \\ub2e4\\ub978 \\uc11c\\ube44\\uc2a4\\uc5d0\\ub3c4 \\ub9ce\\uc9c0\\ub9cc, \\ubbf8\\ube0c\\ub77c\\uc6b0\\uc800\\ub294 \\ud55c \\ub2e8\\uacc4 \\ub098\\uc544\\uac00 AI \\ucc57\\ubd07\\uacfc \\uad00\\ub828\\ub41c \\uc9c8\\uc758\\uc751\\ub2f5\\uc744 \\ud560 \\uc218 \\uc788\\ub294 \\uae30\\ub2a5\\uc744 \\ucd94\\uac00\\ud588\\ub2e4. \\uc0ac\\uc6a9\\uc790\\uac00 \\ucd94\\uac00\\ub85c \\uad81\\uae08\\ud574\\ud560 \\ub9cc\\ud55c \\uc9c8\\ubb38\\uc744 AI \\uac00 \\ucd94\\ucc9c\\ub3c4 \\ud574\\uc900\\ub2e4. \\uc2dc\\ubd80\\ubaa8\\ub2d8\\uc774 \\ub9c8\\ub828\\ud574 \\uc900 \\uc0c1\\uac00\\uac00 \\uc774\\ud63c \\uc2dc \\uc7ac\\uc0b0\\ubd84\\ud560\\uc758 \\ub300\\uc0c1\\uc774 \\ub418\\ub294\\uc9c0 \\ubb3b\\ub294 \\uc0ac\\uc5f0\\uc744 \\uc18c\\uac1c\\ud558\\ub294 \\uae30\\uc0ac\\ub97c \\uc694\\uc57d\\ud588\\ub354\\ub2c8, \\u201c\\uc591\\uc721\\ube44\\uc640 \\uc0dd\\ud65c\\ube44\\ub3c4 \\uccad\\uad6c\\ud560 \\uc218 \\uc788\\ub098\\uc694\\u201d\\ub77c\\ub294 \\uc9c8\\ubb38\\uc774 \\ud568\\uaed8 \\ucd94\\ucc9c\\ub410\\ub2e4. \\uae30\\uc0ac \\uc18d \\u2018\\ub0a8\\ud3b8\\uc774 \\uc9d1\\uc744 \\ub098\\uac00\\uace0 \\uc0dd\\ud65c\\ube44\\ub97c \\uc8fc\\uc9c0 \\uc54a\\uace0 \\uc788\\ub2e4\\u2019\\ub294 \\uc0ac\\uc5f0 \\ub0b4\\uc6a9\\uc744 \\ubcf4\\uace0 \\ucd94\\ucc9c\\ud55c \\uac83\\uc774\\ub2e4. \\uc774 \\uc9c8\\ubb38\\uc5d0 \\ub300\\ud55c \\ub2f5\\ubcc0\\uc740 \\uae30\\uc0ac \\ub0b4\\uc6a9 \\uc911 \\uc5c6\\uc5c8\\ub294\\ub370, AI \\uac80\\uc0c9\\uc744 \\ud1b5\\ud574 \\uc81c\\uacf5\\ud55c \\uac83\\uc73c\\ub85c \\ubcf4\\uc600\\ub2e4. \\ub2e4\\ub9cc, \\ub2f5\\ubcc0\\uc758 \\ucd9c\\ucc98\\uac00 \\ud45c\\uc2dc\\ub418\\uc9c0 \\uc54a\\uc544 \\uc2e0\\ub8b0\\ub3c4\\ub97c \\ud3c9\\uac00\\ud558\\uae30 \\uc5b4\\ub835\\ub2e4\\ub294 \\uc810\\uc740 \\uc544\\uc26c\\uc6e0\\ub2e4. \\uae30\\uc0ac \\ub0b4\\uc6a9\\uc744 \\uc694\\uc57d\\ud574\\uc8fc\\uace0 \\uad00\\ub828\\ub41c \\ucd94\\uac00 \\uc9c8\\ubb38\\uc5d0\\ub3c4 \\ub2f5\\ubcc0\\ud574\\uc8fc\\ub294 \\ubaa8\\uc2b5. \\uc81c\\uc5b4\\uc13c\\ud130(\\ud654\\uba74 \\uc624\\ub978\\ucabd \\uc0c1\\ub2e8\\uc744 \\uc4f8\\uc5b4\\ub0b4\\ub9ac\\uba74 \\ub098\\ud0c0\\ub0a8) \\uc5d0\\uc11c \\uc774\\uc6a9\\ud560 \\uc218 \\uc788\\ub294 \\uc2dc\\uc2a4\\ud15c \\ub0b4\\uc7a5 AI \\uae30\\ub2a5\\ub4e4\\ub3c4 \\uc788\\ub2e4. \\uc2a4\\ub9c8\\ud2b8\\ud3f0\\uc5d0\\uc11c \\uc7ac\\uc0dd\\ub418\\ub294 \\uc624\\ub514\\uc624\\ub97c AI \\uac00 \\ub4e3\\uace0 \\uc804\\uc0ac(\\ud14d\\uc2a4\\ud2b8 \\ubcc0\\ud658)\\ud574\\uc8fc\\ub294 \\u2018\\uc2e4\\uc2dc\\uac04 \\uc790\\ub9c9\\u2019 \\uae30\\ub2a5\\uc740  \\uc790\\ub9c9\\uc774 \\uc5c6\\ub294 \\uc2e4\\uc2dc\\uac04 \\uc628\\ub77c\\uc778 \\uac15\\uc758\\ub97c \\ub4e4\\uc744 \\ub54c \\uc720\\uc6a9\\ud560 \\uac83 \\uac19\\uc558\\ub2e4. \\uc6d0\\ud558\\ub294 \\uc5b8\\uc5b4\\ub85c \\ub3d9\\uc2dc \\ubc88\\uc5ed\\ub3c4 \\uac00\\ub2a5\\ud55c\\ub370 \\uc601\\uc5b4->\\ud55c\\uad6d\\uc5b4 \\uc2e4\\uc2dc\\uac04 \\uc790\\ub3d9 \\ubc88\\uc5ed\\uc740 \\uc815\\ud655\\ud558\\uc9c4 \\uc54a\\uc558\\ub2e4. \\uc678\\uad6d\\uc778\\uacfc \\ub9c8\\uc8fc \\ubcf4\\uace0 \\uac01\\uc790 \\uc5b8\\uc5b4\\ub85c \\uc774\\uc57c\\uae30\\ud558\\uba74 \\uc2e4\\uc2dc\\uac04\\uc73c\\ub85c \\ud1b5\\uc5ed\\ub418\\ub294 \\u2018\\uc624\\ub514\\uc624 \\ud574\\uc11d\\u2019 \\uae30\\ub2a5\\ub3c4 \\uc81c\\uc5b4\\uc13c\\ud130\\uc5d0\\uc11c \\uc81c\\uacf5\\ub41c\\ub2e4. \\uc774 \\uae30\\ub2a5\\uc740 \\uc628\\ub514\\ubc14\\uc774\\uc2a4\\ub85c \\uc81c\\uacf5\\ub418\\ub294 \\uac8c \\uc544\\ub2c8\\ub77c\\uc11c \\uc778\\ud130\\ub137\\uc774 \\uc5f0\\uacb0\\ub41c \\uc0c1\\ud0dc\\uc5d0\\uc11c\\ub9cc \\uc774\\uc6a9\\ud560 \\uc218 \\uc788\\uc5c8\\ub2e4. \\uc0ac\\uc9c4\\uc571\\uc5d0\\uc11c AI \\uc9c0\\uc6b0\\uae30 \\uae30\\ub2a5\\uc744 \\uc774\\uc6a9\\ud574 \\ubbf8\\ub044\\ub7fc\\ud2c0\\uc744 \\uc9c0\\uc6cc\\ubd24\\ub2e4. \\uc774\\uc678\\uc5d0\\ub3c4 \\uba54\\ubaa8 \\uc571\\uc5d0\\uc120 \\uc0ac\\uc6a9\\uc790\\uac00 \\uc791\\uc131\\ud55c \\ud14d\\uc2a4\\ud2b8\\ub97c AI \\uac00 \\uc694\\uc57d\\u00b7\\uad50\\uc815\\ud574\\uc8fc\\ub294 \\uae30\\ub2a5\\uc744, \\uc0ac\\uc9c4 \\uc571\\uc5d0\\uc120 AI \\ub85c \\ubd88\\ud544\\uc694\\ud55c \\ubd80\\ubd84\\uc744 \\uc9c0\\uc6b0\\uace0 \\ubc30\\uacbd\\uc744 \\uc790\\ub3d9\\uc73c\\ub85c \\uc5f0\\uc7a5\\ud574\\uc8fc\\ub294 \\uae30\\ub2a5\\uc744 \\uc81c\\uacf5\\ud55c\\ub2e4. \\ub610 \\uad6c\\uae00\\uc758 AI \\ucc57\\ubd07 \\uc11c\\ube44\\uc2a4 \\uc81c\\ubbf8\\ub098\\uc774 \\uc571\\uacfc \\ud654\\uba74\\uc5d0 \\ub3d9\\uadf8\\ub77c\\ubbf8\\ub97c \\uadf8\\ub9ac\\uba74 \\uad00\\ub828 \\uac80\\uc0c9 \\uacb0\\uacfc\\ub97c \\uc81c\\uacf5\\ud574\\uc8fc\\ub294 \\u2018\\uc11c\\ud074 \\ud22c \\uc11c\\uce58\\u2019 \\uae30\\ub2a5\\ub3c4 \\ud0d1\\uc7ac\\ub410\\ub2e4. \\uc544\\uc26c\\uc6b4 \\uc810\\ub3c4 \\uc5c6\\uc9c0 \\uc54a\\uc558\\ub2e4. \\uc0e4\\uc624\\ubbf8 14T\\ub294 \\ud1b5\\ud654 \\ub179\\uc74c\\uc744 \\uc9c0\\uc6d0\\ud558\\ub294\\ub370, \\ud55c\\uad6d\\uc5d0\\uc120 \\uc790\\ub3d9 \\ud1b5\\ud654\\ub179\\uc74c\\uc774 \\ub418\\uc9c0 \\uc54a\\uace0 \\ud1b5\\ud654 \\ub179\\uc74c \\ubc84\\ud2bc\\uc744 \\ub204\\ub974\\uba74 \\ud1b5\\ud654\\uac00 \\ub179\\uc74c\\ub41c\\ub2e4\\ub294 \\uc548\\ub0b4 \\uba58\\ud2b8\\uac00 \\ub098\\uac04\\ub2e4. \\uac24\\ub7ed\\uc2dc\\uc758 \\uc790\\ub3d9 \\ud1b5\\ud654\\ub179\\uc74c\\uc5d0 \\uc775\\uc219\\ud55c \\uad6d\\ub0b4 \\uc0ac\\uc6a9\\uc790\\ub4e4\\uc5d0\\uac90 \\uac00\\uc7a5 \\uc544\\uc27d\\uac8c \\ub290\\uaef4\\uc9c0\\ub294 \\ubd80\\ubd84\\uc77c \\uac83 \\uac19\\ub2e4. \\ub610 \\uc0e4\\uc624\\ubbf8\\ub294 \\uc774 \\uc81c\\ud488\\uc774 \\ucd5c\\ub300 144Hz\\uc758 \\uc8fc\\uc0ac\\uc728\\uc744 \\uc9c0\\uc6d0\\ud55c\\ub2e4\\uace0 \\ud558\\ub294\\ub370, \\uc0ac\\uc591\\uacfc \\ub2ec\\ub9ac \\ud654\\uba74 \\ub118\\uae40\\uc774 \\ubd80\\ub4dc\\ub7fd\\uc9c0 \\uc54a\\ub2e4\\ub294 \\ub290\\ub08c\\uc744 \\ubc1b\\uc558\\ub2e4. \\uc0e4\\uc624\\ubbf8 14T\\ub294 \\uc560\\ud50c\\ub9ac\\ucf00\\uc774\\uc158 \\ud504\\ub85c\\uc138\\uc11c( AP )\\ub85c \\ubbf8\\ub514\\uc5b4\\ud14d \\ub514\\uba58\\uc2dc\\ud2f0 8300\\uc6b8\\ud2b8\\ub77c\\ub97c \\ud0d1\\uc7ac\\ud588\\uace0, 12GB \\ub7a8, 5000\\u3383h \\ubc30\\ud130\\ub9ac, 67W \\uace0\\uc18d\\ucda9\\uc804(\\ubb34\\uc120\\ucda9\\uc804 \\uc9c0\\uc6d0X)\\uc744 \\uc9c0\\uc6d0\\ud55c\\ub2e4. \\uac00\\uaca9\\uc740 \\uc800\\uc7a5\\uc6a9\\ub7c9\\uc5d0 \\ub530\\ub77c 256GB \\ubaa8\\ub378\\uc774 59\\ub9cc9800\\uc6d0, 512GB \\ubaa8\\ub378\\uc774 64\\ub9cc9800\\uc6d0\\uc774\\ub2e4.\",\n          \"\\n\\uc2e0\\ud559\\uacc4, AI \\ud65c\\uc6a9 \\uc774\\uc815\\ud45c \\uc81c\\uc2dc \\u201c\\uc7a5\\ubc0b\\ube5b \\ud658\\uc0c1\\uc5d0\\ub9cc \\ub3c4\\ucde8\\ud574\\uc120 \\uc548\\ub3fc\\u201d\\nhttps://n.news.naver.com/mnews/article/005/0001752425?sid=103\\n\\u2018\\ud65c\\uc6a9\\ubc29\\ud5a5\\u2019 \\u2018\\ud3ec\\uc6a9\\uc131\\u2019 \\u2018\\uc800\\uc791\\uad8c\\u2019 \\u2018\\uad50\\ud68c\\uc5ed\\ud560\\u2019 \\ub4f1 12\\uac00\\uc9c0 \\u201c\\ud559\\uc81c\\uac04 \\uc5f0\\uad6c \\ud1b5\\ud574 \\uc900\\uce59 \\ubc1c\\uc804\\uc2dc\\ud0ac \\uac83\\u201d \\ud669\\ub355\\ud615 \\ud55c\\uad6d\\uae30\\ub3c5\\uad50\\ud559\\ud68c \\ud68c\\uc7a5\\uc774 17\\uc77c \\uc11c\\uc6b8 \\uc911\\uad6c \\ucee8\\ud37c\\ub7f0\\uc2a4\\ud558\\uc6b0\\uc2a4\\ub2ec\\uac1c\\ube44\\uc5d0\\uc11c 'AI \\uc2dc\\ub300\\ub97c \\ubc14\\ub77c\\ubcf4\\ub294 \\ud55c\\uad6d\\uae30\\ub3c5\\uad50\\ud559\\ud68c \\uc131\\uba85\\uc11c'\\ub97c \\ubc1c\\ud45c\\ud558\\uace0 \\uc788\\ub2e4. \\uad6d\\ub0b4 \\uc2e0\\ud559\\uc790\\ub4e4\\uc774 \\uc778\\uacf5\\uc9c0\\ub2a5( AI ) \\uac1c\\ubc1c\\uacfc \\ud65c\\uc6a9\\uc5d0 \\uad00\\ud55c \\ubc29\\uce68\\uc744 \\ub3c4\\ucd9c\\ud588\\ub2e4. \\ud55c\\uad6d\\uae30\\ub3c5\\uad50\\ud559\\ud68c(\\ud68c\\uc7a5 \\ud669\\ub355\\ud615)\\ub294 17\\uc77c \\uc11c\\uc6b8 \\uc911\\uad6c \\ucee8\\ud37c\\ub7f0\\uc2a4\\ud558\\uc6b0\\uc2a4\\ub2ec\\uac1c\\ube44\\uc5d0\\uc11c \\uae30\\uc790\\ud68c\\uacac\\uc744 \\uc5f4\\uace0 \\u2018 AI \\uc2dc\\ub300\\ub97c \\ubc14\\ub77c\\ubcf4\\ub294 \\ud55c\\uad6d\\uae30\\ub3c5\\uad50\\ud559\\ud68c \\uc131\\uba85\\uc11c\\u2019\\ub97c \\ubc1c\\ud45c\\ud588\\ub2e4. \\ud559\\ud68c\\ub294 \\u201c AI \\uac00 \\uc120\\uc0ac\\ud558\\ub294 \\uc7a5\\ubc0b\\ube5b \\ud658\\uc0c1\\uc5d0 \\ub3c4\\ucde8\\ud574 \\uad50\\ud68c\\uac00 \\ubcf4\\uc774\\uc9c0 \\uc54a\\ub294 \\uc704\\ud5d8\\uc744 \\ub3c4\\uc678\\uc2dc \\ud558\\ub294 \\uac74 \\uccad\\uc9c0\\uae30\\ub85c\\uc11c\\uc758 \\ucc45\\uc784\\uc744 \\ub9dd\\uac01\\ud55c \\ucc98\\uc0ac\\ub2e4. \\uad50\\ud68c\\uc640 \\uc2e0\\ud559\\uc740 \\uae30\\uc220\\uc758 \\uc704\\ud5d8\\uc73c\\ub85c \\uc778\\ud55c \\ud30c\\uad6d\\uacfc \\ubb35\\uc2dc\\uc801 \\uc7ac\\uc559\\uc744 \\ub9c9\\uc744 \\uc218 \\uc788\\ub294 \\uc724\\ub9ac\\uc801 \\uac00\\uce58\\uc640 \\ubcf5\\uc74c\\uc758 \\ube44\\uc804\\uc744 \\uc81c\\uc2dc\\ud574\\uc57c \\ud55c\\ub2e4\\u201d\\uba70 12\\uac00\\uc9c0 \\uc900\\uce59(\\uadf8\\ub798\\ud53d \\ucc38\\uc870)\\uc744 \\uc81c\\uc2dc\\ud588\\ub2e4. \\uc900\\uce59\\uc5d0\\uc11c AI \\ub2e4\\uc74c\\uc73c\\ub85c \\ub9ce\\uc774 \\uac70\\ub860\\ub41c \\ub0b1\\ub9d0\\uc740 \\u2018\\uc724\\ub9ac\\uc801\\u2019\\uc774\\ub780 \\uc804\\uc81c\\uc600\\ub2e4. \\uc2e0\\ud559\\uc790\\ub4e4\\uc740 AI \\ud65c\\uc6a9\\uc5d0 \\ub530\\ub77c \\ubc1c\\uc0dd\\ud560 \\uc218 \\uc788\\ub294 \\uacb0\\uacfc\\uc5d0 \\ub300\\ud55c \\uc0ac\\uc804 \\ub300\\ube44\\uc640 \\uc724\\ub9ac\\uc801 \\ucc45\\uc784\\uc744 \\uac15\\uc870\\ud588\\ub2e4.(\\ucc45\\uc784\\uc131) \\ub610 AI \\uac00 \\uc778\\uac04\\ucc98\\ub7fc \\ubcf4\\uc774\\ub3c4\\ub85d \\ud558\\ub294 \\uc724\\ub9ac\\uc801 \\uc624\\uc6a9\\uc744 \\uacbd\\uacc4\\ud55c\\ub2e4\\ub294 \\uc6d0\\uce59\\ub3c4 \\uc81c\\uc2dc\\ud588\\ub2e4.(\\uc758\\uc778\\ud654) \\uc774\\uc5b4 \\u201c\\uacf5\\ub3d9\\uccb4\\uc801 \\ub17c\\uc758\\uc640 \\uc724\\ub9ac\\uc801 \\uac80\\ud1a0\\uac00 \\ud544\\uc218\\uc801\\uc73c\\ub85c \\uc774\\ub8e8\\uc5b4\\uc838\\uc57c \\ud55c\\ub2e4\\u201d(\\uc601\\ud5a5\\ud3c9\\uac00) \\u201c\\uad50\\ud68c\\ub294 AI \\ub85c \\uc778\\ud55c \\uc0ac\\ud68c\\uc801 \\ubcc0\\ud654\\uc5d0 \\uc801\\uadf9\\uc801\\uc73c\\ub85c \\ucc38\\uc5ec\\ud558\\uace0 \\uc131\\uacbd\\uc801 \\uac00\\uce58\\uc640 \\uc724\\ub9ac\\uc801 \\uae30\\uc900\\uc744 \\uae30\\ubc18\\uc73c\\ub85c \\uad50\\uc778\\ub4e4\\uc744 \\uad50\\uc721\\ud558\\uace0 \\uc9c0\\uc6d0\\ud574\\uc57c \\ud55c\\ub2e4\\u201d(\\uad50\\ud68c\\uc5ed\\ud560)\\uace0 \\uc694\\uccad\\ud588\\ub2e4. \\uacf5\\uc0dd \\uacf5\\ud3c9 \\uacf5\\uc815\\uc744 \\uc804\\uc81c\\ub85c \\ud55c \\uc6d0\\uce59\\ub4e4\\ub3c4 \\uc801\\uc9c0 \\uc54a\\uc558\\ub2e4. \\u201c AI \\ub97c \\ud65c\\uc6a9\\ud568\\uc5d0 \\uc788\\uc5b4 \\ucc3d\\uc870\\ub41c \\uc778\\uac04\\uc758 \\uc874\\uc5c4\\uc131\\uc744 \\uc874\\uc911\\ud558\\uba70, \\uc778\\ub958\\uac00 \\ud568\\uaed8 \\ub098\\uc544\\uac00\\ub294 \\uacf5\\uc0dd\\uc744 \\uad6c\\ud604\\ud558\\ub294 \\ub370\\uc5d0 \\uae30\\uc5ec\\ud55c\\ub2e4\\u201d(\\ud65c\\uc6a9\\ubc29\\ud5a5) \\u201c AI \\ub97c \\ud1b5\\ud574 \\uc5bb\\uc5b4\\uc9c4 \\uc131\\uacfc\\uc640 \\ud61c\\ud0dd\\uc740 \\uc0ac\\ud68c\\uc801 \\uc57d\\uc790\\uc640 \\uc18c\\uc678\\ub41c \\uc790\\ub97c \\ud3ec\\ud568\\ud558\\uc5ec \\ubaa8\\ub4e0 \\uc0ac\\ub78c\\uc774 \\uacf5\\ud3c9\\ud558\\uac8c \\ub098\\ub20c \\uc218 \\uc788\\ub3c4\\ub85d \\ud55c\\ub2e4\\u201d(\\ud3ec\\uc6a9\\uc131) \\u201c AI \\ub294 \\ucc28\\ubcc4\\uacfc \\ud3b8\\uacac \\uc5c6\\uc774 \\uacf5\\uc815\\ud558\\uac8c \\ud65c\\uc6a9\\ub418\\uc5b4\\uc57c \\ud55c\\ub2e4\\u201d(\\uacf5\\uc815\\uc131)\\ub294 \\ub0b4\\uc6a9\\uc774 \\uc900\\uce59\\uc73c\\ub85c \\ud3ec\\ud568\\ub410\\ub2e4. \\uae30\\uc790\\ud68c\\uacac\\uc5d0\\uc120 \\u201c\\uad50\\uacc4\\uc758 \\uae30\\ub300\\uc640 \\ub2ec\\ub9ac \\uad6c\\uccb4\\uc801\\uc778 AI \\ud65c\\uc6a9 \\uae30\\uc900\\uc740 \\ubcf4\\uc774\\uc9c0 \\uc54a\\ub294\\ub2e4. \\uae30\\uc220 \\ubc1c\\uc804\\uc5d0 \\ub300\\ud55c \\uc6b0\\ub824\\uc5d0 \\uc2e0\\ud559\\uacc4\\uac00 \\uacf5\\uac10\\ub300\\ub97c \\ud615\\uc131\\ud55c\\ub370 \\uadf8\\uce5c \\uac83 \\uac19\\ub2e4\\u201d\\ub294 \\uc9c0\\uc801\\ub3c4 \\uc774\\uc5b4\\uc84c\\ub2e4. \\ud55c\\uad6d\\uae30\\ub3c5\\uad50\\ud559\\ud68c \\ud68c\\uc7a5\\uc778 \\ud669\\ub355\\ud615 \\uc11c\\uc6b8\\uc2e0\\ub300 \\ucd1d\\uc7a5\\uc740 \\u201c\\ud559\\uc790\\ub4e4 \\uc0ac\\uc774\\uc5d0\\uc11c\\ub3c4 \\ub099\\uad00\\ub860\\uacfc \\ube44\\uad00\\ub860\\uc774 \\uc5c7\\uac08\\ub9ac\\uace0 \\uc788\\ub2e4. \\ud55c \\ubc88\\uc5d0 \\uc815\\ub2f5\\uc744 \\uc81c\\uc2dc\\ud560 \\uc218 \\uc788\\ub294 \\ubb38\\uc81c\\uac00 \\uc544\\ub2c8\\ub2e4\\u201d\\ub77c\\uba70 \\u201c\\ud559\\uc81c\\uac04 \\uc5f0\\uad6c\\uc640 \\ud55c\\uad6d\\uad50\\ud68c\\uc758 \\uc81c\\uc548\\uc744 \\uace0\\ub824\\ud574 12\\uac00\\uc9c0 \\uc900\\uce59\\uc744 \\ubc1c\\uc804\\uc2dc\\ud0a4\\uaca0\\ub2e4\\u201d\\uace0 \\ub9d0\\ud588\\ub2e4. \\ub610 \\u201c AI \\uc2dc\\ub300\\ub97c \\ub9de\\uc544 \\uc801\\uadf9\\uc801\\uc73c\\ub85c \\uc0c8\\ub85c\\uc6b4 \\uc2e0\\ud559\\uacfc \\uc778\\uac04\\ud559, \\uad50\\ud68c\\ub860\\uc744 \\ubaa8\\uc0c9\\ud558\\ub294 \\ub300\\ud654\\uc758 \\uc7a5\\uc744 \\ub9c8\\ub828\\ud558\\uaca0\\ub2e4\\u201d\\uba70 \\u201c\\uc0ac\\ud68c\\uc801 \\ud569\\uc758 \\ub3c4\\ucd9c\\uc5d0\\ub3c4 \\uc801\\uadf9\\uc801\\uc73c\\ub85c \\ucc38\\uc5ec\\ud558\\uaca0\\ub2e4\\u201d\\uace0 \\ubc1d\\ud614\\ub2e4. \\ud559\\ud68c\\uac00 \\uc774\\ub0a0 \\ubc1c\\ud45c\\ud55c AI \\uac1c\\ubc1c\\u00b7\\ud65c\\uc6a9 \\uc6d0\\uce59\\uc740 \\uae40\\uba85\\uc8fc \\uc11c\\uc6b8\\uc5ec\\ub300(\\uc815\\ubcf4\\ubcf4\\ud638\\ud559) \\uad50\\uc218\\uac00 \\uace0\\uc548\\ud588\\ub2e4. \\uae40 \\uad50\\uc218\\uac00 \\uc791\\uc131\\ud55c \\uac1c\\uc870\\uc2dd \\uc131\\uba85\\uc11c\\ub294 \\ub2f9\\ucd08 \\uc9c0\\ub09c\\ud574 11\\uc6d4 \\uc5f4\\ub9b0 \\ud55c\\uad6d\\uae30\\ub3c5\\uad50\\ud559\\ud68c \\uc81c53\\ucc28 \\uc815\\uae30\\ud559\\uc220\\ub300\\ud68c\\uc5d0\\uc11c \\uacf5\\uac1c\\ub410\\uc73c\\ub098, \\ud559\\ud68c\\ub294 \\uc774\\ub0a0 \\ud559\\uc220\\ub300\\ud68c\\uc5d0 \\ubd88\\ucc38\\ud55c \\ud68c\\uc6d0 \\ud559\\ud68c\\ub4e4\\uc758 \\ub3d9\\uc758\\ub97c \\uad6c\\ud55c \\ub4a4 \\uc900\\uce59\\uacfc \\uc131\\uba85\\uc744 \\ubc1c\\ud45c\\ud558\\uae30\\ub85c \\ud588\\ub2e4. \\uc774\\ubc88 \\uc131\\uba85\\uc5d4 \\ud55c\\uad6d\\uad50\\ud68c\\uc0ac\\ud559\\ud68c \\ud55c\\uad6d\\uad50\\ud68c\\uc74c\\uc545\\ud559\\ud68c \\ud55c\\uad6d\\uad6c\\uc57d\\ud559\\ud68c \\ud55c\\uad6d\\uae30\\ub3c5\\uad50\\uad50\\uc721\\ud559\\ud68c \\ud55c\\uad6d\\uae30\\ub3c5\\uad50\\uc0ac\\ud68c\\ubcf5\\uc9c0\\uc2e4\\ucc9c\\ud559\\ud68c \\ud55c\\uad6d\\ubaa9\\ud68c\\uc0c1\\ub2f4\\ud559\\ud68c \\ud55c\\uad6d\\uc120\\uad50\\uc2e0\\ud559\\ud68c \\ud55c\\uad6d\\uc2e0\\uc57d\\ud559\\ud68c \\ud55c\\uad6d\\uc2e4\\ucc9c\\uc2e0\\ud559\\ud68c \\ud55c\\uad6d\\uc5ec\\uc131\\uc2e0\\ud559\\ud68c \\ub4f1 10\\uacf3\\uc774 \\ub3d9\\ucc38\\ud588\\ub2e4.\\n\",\n          \"\\n\\ube44\\uc218\\uae30 \\uc5c6\\ub294 AI\\u2026\\ube0c\\ub85c\\ub4dc\\ucef4, K\\ubc18\\ub3c4\\uccb4 \\uad6c\\uc6d0\\ud22c\\uc218 \\ub420\\uae4c\\nhttps://n.news.naver.com/mnews/article/018/0005928660?sid=101\\n\\ube0c\\ub85c\\ub4dc\\ucef4\\u00b7\\ub9c8\\ubca8\\uc11c AI \\uce69 \\uc124\\uacc4\\u2026 AI \\uba54\\ubaa8\\ub9ac \\uc218\\uc694 AI \\uc804\\uc6a9\\uce69 \\ud22c\\uc790\\uac00 K\\ubc18\\ub3c4\\uccb4 \\uc0c8\\ub85c\\uc6b4 \\ubaa8\\uba58\\ud140 \\uc5d4\\ube44\\ub514\\uc544 \\uc678 NPU \\uc6a9 HBM \\ub0a9\\ud488 \\ud655\\ub300 \\uc608\\uc0c1 [\\uc774\\ub370\\uc77c\\ub9ac \\uae40\\uc18c\\uc5f0 \\uae30\\uc790] \\uc778\\uacf5\\uc9c0\\ub2a5( AI ) \\uc8fc\\ub3c4 \\uacbd\\uc7c1\\uc774 \\ubcf8\\uaca9\\ud654\\ud558\\uace0 \\uc788\\ub2e4. \\uc5d4\\ube44\\ub514\\uc544\\uc5d0 \\ub300\\ud56d\\ud558\\ub294 \\ube0c\\ub85c\\ub4dc\\ucef4\\uc758 \\ub4f1\\uc7a5\\uc73c\\ub85c \\uad6d\\ub0b4 AI \\ubc18\\ub3c4\\uccb4 \\uc0dd\\ud0dc\\uacc4\\uc5d0\\ub3c4 \\uae0d\\uc815\\uc801\\uc778 \\uc804\\ub9dd\\uc774 \\uac10\\ub3c8\\ub2e4. AI \\uac00\\uc18d\\uae30\\uc5d0 \\ud544\\uc218\\uc801\\uc778 \\uace0\\ub300\\uc5ed\\ud3ed\\uba54\\ubaa8\\ub9ac( HBM )\\ub97c \\ub9cc\\ub4dc\\ub294 \\uad6d\\ub0b4 \\uae30\\uc5c5\\ub4e4\\uc5d0\\ub294 \\ube45\\ud14c\\ud06c\\ub4e4\\uc758 AI \\uc804\\uc6a9 \\uce69 \\ud22c\\uc790\\uac00 \\uc0c8\\ub85c\\uc6b4 \\ubaa8\\uba58\\ud140\\uc73c\\ub85c \\uc791\\uc6a9\\ud560 \\uac83\\uc774\\ub77c\\ub294 \\uc608\\uce21\\uc774 \\ub098\\uc628\\ub2e4. 20\\uc77c \\uc2dc\\uc7a5\\uc870\\uc0ac\\uc5c5\\uccb4 \\uac00\\ud2b8\\ub108\\uc5d0 \\ub530\\ub974\\uba74 \\uc138\\uacc4 AI \\ubc18\\ub3c4\\uccb4 \\uc2dc\\uc7a5\\uc740 2022\\ub144 422\\uc5b5 \\ub2ec\\ub7ec\\uc5d0\\uc11c 2024\\ub144 \\uc57d 840\\uc5b5 \\ub2ec\\ub7ec, 2028\\ub144\\uc5d0\\ub294 \\uc57d 1965\\uc5b5 \\ub2ec\\ub7ec \\uaddc\\ubaa8\\ub85c \\uc5f0\\ud3c9\\uade0 29.2% \\uc131\\uc7a5\\ud560 \\uc804\\ub9dd\\uc774\\ub2e4. \\uc8fc\\uc694 \\uae30\\uc5c5\\ub4e4\\uc774 AI \\ubc18\\ub3c4\\uccb4 \\ubd84\\uc57c\\uc5d0 \\uc9d1\\uc911 \\ud22c\\uc790\\ud558\\uba70 2030\\ub144\\uae4c\\uc9c0 \\uae09\\uc131\\uc7a5\\ud560 \\uac83\\uc73c\\ub85c \\ubcf4\\uc778\\ub2e4. \\ubbf8\\uad6d \\ube45\\ud14c\\ud06c\\ub4e4\\uc774 \\uc8fc\\ubb38\\ud615 \\ubc18\\ub3c4\\uccb4( ASIC )\\ub97c \\ucd9c\\uc2dc, \\ud655\\ub300\\ud568\\uc5d0 \\ub530\\ub77c \\uad6d\\ub0b4 \\ubc18\\ub3c4\\uccb4 \\uae30\\uc5c5\\uc5d0\\ub3c4 \\uae0d\\uc815\\uc801\\uc774\\ub2e4. \\ud604\\uc7ac AI \\uc6cc\\ud06c\\ub85c\\ub4dc\\uc5d0 \\ud544\\uc694\\ud55c \\ub370\\uc774\\ud130\\uc13c\\ud130\\uc758 \\ub300\\ud45c \\ucef4\\ud4e8\\ud305 \\ud50c\\ub7ab\\ud3fc\\uc774 \\uadf8\\ub798\\ud53d\\ucc98\\ub9ac\\uc7a5\\uce58( GPU )\\ub2e4. \\ub9c8\\uc774\\ud06c\\ub85c\\uc18c\\ud504\\ud2b8, \\uba54\\ud0c0 \\ub4f1 \\ubbf8\\uad6d \\ube45\\ud14c\\ud06c\\ub294 \\uc5d4\\ube44\\ub514\\uc544\\uc758 GPU \\ub97c \\ud1b5\\ud574 AI \\ub370\\uc774\\ud130\\uc13c\\ud130\\ub97c \\uc9d3\\uace0 \\uc788\\ub2e4. \\uac12 \\ube44\\uc2fc \\uc5d4\\ube44\\ub514\\uc544\\uc758 GPU \\uc5d0 \\ub300\\ud56d\\ud558\\uae30 \\uc704\\ud574 \\uad6c\\uae00\\ub97c \\ube44\\ub86f\\ud55c MS , \\uba54\\ud0c0, \\uc544\\ub9c8\\uc874 \\ub4f1\\uc774 \\uc790\\uccb4\\uc801\\uc73c\\ub85c \\uce69\\uc744 \\uc124\\uacc4\\ud574 AI \\uc5f0\\uc0b0\\uc5d0 \\ud2b9\\ud654\\ud55c \\uc2e0\\uacbd\\ub9dd\\ucc98\\ub9ac\\uc7a5\\uce58( NPU )\\ub97c \\ub9cc\\ub4dc\\ub294 \\uc2dc\\ub3c4\\ub97c \\ud558\\uace0 \\uc788\\ub2e4. \\uad6c\\uae00\\uc740 \\uc790\\uccb4 NPU \\uc778 \\ud150\\uc11c\\ucc98\\ub9ac\\uc7a5\\uce58( TPU )\\ub97c \\ub9cc\\ub4e4\\uc5c8\\ub2e4. \\ube0c\\ub85c\\ub4dc\\ucef4 \\ub85c\\uace0(\\uc0ac\\uc9c4=\\ub85c\\uc774\\ud130) \\ube0c\\ub85c\\ub4dc\\ucef4\\uc774\\ub098 \\ub9c8\\ubca8\\uacfc \\uac19\\uc740 \\uae30\\uc5c5\\ub4e4\\uc774 \\uc5d4\\ube44\\ub514\\uc544\\ub97c \\ub300\\uc2e0\\ud574 \\ubbf8\\uad6d \\ube45\\ud14c\\ud06c \\ubc18\\ub3c4\\uccb4 \\uc124\\uacc4 \\uc0ac\\uc5c5\\uc5d0 \\ubc00\\ucc29\\ud558\\uba70 AI \\uc758 \\uc804\\uc6a9 \\uce69\\uc744 \\ub9cc\\ub4e4\\uc5b4\\uc8fc\\uace0 \\uc788\\ub2e4. \\ube0c\\ub85c\\ub4dc\\ucef4\\uc740 \\ud074\\ub77c\\uc6b0\\ub4dc \\uc0ac\\uc5c5 \\ucd08\\uae30\\uc5d0 \\ub370\\uc774\\ud130\\uc13c\\ud130\\ub97c \\uc704\\ud55c \\uc18c\\ud504\\ud2b8\\uc6e8\\uc5b4 \\ud234\\ub3c4 \\ud568\\uaed8 \\uc81c\\uacf5\\ud558\\uace0 \\uc788\\ub2e4. \\uc5d4\\ube44\\ub514\\uc544\\uc758 \\ub3c5\\uc810\\uc774 \\uac00\\ub2a5\\ud55c \\uc774\\uc720\\uac00 \\u2018\\ucfe0\\ub2e4\\u2019\\ub77c\\ub294 GPU \\uad6c\\ub3d9\\uc744 \\uc704\\ud55c \\uc18c\\ud504\\ud2b8\\uc6e8\\uc5b4\\uc778\\ub370, \\ube0c\\ub85c\\ub4dc\\ucef4 \\uc5ed\\uc2dc \\uac19\\uc740 \\uc804\\ub7b5\\uc744 \\uc4f0\\uace0 \\uc788\\ub294 \\uac83\\uc774\\ub2e4. \\uacb0\\uad6d\\uc5d0\\ub294 GPU \\uc6a9, NPU \\uc6a9 HBM \\uc774\\ub098 \\uc804\\uc6a9 AI \\uba54\\ubaa8\\ub9ac\\uc640 \\uac19\\uc740 \\ud2b9\\uc218\\ud55c \\uce69 \\uc218\\uc694\\ub294 \\uacc4\\uc18d \\uc774\\uc5b4\\uc9c8 \\uac83\\uc73c\\ub85c \\uc608\\uc0c1\\ub41c\\ub2e4. \\uad6d\\ub0b4 \\uba54\\ubaa8\\ub9ac \\uae30\\uc5c5\\ub4e4\\uc774 \\uc5d4\\ube44\\ub514\\uc544 \\uc678\\uc5d0\\ub3c4 \\ube0c\\ub85c\\ub4dc\\ucef4\\uc774\\ub098 \\ub9c8\\ubca8\\uc5d0 AI \\uba54\\ubaa8\\ub9ac\\ub97c \\uc704\\ud55c \\uce69\\uc744 \\ub0a9\\ud488\\ud560 \\uc218 \\uc788\\uc5b4\\uc11c\\ub2e4. \\uc2e4\\uc81c\\ub85c \\ube0c\\ub85c\\ub4dc\\ucef4\\uc774 \\uc124\\uacc4\\ud55c \\uad6c\\uae00\\uc758 TPU \\uc5d0\\ub294 HBM3E \\uac00 \\ud0d1\\uc7ac\\ub3fc\\uc788\\ub2e4. \\uadf8\\uc678 \\u25b3\\ub9c8\\uc774\\ud06c\\ub85c\\uc18c\\ud504\\ud2b8 \\ub9c8\\uc774\\uc544100( HBM2E ) \\u25b3\\uc544\\ub9c8\\uc874 \\ud2b8\\ub808\\uc774\\ub2c8\\uc6c02( HBM3E ) \\u25b3\\uba54\\ud0c0 MTIA v2 ( LPDDR5X ) \\ub4f1\\uc774 \\uace0\\uc131\\ub2a5\\u00b7\\uace0\\uc6a9\\ub7c9\\uc758 \\uba54\\ubaa8\\ub9ac\\ub97c \\ud0d1\\uc7ac\\ud588\\ub2e4. \\uad6c\\uae00\\uacfc \\uba54\\ud0c0\\uc758 AI \\uce69\\uc740 \\ube0c\\ub85c\\ub4dc\\ucef4\\uc774, \\ub9c8\\uc774\\ud06c\\ub85c\\uc18c\\ud504\\ud2b8\\uc640 \\uc544\\ub9c8\\uc874\\uc758 AI \\uc6a9 \\uce69\\uc740 \\ub9c8\\ubca8\\uc5d0\\uc11c \\uc124\\uacc4\\ud558\\uace0 \\uc788\\ub2e4. AI \\uc5d0 \\ub9de\\ucda4\\ud615 \\uc11c\\ube44\\uc2a4\\ub97c \\uc81c\\uacf5\\ud558\\ub824\\ub294 \\ubbf8\\uad6d \\ube45\\ud14c\\ud06c\\ub4e4\\uc758 \\uc804\\ub7b5\\uc740 \\uc9c0\\uc18d\\ub420 \\uc804\\ub9dd\\uc774\\ub2e4. ASIC \\uce69\\uc740 \\ubc29\\ub300\\ud55c \\uc6cc\\ud06c\\ub85c\\ub4dc\\ub97c \\ud544\\uc694\\ub85c \\ud558\\ub294 \\ubc94\\uc6a9 GPU \\ubcf4\\ub2e4 \\uc804\\ub825\\uc18c\\ube44\\uc640 \\ube44\\uc6a9 \\uce21\\uba74\\uc5d0\\uc11c \\ud6a8\\uc728\\uc801\\uc774\\ub2e4. AI \\uc6cc\\ud06c\\ub85c\\ub4dc\\ub9cc\\uc744 \\uc704\\ud574 \\ub9cc\\ub4e4\\uc5b4\\uc9c0\\uae30 \\ub54c\\ubb38\\uc774\\uc5b4\\uc11c\\ub2e4. \\uc131\\uc7a5 \\uce21\\uba74\\uc5d0\\uc11c\\ub3c4 AI \\ubc18\\ub3c4\\uccb4 \\uc911\\uc694\\uc131\\uc740 \\ucee4\\uc9c0\\uace0 \\uc788\\ub2e4. \\uac00\\ud2b8\\ub108\\ub294 \\ud5a5\\ud6c4 5\\ub144 \\uc774\\uc0c1 \\uac00\\uc7a5 \\ud070 \\uc601\\ud5a5\\uc744 \\ubbf8\\uce60 2025\\ub144 10\\ub300 \\uc804\\ub7b5\\uc801 \\uae30\\uc220 \\ud2b8\\ub80c\\ub4dc\\uc5d0 \\uc5d0\\uc774\\uc804\\ud2f1 AI ( Agentic AI )\\ub97c \\uaf3d\\uc558\\ub2e4. \\uc0dd\\uc131\\ud615 AI \\ub098 \\ucc57\\ubd07\\uacfc \\ub2ec\\ub9ac \\ub354 \\ub192\\uc740 \\uc218\\uc900\\uc758 \\uc790\\uc728\\uc131\\uacfc \\ubb38\\uc81c \\ud574\\uacb0\\ub825\\uc744 \\uac00\\uc9c4 AI \\ub85c, AI \\uae30\\uc220\\uc5d0\\uc11c \\uc0c8\\ub85c\\uc6b4 \\ud328\\ub7ec\\ub2e4\\uc784\\uc744 \\uc81c\\uc2dc\\ud560 \\uac83\\uc73c\\ub85c \\ubcf4\\uc778\\ub2e4. \\ub2e8\\uc21c\\ud55c \\uc9c8\\uc758\\uc751\\ub2f5\\uc5d0\\uc11c \\ub118\\uc5b4\\uc120 \\ub354 \\ubc1c\\uc804\\ud55c AI \\uac00 \\ub2e4\\uc591\\ud55c \\uc0b0\\uc5c5 \\ubd84\\uc57c\\uc5d0\\uc11c \\ud601\\uc2e0\\uc744 \\uc774\\ub04c \\uc218 \\uc788\\ub2e4\\ub294 \\ub73b\\uc774\\ub2e4. \\uc5c5\\uacc4 \\uad00\\uacc4\\uc790\\ub294 \\u201c\\uc628\\ub514\\ubc14\\uc774\\uc2a4 AI \\uc6a9 AI \\uac00\\uc18d\\uae30 \\uc218\\uc694\\ub3c4 \\uc5ed\\uc2dc \\ub298\\uc5b4\\ub0a0 \\uac83\\u201d\\uc774\\ub77c\\uba70 \\u201c\\uacb0\\uad6d GPU \\ub098 NPU \\ub4f1 AI \\ud558\\ub4dc\\uc6e8\\uc5b4\\ub97c \\uc704\\ud55c \\uba54\\ubaa8\\ub9ac \\uc218\\uc694\\ub294 \\uc9c0\\uc18d\\ud560 \\uac83\\uc774\\ub780 \\ubbf8\\ub798\\ub294 \\ubd84\\uba85\\ud558\\ub2e4\\u201d\\uace0 \\uc124\\uba85\\ud588\\ub2e4.\\n\"\n        ],\n        \"semantic_type\": \"\",\n        \"description\": \"\"\n      }\n    },\n    {\n      \"column\": \"keywords\",\n      \"properties\": {\n        \"dtype\": \"string\",\n        \"num_unique_values\": 30,\n        \"samples\": [\n          \"\\uc911\\uad6d \\uc2a4\\ub9c8\\ud2b8\\ud3f0 AI \\ud0d1\\uc7ac \\ub3d9\\ud5a5\",\n          \"\\uc885\\uad50 AI \\ud65c\\uc6a9 \\uc804\\ub9dd\",\n          \"AI \\uc0b0\\uc5c5 HBM \\uba54\\ubaa8\\ub9ac \\uc218\\uc694 \\uc804\\ub9dd\"\n        ],\n        \"semantic_type\": \"\",\n        \"description\": \"\"\n      }\n    }\n  ]\n}"
            }
          },
          "metadata": {},
          "execution_count": 20
        }
      ]
    },
    {
      "cell_type": "code",
      "source": [
        "idx = 1\n",
        "doc = query_df[\"document\"][idx]\n",
        "keyws = query_df[\"keywords\"][idx]\n",
        "doc_split = doc.strip().split('\\n')\n",
        "title = doc_split[0]\n",
        "doc_url = doc_split[1]\n",
        "body = \" \".join(doc_split[2:])"
      ],
      "metadata": {
        "id": "jkw4UTQVDcP3"
      },
      "execution_count": null,
      "outputs": []
    },
    {
      "cell_type": "code",
      "source": [
        "# 요청에 알맞은 쿼리 문장을 만들어 줘.\n",
        "prompt_template_v0 = '''\\\n",
        "system:\n",
        "아래 문서의 정보를 필요로 하는 사람이 문서(document)를 찾아주는 사람에게 던질 수 있는 질문(query)을 한 문장으로 만들어줘. 가급적 제목(title)에 있는 단어는 뺴고 키워드 문장(keywords)을 참고해서 생성해줘.\n",
        "document:\n",
        "{}\n",
        "title:\n",
        "{}\n",
        "keywords:\n",
        "{}\n",
        "query:\n",
        "'''\n",
        "prompt = prompt_template_v0.format(body, title, keyws)\n",
        "request = llm.invoke(prompt)\n",
        "print(request.content)"
      ],
      "metadata": {
        "id": "_C89du-XGljm"
      },
      "execution_count": null,
      "outputs": []
    },
    {
      "cell_type": "code",
      "source": [
        "# 요청에 알맞은 쿼리 문장을 만들어 줘.\n",
        "prompt_template_v1 = '''\\\n",
        "<SYSTEM>\n",
        "  아래 문서의 정보를 필요로 하는 사람이 문서(document)를 찾아주는 사람에게 던질 수 있는 질문(query)을 한 문장으로 만들어줘. 제목(title)에 있는 단어는 뺴고 키워드 문장(keywords)을 참고해서 생성해줘.\n",
        "<EXAMPLE>\n",
        "  document:\n",
        "  미국 제47대 대통령 선거뿐만 아니라 상·하원 모두 공화당이 승리함에 따라 막강한 트럼프 2.0 시대가 개막한 가운데 4대 테마로 에너지, AI (인공지능)·로봇, 우주, 안보가 꼽혔다. 20일 iM 증권에 따르면 트럼프 2.0 시대 정부정책 추진이 트럼프 1.0 시대 보다 빠르고 강하게 진행될 것으로 예상된다. 트럼프 2.0 시대 정부정책의 경우 미국을 다시 위대하게( Make America Great Again ; MAGA )라는 슬로건처럼 미국 우선주의에 기반해 수립되고 추진될 전망이다. 다른 한편으로는 트럼프 2.0 시대 중국을 가장 큰 전략적 위협으로 보고 미중 패권전쟁을 기반해 정책이 수립된다는 관측이다. iM 증권은 트럼프 2.0 시대 주목해야 할 4가지 테마를 에너지, AI ,로봇, 우주, 방산이라고 내다봤다. 먼저 트럼프 2.0 시대 에너지 정책이 LNG 및 원자력 르네상스를 이끌 전망이다. 트럼프 2.0시대 에너지정책은 환경규제 완화 등을 통해 에너지 산업의 경쟁력을 강화함으로써 자국 내 에너지 비용을 줄이려는 의도다. 특히 이와 같은 화석연료 활성화 계획에 따라 대대적인 석유·천연가스 개발과 생산에 나서면서 LNG 수출이 확대될 것으로 보인다. 두번째 테마는 트럼프 2.0 시대 규제완화 및 패권전쟁으로 AI , 로봇 산업이 부상할 것으로 관측된다. 트럼프 2.0 시대에는 AI 맨해튼 프로젝트가 추진될 전망으로 이는 2차 세계대전 당시 핵무기를 개발해 국제 안보 지형을 바꿨가면서 패권을 장악했듯이 이번 경우에는 AI 등으로 기술 헤게모니를 확고히 하겠다는 선언이라는 해석이다. iM 증권은 트럼프 2.0 시대 우주패권 전쟁에서 승리하기 위해 아르테미스 프로젝트, 우주군, 민간 우주경제 성장이 본격화 될 것이라고 예상했다. 트럼프 2.0 시대 우주정책의 기본 방향은 지구 근궤도에서 강력한 제조 산업을 건설하고 우주비행사를 달과 화성으로 보내며 빠르게 확장하는 민간 우주 부문과의 협력을 강화해 우주에 접근하고, 거주하고, 우주 자산을 개발하는 능력을 혁신적으로 발전시키는 것이다. 이에 따라 민간 주도의 우주사업 방식인 뉴스페이스( New Space )가 더 활성화 될 수 있다는 점과 더불어 저궤도 위성통신 등을 활용해 차세대 이동통신, 자율주행, 군용 통신, 위성모바일 통신, 위성 탐사 및 관측, 재난 예측 등 산업 생태계를 기반으로 하는 민간 우주경제 급성장을 이끌 것이라고 내다봤다. 마지막으로 안보 분야에서 각자도생 정책이 글로벌 자주국방 강화 추세로 이어지면서 방산 부흥을 이끌 전망이다. 트럼프 2.0 시대에는 미국 우선주의에 입각한 안보 무임승차 불가론을 내세워 나토( NATO ) 회원국들을 향해 대대적인 방위비 증액 압박에 돌입할 것으로 보인다. 더불어 미국이 중국 견제에 집중하기 위해 유럽의 방위는 NATO 동맹국들이 보다 적극적으로 책임지라고 압박할 가능성이 크다.,\n",
        "  title:\n",
        "  “트럼프 2.0시대 개막 4대 테마는?” 에너지, AI·로봇,우주, 안보,\n",
        "  keywords:\n",
        "  미국 정치 이슈와 첨단 산업 트렌드,\n",
        "  query:\n",
        "  미국 정치권에 발생한 중요한 이슈에 따라서 첨단 산업에 어떤 변화가 있을까?</s>\n",
        "<ASSISTANT>:\n",
        "  document:\n",
        "  {},\n",
        "  title:\n",
        "  {},\n",
        "  keywords:\n",
        "  {},\n",
        "  query:\n",
        "'''\n",
        "prompt = prompt_template_v1.format(body, title, keyws)\n",
        "\n",
        "request = llm.invoke(prompt_v0)\n",
        "print(request.content)"
      ],
      "metadata": {
        "colab": {
          "base_uri": "https://localhost:8080/"
        },
        "id": "s2Gp2rMqQMO9",
        "outputId": "4ec44919-822a-4f25-a230-d5d9ead39eae"
      },
      "execution_count": null,
      "outputs": [
        {
          "output_type": "stream",
          "name": "stdout",
          "text": [
            "보험 산업에서 AI 기술을 활용하여 어떤 새로운 서비스와 사업이 등장하고 있나요?\n"
          ]
        }
      ]
    },
    {
      "cell_type": "code",
      "source": [
        "len(query_df)"
      ],
      "metadata": {
        "colab": {
          "base_uri": "https://localhost:8080/"
        },
        "id": "48BgeDFGuvJX",
        "outputId": "295b7805-f6dd-4103-df8e-c59ee5f3f026"
      },
      "execution_count": null,
      "outputs": [
        {
          "output_type": "execute_result",
          "data": {
            "text/plain": [
              "30"
            ]
          },
          "metadata": {},
          "execution_count": 61
        }
      ]
    },
    {
      "cell_type": "code",
      "source": [
        "for idx in range(len(query_df)):\n",
        "  # idx = 1\n",
        "  doc = query_df[\"document\"][idx]\n",
        "  keyws = query_df[\"keywords\"][idx]\n",
        "  doc_split = doc.split('\\n')\n",
        "  title = doc_split[0]\n",
        "  doc_url = doc_split[1]\n",
        "  body = \" \".join(doc_split[2:])\n",
        "  prompt = prompt_template_v1.format(body, title, keyws)\n",
        "\n",
        "  request = llm.invoke(prompt)\n",
        "  print(request.content)"
      ],
      "metadata": {
        "colab": {
          "base_uri": "https://localhost:8080/"
        },
        "id": "lP5gwuQJuoPO",
        "outputId": "417a47ac-4c75-4ede-f918-6dca861a4bb6"
      },
      "execution_count": null,
      "outputs": [
        {
          "output_type": "stream",
          "name": "stdout",
          "text": [
            "미국 정치 이슈의 변화가 에너지, AI, 우주, 안보와 같은 산업에 어떤 영향을 미칠까?\n",
            "보험 산업에서 AI 기술을 활용한 새로운 사업이 어떻게 진행되고 있나요?\n",
            "금융권에서 망분리 규제 완화로 인해 어떤 첨단 기술이 도입되고 있나요?\n",
            "물리적 AI의 급부상으로 인해 로봇 산업에 어떤 변화가 예상되는지 알고 싶습니다.\n",
            "AI 오케스트레이션이 기업의 생산성과 효율성을 향상시키는 데 어떻게 사용되고 있나요?\n",
            "당뇨 치료제와 AI 신약 개발 분야에서 임상 데이터가 벤처캐피탈 투자 결정에 어떤 영향을 미치는지 알고 싶습니다.\n",
            "글로벌 방산 산업에서 AI 무기 개발 경쟁이 치열해지고 있는데, 한국 기업들은 어떻게 대응하고 있나요?\n",
            "AI 기술의 발전으로 인해 발생하는 정보 격차를 줄이는 방법은 무엇인가?\n",
            "AI 반도체 하드웨어 시장 규모가 커지면서 국내 AI 반도체 생태계를 강화하기 위한 전략은 무엇인가?\n",
            "AI 인프라 구축 시장의 성장에 기여하는 요인은 무엇인가?\n",
            "AI 기본법 시행을 앞두고 민간 주도의 논의체인 AI 소비자포럼이 출범하는데, 이 포럼에서 어떤 주제가 논의될 것으로 예상되는가?\n",
            "지진이나 재난 상황에서 AI 생성 이미지가 어떻게 오해를 불러일으키고 있는지에 대한 정보가 필요합니다.\n",
            "AI 칩을 활용한 신약 개발에 투자하는 반도체 회사에 대해 알고 싶습니다.\n",
            "AI 모델 학습에 사용되는 데이터가 저작권 침해에 해당하는지에 대한 법적 쟁점에 대해 알고 싶습니다.\n",
            "교육 분야에서 AI를 활용하는 방법에 대한 정보를 찾고 있습니다.\n",
            "종교계에서 인공지능(AI) 활용에 대해 어떤 우려와 윤리적 고려 사항을 제기하고 있나요?\n",
            "AI가 구직자와 구인 기업을 연결하는 데 어떻게 사용되고 있나요?\n",
            "AI 기술의 발전이 노동 시장과 근로 환경에 어떤 영향을 미칠지에 대한 연구 결과를 찾고 있습니다.\n",
            "AI를 활용한 홈 기기와 제품의 종류와 기능에 대해 알고 싶습니다.\n",
            "금융기관에서 지속가능성을 향상시키기 위해 AI를 어떻게 활용하고 있나요?\n",
            "항공 산업에서 AI 기술이 어떻게 활용되고 있나요?\n",
            "중국 AI 반도체 업계가 미국 수출 제한에 대응하기 위해 어떤 전략을 사용하고 있나요?\n",
            "공공 서비스에서 AI 기술을 활용하여 시민 편의를 향상시키는 방법에 대한 정보를 찾고 있습니다.\n",
            "AI 칩 설계 경쟁이 치열해지면서 국내 AI 반도체 생태계에 어떤 영향이 있을까?\n",
            "트럼프 행정부의 AI 규제 완화로 인해 미국 내 AI 챗봇의 규제가 어떻게 변화할 것으로 예상되는지 알고 싶습니다.\n",
            "AI 기술이 직장에 어떻게 도입되고 있으며, 어떤 업무를 대체하고 있는지에 대한 정보를 찾고 있습니다.\n",
            "유럽 국가 중에서 AI 생태계 활성화를 위해 대규모 투자를 결정한 국가는 어디인가?\n",
            "중국 스마트폰 업계에서 AI 기능이 어떻게 활용되고 있는지 알고 싶습니다.\n",
            "네이버 AI 기술이 사회적 문제 해결에 어떻게 활용되고 있는지에 대한 정보를 찾고 있습니다.\n",
            "카카오가 쇼핑과 선물 분야에 이어서 어떤 분야에 AI 기술을 접목한 서비스를 출시할까?\n"
          ]
        }
      ]
    },
    {
      "cell_type": "code",
      "source": [],
      "metadata": {
        "id": "AKMkLPP34Pad"
      },
      "execution_count": null,
      "outputs": []
    },
    {
      "cell_type": "code",
      "source": [
        "# 요청에 알맞은 쿼리 문장을 만들어 줘.\n",
        "prompt_template_v2 = '''\\\n",
        "<SYSTEM>\n",
        "  당신은 출판사의 담당 편집자입니다.\n",
        "  아래 질문(query)을 바탕으로 주어진 문서(document)를 다섯 문당 이내로 요약(summary)해야합니다.  키워드 문장(keywords)과 제목(title)을 참고해서 생성하세요.\n",
        "<EXAMPLE>\n",
        "  query:\n",
        "  미국 정치권에 발생한 중요한 이슈에 따라서 첨단 산업에 어떤 변화가 있을까?</s>\n",
        "  keywords:\n",
        "  미국 정치 이슈와 첨단 산업 트렌드,\n",
        "  title:\n",
        "  “트럼프 2.0시대 개막 4대 테마는?” 에너지, AI·로봇,우주, 안보,\n",
        "  document:\n",
        "  미국 제47대 대통령 선거뿐만 아니라 상·하원 모두 공화당이 승리함에 따라 막강한 트럼프 2.0 시대가 개막한 가운데 4대 테마로 에너지, AI (인공지능)·로봇, 우주, 안보가 꼽혔다. 20일 iM 증권에 따르면 트럼프 2.0 시대 정부정책 추진이 트럼프 1.0 시대 보다 빠르고 강하게 진행될 것으로 예상된다. 트럼프 2.0 시대 정부정책의 경우 미국을 다시 위대하게( Make America Great Again ; MAGA )라는 슬로건처럼 미국 우선주의에 기반해 수립되고 추진될 전망이다. 다른 한편으로는 트럼프 2.0 시대 중국을 가장 큰 전략적 위협으로 보고 미중 패권전쟁을 기반해 정책이 수립된다는 관측이다. iM 증권은 트럼프 2.0 시대 주목해야 할 4가지 테마를 에너지, AI ,로봇, 우주, 방산이라고 내다봤다. 먼저 트럼프 2.0 시대 에너지 정책이 LNG 및 원자력 르네상스를 이끌 전망이다. 트럼프 2.0시대 에너지정책은 환경규제 완화 등을 통해 에너지 산업의 경쟁력을 강화함으로써 자국 내 에너지 비용을 줄이려는 의도다. 특히 이와 같은 화석연료 활성화 계획에 따라 대대적인 석유·천연가스 개발과 생산에 나서면서 LNG 수출이 확대될 것으로 보인다. 두번째 테마는 트럼프 2.0 시대 규제완화 및 패권전쟁으로 AI , 로봇 산업이 부상할 것으로 관측된다. 트럼프 2.0 시대에는 AI 맨해튼 프로젝트가 추진될 전망으로 이는 2차 세계대전 당시 핵무기를 개발해 국제 안보 지형을 바꿨가면서 패권을 장악했듯이 이번 경우에는 AI 등으로 기술 헤게모니를 확고히 하겠다는 선언이라는 해석이다. iM 증권은 트럼프 2.0 시대 우주패권 전쟁에서 승리하기 위해 아르테미스 프로젝트, 우주군, 민간 우주경제 성장이 본격화 될 것이라고 예상했다. 트럼프 2.0 시대 우주정책의 기본 방향은 지구 근궤도에서 강력한 제조 산업을 건설하고 우주비행사를 달과 화성으로 보내며 빠르게 확장하는 민간 우주 부문과의 협력을 강화해 우주에 접근하고, 거주하고, 우주 자산을 개발하는 능력을 혁신적으로 발전시키는 것이다. 이에 따라 민간 주도의 우주사업 방식인 뉴스페이스( New Space )가 더 활성화 될 수 있다는 점과 더불어 저궤도 위성통신 등을 활용해 차세대 이동통신, 자율주행, 군용 통신, 위성모바일 통신, 위성 탐사 및 관측, 재난 예측 등 산업 생태계를 기반으로 하는 민간 우주경제 급성장을 이끌 것이라고 내다봤다. 마지막으로 안보 분야에서 각자도생 정책이 글로벌 자주국방 강화 추세로 이어지면서 방산 부흥을 이끌 전망이다. 트럼프 2.0 시대에는 미국 우선주의에 입각한 안보 무임승차 불가론을 내세워 나토( NATO ) 회원국들을 향해 대대적인 방위비 증액 압박에 돌입할 것으로 보인다. 더불어 미국이 중국 견제에 집중하기 위해 유럽의 방위는 NATO 동맹국들이 보다 적극적으로 책임지라고 압박할 가능성이 크다.,\n",
        "<ASSISTANT>:\n",
        "  summary:\n",
        "  document\n",
        "'''\n",
        "prompt = prompt_template_v2.format(body, title, keyws)\n",
        "\n",
        "request = llm.invoke(prompt)\n",
        "print(request.content)"
      ],
      "metadata": {
        "colab": {
          "base_uri": "https://localhost:8080/"
        },
        "id": "T6XuI53Z2oPJ",
        "outputId": "40e25cd2-dedc-4068-c721-53154f6a405b"
      },
      "execution_count": null,
      "outputs": [
        {
          "output_type": "stream",
          "name": "stdout",
          "text": [
            "**제목:** 트럼프 2.0 시대의 첨단 산업 트렌드\n",
            "\n",
            "**요약:**\n",
            "\n",
            "1. 트럼프 2.0 시대는 미국 우선주의와 중국에 대한 경쟁에 초점을 맞출 것으로 예상됩니다.\n",
            "2. 에너지 분야에서는 LNG 수출 확대와 화석연료 활성화가 예상됩니다.\n",
            "3. AI 및 로봇 산업은 규제 완화와 패권 전쟁으로 인해 부상할 것으로 보입니다.\n",
            "4. 우주 분야에서는 아르테미스 프로젝트와 민간 우주 경제 성장이 주목됩니다.\n",
            "5. 안보 분야에서는 방산 부흥이 각자도생 정책과 나토 회원국에 대한 방위비 증액 압박으로 인해 예상됩니다.\n"
          ]
        }
      ]
    },
    {
      "cell_type": "code",
      "source": [
        "# 요청에 알맞은 쿼리 문장을 만들어 줘.\n",
        "prompt_template_v3 = '''\\\n",
        "<SYSTEM>\n",
        "  당신은 출판사의 담당 편집자입니다.\n",
        "  아래 질문(query)을 바탕으로 주어진 문서(document)를 다섯 문당 이내로 요약(summary)해야합니다. 키워드 문장(keywords)과 제목(title)을 참고해서 생성하세요.\n",
        "<EXAMPLE>\n",
        "  query:\n",
        "  미국 정치권에 발생한 중요한 이슈에 따라서 첨단 산업에 어떤 변화가 있을까?\n",
        "  keywords:\n",
        "  미국 정치 이슈와 첨단 산업 트렌드,\n",
        "  title:\n",
        "  “트럼프 2.0시대 개막 4대 테마는?” 에너지, AI·로봇,우주, 안보,\n",
        "  document:\n",
        "  미국 제47대 대통령 선거뿐만 아니라 상·하원 모두 공화당이 승리함에 따라 막강한 트럼프 2.0 시대가 개막한 가운데 4대 테마로 에너지, AI (인공지능)·로봇, 우주, 안보가 꼽혔다. 20일 iM 증권에 따르면 트럼프 2.0 시대 정부정책 추진이 트럼프 1.0 시대 보다 빠르고 강하게 진행될 것으로 예상된다. 트럼프 2.0 시대 정부정책의 경우 미국을 다시 위대하게( Make America Great Again ; MAGA )라는 슬로건처럼 미국 우선주의에 기반해 수립되고 추진될 전망이다. 다른 한편으로는 트럼프 2.0 시대 중국을 가장 큰 전략적 위협으로 보고 미중 패권전쟁을 기반해 정책이 수립된다는 관측이다. iM 증권은 트럼프 2.0 시대 주목해야 할 4가지 테마를 에너지, AI ,로봇, 우주, 방산이라고 내다봤다. 먼저 트럼프 2.0 시대 에너지 정책이 LNG 및 원자력 르네상스를 이끌 전망이다. 트럼프 2.0시대 에너지정책은 환경규제 완화 등을 통해 에너지 산업의 경쟁력을 강화함으로써 자국 내 에너지 비용을 줄이려는 의도다. 특히 이와 같은 화석연료 활성화 계획에 따라 대대적인 석유·천연가스 개발과 생산에 나서면서 LNG 수출이 확대될 것으로 보인다. 두번째 테마는 트럼프 2.0 시대 규제완화 및 패권전쟁으로 AI , 로봇 산업이 부상할 것으로 관측된다. 트럼프 2.0 시대에는 AI 맨해튼 프로젝트가 추진될 전망으로 이는 2차 세계대전 당시 핵무기를 개발해 국제 안보 지형을 바꿨가면서 패권을 장악했듯이 이번 경우에는 AI 등으로 기술 헤게모니를 확고히 하겠다는 선언이라는 해석이다. iM 증권은 트럼프 2.0 시대 우주패권 전쟁에서 승리하기 위해 아르테미스 프로젝트, 우주군, 민간 우주경제 성장이 본격화 될 것이라고 예상했다. 트럼프 2.0 시대 우주정책의 기본 방향은 지구 근궤도에서 강력한 제조 산업을 건설하고 우주비행사를 달과 화성으로 보내며 빠르게 확장하는 민간 우주 부문과의 협력을 강화해 우주에 접근하고, 거주하고, 우주 자산을 개발하는 능력을 혁신적으로 발전시키는 것이다. 이에 따라 민간 주도의 우주사업 방식인 뉴스페이스( New Space )가 더 활성화 될 수 있다는 점과 더불어 저궤도 위성통신 등을 활용해 차세대 이동통신, 자율주행, 군용 통신, 위성모바일 통신, 위성 탐사 및 관측, 재난 예측 등 산업 생태계를 기반으로 하는 민간 우주경제 급성장을 이끌 것이라고 내다봤다. 마지막으로 안보 분야에서 각자도생 정책이 글로벌 자주국방 강화 추세로 이어지면서 방산 부흥을 이끌 전망이다. 트럼프 2.0 시대에는 미국 우선주의에 입각한 안보 무임승차 불가론을 내세워 나토( NATO ) 회원국들을 향해 대대적인 방위비 증액 압박에 돌입할 것으로 보인다. 더불어 미국이 중국 견제에 집중하기 위해 유럽의 방위는 NATO 동맹국들이 보다 적극적으로 책임지라고 압박할 가능성이 크다.,\n",
        "  summary:\n",
        "  트럼프 2.0 시대의 미국 우선주의와 중국과 경쟁에 초점을 맞춘 기사가 있습니다. 에너지 분야에서는 LNG 수출 확대와 화석연료 활성화가 예상되고, AI 및 로봇 산업은 규제 완화와 패권 전쟁으로 인해 부상할 것으로 보인대는 내용이 담겨있습니다. 또한 우주 분야에서는 아르테미스 프로젝트와 민간 우주 경제 성장이 주목됩니다. 한편 안보 분야에서는 각자도생 정책과 나토 회원국에 대한 방위비 증액 압박으로 인해 방산 부흥이 예상된다는 내용입니다.</s>\n",
        "<ASSISTANT>:\n",
        "  query:\n",
        "  {},\n",
        "  keywords:\n",
        "  {},\n",
        "  title:\n",
        "  {},\n",
        "  document:\n",
        "  {},\n",
        "  summary:\n",
        "'''"
      ],
      "metadata": {
        "id": "uLXEuLw-5L9T"
      },
      "execution_count": null,
      "outputs": []
    },
    {
      "cell_type": "code",
      "source": [
        "query = \"보험 산업에서 AI 기술을 활용하여 어떤 새로운 서비스와 사업이 등장하고 있나요?\"\n",
        "prompt = prompt_template_v3.format(query, keyws, title, body, )\n",
        "request = llm.invoke(prompt)\n",
        "print(request.content)\n"
      ],
      "metadata": {
        "colab": {
          "base_uri": "https://localhost:8080/"
        },
        "id": "f_Ix_HYW7gpV",
        "outputId": "684da3ad-99e8-45f9-c8aa-6fe59dd0b523"
      },
      "execution_count": null,
      "outputs": [
        {
          "output_type": "stream",
          "name": "stdout",
          "text": [
            "보험 산업에서 AI 기술을 활용한 새로운 서비스와 사업이 등장하고 있습니다. 삼성생명과 하나생명은 시니어 요양 사업에 진출하고, 교보생명은 보장 분석을 위한 AI 서포터를 도입합니다. KB 손해보험은 AI 데이터 분석 파트를 신설하여 디지털 기반 신사업을 추진합니다. 또한 DB 손해보험과 한화생명은 해외 시장 공략을 강화하고 있습니다.\n"
          ]
        }
      ]
    },
    {
      "cell_type": "markdown",
      "source": [
        "보험 산업에서 AI 기술을 활용한 새로운 서비스와 사업이 등장하고 있습니다. 삼성생명과 하나생명은 요양사업에 진출하고, KDB 생명은 데이케어센터를 개설합니다. 교보생명은 고객 보장 중심 상품을 추천하는 '보장분석 AI 서포터'를 도입합니다. KB 손해보험은 AI 데이터 분석파트를 신설하여 디지털과 데이터 기반 신사업을 추진합니다. DB 손해보험은 해외전략본부를 신설하여 미국 현지 영업을 강화합니다. 한화생명은 미국 증권사 인수를 통해 글로벌 입지를 굳힙니다.\n"
      ],
      "metadata": {
        "id": "5hkw5gnv71aE"
      }
    },
    {
      "cell_type": "code",
      "source": [
        "# 요청에 알맞은 쿼리 문장을 만들어 줘.\n",
        "prompt_template_v4 = '''\\\n",
        "<SYSTEM>\n",
        "  당신은 출판사의 담당 편집자입니다.\n",
        "  아래 질문(query)을 바탕으로 주어진 문서(document)를 다섯 문당 이내로 요약(summary)해야합니다. 키워드 문장(keywords)과 제목(title)을 참고해서 생성하세요.\n",
        "<EXAMPLE>\n",
        "  query:\n",
        "  미국 정치권에 발생한 중요한 이슈에 따라서 첨단 산업에 어떤 변화가 있을까?\n",
        "  keywords:\n",
        "  미국 정치 이슈와 첨단 산업 트렌드,\n",
        "  title:\n",
        "  “트럼프 2.0시대 개막 4대 테마는?” 에너지, AI·로봇,우주, 안보,\n",
        "  document:\n",
        "  미국 제47대 대통령 선거뿐만 아니라 상·하원 모두 공화당이 승리함에 따라 막강한 트럼프 2.0 시대가 개막한 가운데 4대 테마로 에너지, AI (인공지능)·로봇, 우주, 안보가 꼽혔다. 20일 iM 증권에 따르면 트럼프 2.0 시대 정부정책 추진이 트럼프 1.0 시대 보다 빠르고 강하게 진행될 것으로 예상된다. 트럼프 2.0 시대 정부정책의 경우 미국을 다시 위대하게( Make America Great Again ; MAGA )라는 슬로건처럼 미국 우선주의에 기반해 수립되고 추진될 전망이다. 다른 한편으로는 트럼프 2.0 시대 중국을 가장 큰 전략적 위협으로 보고 미중 패권전쟁을 기반해 정책이 수립된다는 관측이다. iM 증권은 트럼프 2.0 시대 주목해야 할 4가지 테마를 에너지, AI ,로봇, 우주, 방산이라고 내다봤다. 먼저 트럼프 2.0 시대 에너지 정책이 LNG 및 원자력 르네상스를 이끌 전망이다. 트럼프 2.0시대 에너지정책은 환경규제 완화 등을 통해 에너지 산업의 경쟁력을 강화함으로써 자국 내 에너지 비용을 줄이려는 의도다. 특히 이와 같은 화석연료 활성화 계획에 따라 대대적인 석유·천연가스 개발과 생산에 나서면서 LNG 수출이 확대될 것으로 보인다. 두번째 테마는 트럼프 2.0 시대 규제완화 및 패권전쟁으로 AI , 로봇 산업이 부상할 것으로 관측된다. 트럼프 2.0 시대에는 AI 맨해튼 프로젝트가 추진될 전망으로 이는 2차 세계대전 당시 핵무기를 개발해 국제 안보 지형을 바꿨가면서 패권을 장악했듯이 이번 경우에는 AI 등으로 기술 헤게모니를 확고히 하겠다는 선언이라는 해석이다. iM 증권은 트럼프 2.0 시대 우주패권 전쟁에서 승리하기 위해 아르테미스 프로젝트, 우주군, 민간 우주경제 성장이 본격화 될 것이라고 예상했다. 트럼프 2.0 시대 우주정책의 기본 방향은 지구 근궤도에서 강력한 제조 산업을 건설하고 우주비행사를 달과 화성으로 보내며 빠르게 확장하는 민간 우주 부문과의 협력을 강화해 우주에 접근하고, 거주하고, 우주 자산을 개발하는 능력을 혁신적으로 발전시키는 것이다. 이에 따라 민간 주도의 우주사업 방식인 뉴스페이스( New Space )가 더 활성화 될 수 있다는 점과 더불어 저궤도 위성통신 등을 활용해 차세대 이동통신, 자율주행, 군용 통신, 위성모바일 통신, 위성 탐사 및 관측, 재난 예측 등 산업 생태계를 기반으로 하는 민간 우주경제 급성장을 이끌 것이라고 내다봤다. 마지막으로 안보 분야에서 각자도생 정책이 글로벌 자주국방 강화 추세로 이어지면서 방산 부흥을 이끌 전망이다. 트럼프 2.0 시대에는 미국 우선주의에 입각한 안보 무임승차 불가론을 내세워 나토( NATO ) 회원국들을 향해 대대적인 방위비 증액 압박에 돌입할 것으로 보인다. 더불어 미국이 중국 견제에 집중하기 위해 유럽의 방위는 NATO 동맹국들이 보다 적극적으로 책임지라고 압박할 가능성이 크다.,\n",
        "  summary:\n",
        "  미국 정치 이슈와 첨단 산업의 트렌드에 대해 트럼프 2.0 시대의 미국 우선주의와 중국과 경쟁에 초점을 맞춘 기사가 있습니다. AI 및 로봇 산업이 규제 완화와 패권 전쟁으로 인해 부상할 것으로 보인다는 내용이 담겨있는데요. 2차 세계대전 당시 핵무기를 개발해 국제 안보의 패권을 장악했듯이 이번 경우에는 AI 맨해튼 프로젝트가 추진될 거라는 이야기가 있습니다. 또한 우주 분야에서는 아르테미스 프로젝트와 민간 우주 경제 성장이 주목받았습니다. iM 증권은 민간 주도의 우주사업 방식인 뉴스페이스(New Space)가 더 활성화되면서 저궤도 위성통신 등을 활용해 차세대 이동통신, 자율주행, 군용 통신, 위성모바일 통신, 위성 탐사 및 관측, 재난 예측 등 민간 우주경제 생태계의 급성장을 예측했다고합니다.</s>\n",
        "<ASSISTANT>:\n",
        "  query:\n",
        "  {},\n",
        "  keywords:\n",
        "  {},\n",
        "  title:\n",
        "  {},\n",
        "  document:\n",
        "  {},\n",
        "  summary:\n",
        "'''"
      ],
      "metadata": {
        "id": "VOyE-qh_73rf"
      },
      "execution_count": null,
      "outputs": []
    },
    {
      "cell_type": "code",
      "source": [
        "query = \"보험 산업에서 AI 기술을 활용하여 어떤 새로운 서비스와 사업이 등장하고 있나요?\"\n",
        "prompt = prompt_template_v4.format(query, keyws, title, body, )\n",
        "request = llm.invoke(prompt)\n",
        "print(request.content)\n"
      ],
      "metadata": {
        "colab": {
          "base_uri": "https://localhost:8080/"
        },
        "id": "CfONsLf9Anq_",
        "outputId": "5416678b-20a7-45a4-f452-13257c150f0e"
      },
      "execution_count": null,
      "outputs": [
        {
          "output_type": "stream",
          "name": "stdout",
          "text": [
            "보험 산업에서 AI 기술을 활용한 새로운 서비스와 사업이 등장하고 있습니다. 삼성생명은 시니어 사업을 강화하고, 교보생명은 보장 분석을 쉽게 요약하는 '보장분석 AI 서포터'를 도입합니다. KB 손해보험은 AI 데이터 분석파트를 신설하여 디지털과 데이터 기반의 신사업을 추진합니다. 또한 DB 손해보험은 해외전략본부를 신설하여 미국 현지 영업을 강화하고, 한화생명은 미국 증권사 인수를 통해 글로벌 입지를 굳힙니다.\n"
          ]
        }
      ]
    },
    {
      "cell_type": "code",
      "source": [
        "print(prompt)"
      ],
      "metadata": {
        "colab": {
          "base_uri": "https://localhost:8080/"
        },
        "id": "sJvD1XWVAw8g",
        "outputId": "1df07505-a48a-4e19-b74d-dd907a7b1643"
      },
      "execution_count": null,
      "outputs": [
        {
          "output_type": "stream",
          "name": "stdout",
          "text": [
            "<SYSTEM>\n",
            "  당신은 출판사의 담당 편집자입니다.\n",
            "  아래 질문(query)을 바탕으로 주어진 문서(document)를 다섯 문당 이내로 요약(summary)해야합니다. 키워드 문장(keywords)과 제목(title)을 참고해서 생성하세요.\n",
            "<EXAMPLE>\n",
            "  query:\n",
            "  미국 정치권에 발생한 중요한 이슈에 따라서 첨단 산업에 어떤 변화가 있을까?\n",
            "  keywords:\n",
            "  미국 정치 이슈와 첨단 산업 트렌드,\n",
            "  title:\n",
            "  “트럼프 2.0시대 개막 4대 테마는?” 에너지, AI·로봇,우주, 안보,\n",
            "  document:\n",
            "  미국 제47대 대통령 선거뿐만 아니라 상·하원 모두 공화당이 승리함에 따라 막강한 트럼프 2.0 시대가 개막한 가운데 4대 테마로 에너지, AI (인공지능)·로봇, 우주, 안보가 꼽혔다. 20일 iM 증권에 따르면 트럼프 2.0 시대 정부정책 추진이 트럼프 1.0 시대 보다 빠르고 강하게 진행될 것으로 예상된다. 트럼프 2.0 시대 정부정책의 경우 미국을 다시 위대하게( Make America Great Again ; MAGA )라는 슬로건처럼 미국 우선주의에 기반해 수립되고 추진될 전망이다. 다른 한편으로는 트럼프 2.0 시대 중국을 가장 큰 전략적 위협으로 보고 미중 패권전쟁을 기반해 정책이 수립된다는 관측이다. iM 증권은 트럼프 2.0 시대 주목해야 할 4가지 테마를 에너지, AI ,로봇, 우주, 방산이라고 내다봤다. 먼저 트럼프 2.0 시대 에너지 정책이 LNG 및 원자력 르네상스를 이끌 전망이다. 트럼프 2.0시대 에너지정책은 환경규제 완화 등을 통해 에너지 산업의 경쟁력을 강화함으로써 자국 내 에너지 비용을 줄이려는 의도다. 특히 이와 같은 화석연료 활성화 계획에 따라 대대적인 석유·천연가스 개발과 생산에 나서면서 LNG 수출이 확대될 것으로 보인다. 두번째 테마는 트럼프 2.0 시대 규제완화 및 패권전쟁으로 AI , 로봇 산업이 부상할 것으로 관측된다. 트럼프 2.0 시대에는 AI 맨해튼 프로젝트가 추진될 전망으로 이는 2차 세계대전 당시 핵무기를 개발해 국제 안보 지형을 바꿨가면서 패권을 장악했듯이 이번 경우에는 AI 등으로 기술 헤게모니를 확고히 하겠다는 선언이라는 해석이다. iM 증권은 트럼프 2.0 시대 우주패권 전쟁에서 승리하기 위해 아르테미스 프로젝트, 우주군, 민간 우주경제 성장이 본격화 될 것이라고 예상했다. 트럼프 2.0 시대 우주정책의 기본 방향은 지구 근궤도에서 강력한 제조 산업을 건설하고 우주비행사를 달과 화성으로 보내며 빠르게 확장하는 민간 우주 부문과의 협력을 강화해 우주에 접근하고, 거주하고, 우주 자산을 개발하는 능력을 혁신적으로 발전시키는 것이다. 이에 따라 민간 주도의 우주사업 방식인 뉴스페이스( New Space )가 더 활성화 될 수 있다는 점과 더불어 저궤도 위성통신 등을 활용해 차세대 이동통신, 자율주행, 군용 통신, 위성모바일 통신, 위성 탐사 및 관측, 재난 예측 등 산업 생태계를 기반으로 하는 민간 우주경제 급성장을 이끌 것이라고 내다봤다. 마지막으로 안보 분야에서 각자도생 정책이 글로벌 자주국방 강화 추세로 이어지면서 방산 부흥을 이끌 전망이다. 트럼프 2.0 시대에는 미국 우선주의에 입각한 안보 무임승차 불가론을 내세워 나토( NATO ) 회원국들을 향해 대대적인 방위비 증액 압박에 돌입할 것으로 보인다. 더불어 미국이 중국 견제에 집중하기 위해 유럽의 방위는 NATO 동맹국들이 보다 적극적으로 책임지라고 압박할 가능성이 크다.,\n",
            "  summary:\n",
            "  미국 정치 이슈와 첨단 산업의 트렌드에 대해 트럼프 2.0 시대의 미국 우선주의와 중국과 경쟁에 초점을 맞춘 기사가 있습니다. AI 및 로봇 산업이 규제 완화와 패권 전쟁으로 인해 부상할 것으로 보인다는 내용이 담겨있는데요. 2차 세계대전 당시 핵무기를 개발해 국제 안보의 패권을 장악했듯이 이번 경우에는 AI 맨해튼 프로젝트가 추진될 거라는 이야기가 있습니다. 또한 우주 분야에서는 아르테미스 프로젝트와 민간 우주 경제 성장이 주목받았습니다. iM 증권은 민간 주도의 우주사업 방식인 뉴스페이스(New Space)가 더 활성화되면서 저궤도 위성통신 등을 활용해 차세대 이동통신, 자율주행, 군용 통신, 위성모바일 통신, 위성 탐사 및 관측, 재난 예측 등 민간 우주경제 생태계의 급성장을 예측했다고합니다.</s>\n",
            "<ASSISTANT>:\n",
            "  query:\n",
            "  보험 산업에서 AI 기술을 활용하여 어떤 새로운 서비스와 사업이 등장하고 있나요?,\n",
            "  keywords:\n",
            "  보험산업과 AI,\n",
            "  title:\n",
            "  시니어·AI·해외시장…신사업 시동거는 보험사,\n",
            "  document:\n",
            "  삼성생명 시니어리빙 TF →시니어 Biz 팀 격상 교보생명 '보장분석 AI 서포터' 올해 도입 DB 손해보험 '해외전략본부' 신설 보험사들이 연초 신사업 추진에 적극적으로 나서고 있다. 저출산·고령화 등 인구구조 변화에 대응하고 인공지능( AI ) 기술 고도화와 신시장 개척을 통해 미래 먹거리를 선점하겠다는 전략이다. 15일 보험업계에 따르면 삼성생명은 올해 조직개편을 통해 시니어리빙 태스크포스( TF )를 시니어 Biz 팀으로 격상했다. 지난해 시니어사업 추진을 위해 기획실 산하에 만든 임시조직을 정식 팀으로 만든 건 올해부터 요양사업을 본격화하겠다는 전략으로 보인다. 삼성생명은 지난해 11월12일부터 가능해진 보험금청구권신탁도 최근 가입 문의가 늘었다며 올해 새 수익원으로 자리 잡길 기대하는 눈치다. 홍원학 삼성생명 대표는 신년사에서 \"올해 헬스케어·신탁·시니어 등 새로운 사업에 도전해 생활금융 전반을 리드하는 회사로 도약할 것\"이라고 말했다. 하나생명도 최근 이사회에서 요양사업 자회사 설립 안건을 의결했다. 하나생명은 올해 하반기 주간보호센터를 열고 내년 하반기엔 서울 인근에 프리미엄 요양시설을 지을 계획이다. 하나금융지주가 지난해 10월 출범한 시니어 특화 브랜드 '하나 더 넥스트'와 발맞춰 사업을 전개할 예정이다. 챗 GPT 가 보험사의 시니업 사업 진출에 대해 묘사한 그림. 챗 GPT 제공 KDB 생명은 지난달 금융감독원에 부수 업무로 주간보호시설 개설·운영·장기요양서비스 제공 등을 추가했다. 오는 3월 경기 고양시 덕양구 지축동에 데이케어센터를 열기 위해서다. KB 라이프생명과 신한라이프에 이어 생보업계 3번째 데이케어센터가 될 전망이다. KDB 생명은 이들 생보사처럼 추후 사업성과에 따라 요양사업 전담 조직을 분사하는 방안도 검토중이다. AI 관련 신사업 움직임도 활발하다. 교보생명은 지난해 말 금융위원회로부터 혁신금융서비스로 지정받은 '보장분석 AI 서포터'를 올해 본격 도입할 예정이다. AI 서포터는 AI 로 방대한 양의 보장 분석을 쉽게 요약해 설계사에게 전달하는 서비스다. 수수료 측면에서 설계사에게 유리한 보험이 아닌 고객 보장 중심 상품을 추천하겠다는 취지로 개발했다. 교보생명은 지난달 정기인사를 통해 신창재 교보생명 대표이사 겸 이사회 의장의 장남 신중하씨를 AI 활용 및 고객의 소리 데이터 담당 상무로 선임하는 등 올해 AI 서비스에 박차를 가할 계획이다. KB 손해보험은 올해 조직개편에서 DT (디지털 전환)추진본부 산하에 AI 데이터 분석파트를 신설했다. 디지털과 데이터에 기반한 신사업 추진 역량을 강화한다는 취지다. 해외시장 공략도 본격화하는 추세다. DB 손해보험은 올해 조직개편을 통해 기존 해외전략파트와 해외관리파트의 상위 조직인 해외전략본부를 신설했다. DB 손보는 현재 뉴욕·캘리포니아·하와이·괌에 지점을 두고 있다. 미국 현지 영업을 강화하기 위해 뉴욕지점장 출신인 김남윤 담당을 해외전략본부장으로 선임했다. 한화생명도 김승연 한화그룹 회장의 차남인 김동원 최고글로벌책임자( CGO· 사장)의 진두지휘 아래 글로벌 종합금융그룹으로서의 입지 굳히기에 나설 것으로 보인다. 한화생명은 지난해 11월 미국 현지 증권사 벨로시티 지분 75% 매입하기 위한 주식매매계약을 체결했다. 양국 감독당국의 인수허가가 나면 국내 보험사가 미국 증권사를 인수하는 첫 사례다. 한화생명은 벨로시티의 인프라와 네트워크를 활용해 미국에서 직접 금융상품을 판매하겠다는 전략이다. 한화생명은 지난해 3월 인도네시아 손해보험사인 리포손해보험을 인수했고 4월엔 인도네시아 노부은행에 지분 40%를 투자하는 등 글로벌 역량을 꾸준히 확대하고 있다.,\n",
            "  summary:\n",
            "\n"
          ]
        }
      ]
    },
    {
      "cell_type": "markdown",
      "source": [
        "보험 산업에서 AI 기술을 활용한 새로운 서비스와 사업이 등장하고 있습니다. 삼성생명은 시니어 사업을 강화하고, 하나생명은 요양사업 자회사를 설립할 계획입니다. 교보생명은 AI를 활용한 보장 분석 서비스를 도입하고, KB 손해보험은 AI 데이터 분석 파트를 신설했습니다. 또한 DB 손해보험은 해외 전략 본부를 신설하고, 한화생명은 미국 증권사 인수를 통해 글로벌 사업을 확대하고 있습니다.\n"
      ],
      "metadata": {
        "id": "XIVRkY7TAwOd"
      }
    },
    {
      "cell_type": "code",
      "source": [
        "# 요청에 알맞은 쿼리 문장을 만들어 줘.\n",
        "prompt_template_v5 = '''\\\n",
        "<SYSTEM>\n",
        "  당신은 출판사의 담당 편집자입니다.\n",
        "  아래 질문(query)을 바탕으로 주어진 문서(document)를 다섯 문당 이내로 요약(summary)해야합니다. 키워드 문장(keywords)과 제목(title)을 참고해서 생성하세요.\n",
        "<EXAMPLE 1>\n",
        "  query:\n",
        "  미국 정치권에 발생한 중요한 이슈에 따라서 첨단 산업에 어떤 변화가 있을까?\n",
        "  keywords:\n",
        "  미국 정치 이슈와 첨단 산업 트렌드\n",
        "  title:\n",
        "  “트럼프 2.0시대 개막 4대 테마는?” 에너지, AI·로봇,우주, 안보\n",
        "  document:\n",
        "  미국 제47대 대통령 선거뿐만 아니라 상·하원 모두 공화당이 승리함에 따라 막강한 트럼프 2.0 시대가 개막한 가운데 4대 테마로 에너지, AI (인공지능)·로봇, 우주, 안보가 꼽혔다. 20일 iM 증권에 따르면 트럼프 2.0 시대 정부정책 추진이 트럼프 1.0 시대 보다 빠르고 강하게 진행될 것으로 예상된다. 트럼프 2.0 시대 정부정책의 경우 미국을 다시 위대하게( Make America Great Again ; MAGA )라는 슬로건처럼 미국 우선주의에 기반해 수립되고 추진될 전망이다. 다른 한편으로는 트럼프 2.0 시대 중국을 가장 큰 전략적 위협으로 보고 미중 패권전쟁을 기반해 정책이 수립된다는 관측이다. iM 증권은 트럼프 2.0 시대 주목해야 할 4가지 테마를 에너지, AI ,로봇, 우주, 방산이라고 내다봤다. 먼저 트럼프 2.0 시대 에너지 정책이 LNG 및 원자력 르네상스를 이끌 전망이다. 트럼프 2.0시대 에너지정책은 환경규제 완화 등을 통해 에너지 산업의 경쟁력을 강화함으로써 자국 내 에너지 비용을 줄이려는 의도다. 특히 이와 같은 화석연료 활성화 계획에 따라 대대적인 석유·천연가스 개발과 생산에 나서면서 LNG 수출이 확대될 것으로 보인다. 두번째 테마는 트럼프 2.0 시대 규제완화 및 패권전쟁으로 AI , 로봇 산업이 부상할 것으로 관측된다. 트럼프 2.0 시대에는 AI 맨해튼 프로젝트가 추진될 전망으로 이는 2차 세계대전 당시 핵무기를 개발해 국제 안보 지형을 바꿨가면서 패권을 장악했듯이 이번 경우에는 AI 등으로 기술 헤게모니를 확고히 하겠다는 선언이라는 해석이다. iM 증권은 트럼프 2.0 시대 우주패권 전쟁에서 승리하기 위해 아르테미스 프로젝트, 우주군, 민간 우주경제 성장이 본격화 될 것이라고 예상했다. 트럼프 2.0 시대 우주정책의 기본 방향은 지구 근궤도에서 강력한 제조 산업을 건설하고 우주비행사를 달과 화성으로 보내며 빠르게 확장하는 민간 우주 부문과의 협력을 강화해 우주에 접근하고, 거주하고, 우주 자산을 개발하는 능력을 혁신적으로 발전시키는 것이다. 이에 따라 민간 주도의 우주사업 방식인 뉴스페이스( New Space )가 더 활성화 될 수 있다는 점과 더불어 저궤도 위성통신 등을 활용해 차세대 이동통신, 자율주행, 군용 통신, 위성모바일 통신, 위성 탐사 및 관측, 재난 예측 등 산업 생태계를 기반으로 하는 민간 우주경제 급성장을 이끌 것이라고 내다봤다. 마지막으로 안보 분야에서 각자도생 정책이 글로벌 자주국방 강화 추세로 이어지면서 방산 부흥을 이끌 전망이다. 트럼프 2.0 시대에는 미국 우선주의에 입각한 안보 무임승차 불가론을 내세워 나토( NATO ) 회원국들을 향해 대대적인 방위비 증액 압박에 돌입할 것으로 보인다. 더불어 미국이 중국 견제에 집중하기 위해 유럽의 방위는 NATO 동맹국들이 보다 적극적으로 책임지라고 압박할 가능성이 크다.\n",
        "  summary:\n",
        "  미국 정치 이슈와 첨단 산업의 트렌드에 대해 트럼프 2.0 시대의 미국 우선주의와 중국과 경쟁에 초점을 맞춘 기사가 있습니다. AI 및 로봇 산업이 규제 완화와 패권 전쟁으로 인해 부상할 것으로 보인다는 내용이 담겨있는데요. 2차 세계대전 당시 핵무기를 개발해 국제 안보의 패권을 장악했듯이 이번 경우에는 AI 맨해튼 프로젝트가 추진될 거라는 이야기가 있습니다. 또한 우주 분야에서는 아르테미스 프로젝트와 민간 우주 경제 성장이 주목받았습니다. iM 증권은 민간 주도의 우주사업 방식인 뉴스페이스(New Space)가 더 활성화되면서 저궤도 위성통신 등을 활용해 차세대 이동통신, 자율주행, 군용 통신, 위성모바일 통신, 위성 탐사 및 관측, 재난 예측 등 민간 우주경제 생태계의 급성장을 예측했다고합니다.</s>\n",
        "<EXAMPLE 2>:\n",
        "  query:\n",
        "  보험 산업에서 AI 기술을 활용하여 어떤 새로운 서비스와 사업이 등장하고 있나요?,\n",
        "  keywords:\n",
        "  보험산업과 AI,\n",
        "  title:\n",
        "  시니어·AI·해외시장…신사업 시동거는 보험사,\n",
        "  document:\n",
        "  삼성생명 시니어리빙 TF →시니어 Biz 팀 격상 교보생명 '보장분석 AI 서포터' 올해 도입 DB 손해보험 '해외전략본부' 신설 보험사들이 연초 신사업 추진에 적극적으로 나서고 있다. 저출산·고령화 등 인구구조 변화에 대응하고 인공지능( AI ) 기술 고도화와 신시장 개척을 통해 미래 먹거리를 선점하겠다는 전략이다. 15일 보험업계에 따르면 삼성생명은 올해 조직개편을 통해 시니어리빙 태스크포스( TF )를 시니어 Biz 팀으로 격상했다. 지난해 시니어사업 추진을 위해 기획실 산하에 만든 임시조직을 정식 팀으로 만든 건 올해부터 요양사업을 본격화하겠다는 전략으로 보인다. 삼성생명은 지난해 11월12일부터 가능해진 보험금청구권신탁도 최근 가입 문의가 늘었다며 올해 새 수익원으로 자리 잡길 기대하는 눈치다. 홍원학 삼성생명 대표는 신년사에서 \"올해 헬스케어·신탁·시니어 등 새로운 사업에 도전해 생활금융 전반을 리드하는 회사로 도약할 것\"이라고 말했다. 하나생명도 최근 이사회에서 요양사업 자회사 설립 안건을 의결했다. 하나생명은 올해 하반기 주간보호센터를 열고 내년 하반기엔 서울 인근에 프리미엄 요양시설을 지을 계획이다. 하나금융지주가 지난해 10월 출범한 시니어 특화 브랜드 '하나 더 넥스트'와 발맞춰 사업을 전개할 예정이다. 챗 GPT 가 보험사의 시니업 사업 진출에 대해 묘사한 그림. 챗 GPT 제공 KDB 생명은 지난달 금융감독원에 부수 업무로 주간보호시설 개설·운영·장기요양서비스 제공 등을 추가했다. 오는 3월 경기 고양시 덕양구 지축동에 데이케어센터를 열기 위해서다. KB 라이프생명과 신한라이프에 이어 생보업계 3번째 데이케어센터가 될 전망이다. KDB 생명은 이들 생보사처럼 추후 사업성과에 따라 요양사업 전담 조직을 분사하는 방안도 검토중이다. AI 관련 신사업 움직임도 활발하다. 교보생명은 지난해 말 금융위원회로부터 혁신금융서비스로 지정받은 '보장분석 AI 서포터'를 올해 본격 도입할 예정이다. AI 서포터는 AI 로 방대한 양의 보장 분석을 쉽게 요약해 설계사에게 전달하는 서비스다. 수수료 측면에서 설계사에게 유리한 보험이 아닌 고객 보장 중심 상품을 추천하겠다는 취지로 개발했다. 교보생명은 지난달 정기인사를 통해 신창재 교보생명 대표이사 겸 이사회 의장의 장남 신중하씨를 AI 활용 및 고객의 소리 데이터 담당 상무로 선임하는 등 올해 AI 서비스에 박차를 가할 계획이다. KB 손해보험은 올해 조직개편에서 DT (디지털 전환)추진본부 산하에 AI 데이터 분석파트를 신설했다. 디지털과 데이터에 기반한 신사업 추진 역량을 강화한다는 취지다. 해외시장 공략도 본격화하는 추세다. DB 손해보험은 올해 조직개편을 통해 기존 해외전략파트와 해외관리파트의 상위 조직인 해외전략본부를 신설했다. DB 손보는 현재 뉴욕·캘리포니아·하와이·괌에 지점을 두고 있다. 미국 현지 영업을 강화하기 위해 뉴욕지점장 출신인 김남윤 담당을 해외전략본부장으로 선임했다. 한화생명도 김승연 한화그룹 회장의 차남인 김동원 최고글로벌책임자( CGO· 사장)의 진두지휘 아래 글로벌 종합금융그룹으로서의 입지 굳히기에 나설 것으로 보인다. 한화생명은 지난해 11월 미국 현지 증권사 벨로시티 지분 75% 매입하기 위한 주식매매계약을 체결했다. 양국 감독당국의 인수허가가 나면 국내 보험사가 미국 증권사를 인수하는 첫 사례다. 한화생명은 벨로시티의 인프라와 네트워크를 활용해 미국에서 직접 금융상품을 판매하겠다는 전략이다. 한화생명은 지난해 3월 인도네시아 손해보험사인 리포손해보험을 인수했고 4월엔 인도네시아 노부은행에 지분 40%를 투자하는 등 글로벌 역량을 꾸준히 확대하고 있다.,\n",
        "  summary:\n",
        "  보험 산업에서 AI 기술을 활용한 새로운 서비스와 사업이 등장하고 있습니다. 교보생명은 AI를 활용한 보장 분석 서비스를 도입합니다. 교보생명은 지난해 말 '보장분석 AI 서포터'를 금융위원회로부터 혁신금융서비스로 지정받았는데요. AI 서포터는 AI 로 방대한 양의 보장 분석을 쉽게 요약해 설계사에게 전달하는 서비스입니다. 한편, KB 손해보험은 AI 데이터 분석 파트를 신설했습니다. 올해 디지털과 데이터에 기반한 신사업 추진 역량을 강화한다는 취지로 조직개편에서 DT (디지털 전환)추진본부 산하에 AI 데이터 분석파트를 신설했다고 합니다.</s>\n",
        "<ASSISTANT>:\n",
        "  query:\n",
        "  {},\n",
        "  keywords:\n",
        "  {},\n",
        "  title:\n",
        "  {},\n",
        "  document:\n",
        "  {},\n",
        "  summary:\n",
        "'''"
      ],
      "metadata": {
        "id": "X7CHwMEmC-cx"
      },
      "execution_count": null,
      "outputs": []
    },
    {
      "cell_type": "code",
      "source": [
        "idx = 2\n",
        "doc = query_df[\"document\"][idx]\n",
        "keyws = query_df[\"keywords\"][idx]\n",
        "doc_split = doc.strip().split('\\n')\n",
        "title = doc_split[0]\n",
        "doc_url = doc_split[1]\n",
        "body = \" \".join(doc_split[2:])"
      ],
      "metadata": {
        "id": "4qdN3IntWbtW"
      },
      "execution_count": null,
      "outputs": []
    },
    {
      "cell_type": "code",
      "source": [
        "query = \"금융권에서 망분리 규제 완화로 인해 어떤 첨단 기술이 도입되고 있나요?\"\n",
        "prompt = prompt_template_v5.format(query, keyws, title, body, )\n",
        "request = llm.invoke(prompt)\n",
        "print(request.content)\n"
      ],
      "metadata": {
        "colab": {
          "base_uri": "https://localhost:8080/"
        },
        "id": "bVxlPWq3WUHO",
        "outputId": "1699b3f1-f41f-4f22-a43f-ce8843f5972f"
      },
      "execution_count": null,
      "outputs": [
        {
          "output_type": "stream",
          "name": "stdout",
          "text": [
            "금융권에서 망분리 규제 완화로 인해 AI와 SaaS 기술이 도입되고 있습니다. 생성형 AI를 활용한 대고객 서비스와 내부 업무 자동화가 주목받고 있습니다. 신한금융지주와 KB 금융지주를 비롯한 26개사가 마이크로소프트의 M365 코파일럿을 내부 업무에 활용할 수 있게 되었습니다. 우리은행은 MS의 애저 오픈 AI를 활용한 맞춤형 금융투자상품 정보와 대화형 상품상담 서비스를 제공합니다. 외국계 금융사에서는 인사관리부터 보안관리 솔루션까지 SaaS로 전환하고 있습니다. 스탠다드차타드은행은 CRMx를 SaaS로 도입해 영업계획과 파이프라인을 관리합니다. 국내 금융사도 FIGMA, 루카스메타, 두레이 등 SaaS 기반 업무협업 서비스를 도입하고 있습니다.\n"
          ]
        }
      ]
    },
    {
      "cell_type": "code",
      "source": [
        "print(prompt)"
      ],
      "metadata": {
        "colab": {
          "base_uri": "https://localhost:8080/"
        },
        "id": "09jSb3eSW_NH",
        "outputId": "4bb2c56e-d8a7-4e43-e185-19bc40102d9d"
      },
      "execution_count": null,
      "outputs": [
        {
          "output_type": "stream",
          "name": "stdout",
          "text": [
            "<SYSTEM>\n",
            "  당신은 출판사의 담당 편집자입니다.\n",
            "  아래 질문(query)을 바탕으로 주어진 문서(document)를 다섯 문당 이내로 요약(summary)해야합니다. 키워드 문장(keywords)과 제목(title)을 참고해서 생성하세요.\n",
            "<EXAMPLE 1>\n",
            "  query:\n",
            "  미국 정치권에 발생한 중요한 이슈에 따라서 첨단 산업에 어떤 변화가 있을까?\n",
            "  keywords:\n",
            "  미국 정치 이슈와 첨단 산업 트렌드\n",
            "  title:\n",
            "  “트럼프 2.0시대 개막 4대 테마는?” 에너지, AI·로봇,우주, 안보\n",
            "  document:\n",
            "  미국 제47대 대통령 선거뿐만 아니라 상·하원 모두 공화당이 승리함에 따라 막강한 트럼프 2.0 시대가 개막한 가운데 4대 테마로 에너지, AI (인공지능)·로봇, 우주, 안보가 꼽혔다. 20일 iM 증권에 따르면 트럼프 2.0 시대 정부정책 추진이 트럼프 1.0 시대 보다 빠르고 강하게 진행될 것으로 예상된다. 트럼프 2.0 시대 정부정책의 경우 미국을 다시 위대하게( Make America Great Again ; MAGA )라는 슬로건처럼 미국 우선주의에 기반해 수립되고 추진될 전망이다. 다른 한편으로는 트럼프 2.0 시대 중국을 가장 큰 전략적 위협으로 보고 미중 패권전쟁을 기반해 정책이 수립된다는 관측이다. iM 증권은 트럼프 2.0 시대 주목해야 할 4가지 테마를 에너지, AI ,로봇, 우주, 방산이라고 내다봤다. 먼저 트럼프 2.0 시대 에너지 정책이 LNG 및 원자력 르네상스를 이끌 전망이다. 트럼프 2.0시대 에너지정책은 환경규제 완화 등을 통해 에너지 산업의 경쟁력을 강화함으로써 자국 내 에너지 비용을 줄이려는 의도다. 특히 이와 같은 화석연료 활성화 계획에 따라 대대적인 석유·천연가스 개발과 생산에 나서면서 LNG 수출이 확대될 것으로 보인다. 두번째 테마는 트럼프 2.0 시대 규제완화 및 패권전쟁으로 AI , 로봇 산업이 부상할 것으로 관측된다. 트럼프 2.0 시대에는 AI 맨해튼 프로젝트가 추진될 전망으로 이는 2차 세계대전 당시 핵무기를 개발해 국제 안보 지형을 바꿨가면서 패권을 장악했듯이 이번 경우에는 AI 등으로 기술 헤게모니를 확고히 하겠다는 선언이라는 해석이다. iM 증권은 트럼프 2.0 시대 우주패권 전쟁에서 승리하기 위해 아르테미스 프로젝트, 우주군, 민간 우주경제 성장이 본격화 될 것이라고 예상했다. 트럼프 2.0 시대 우주정책의 기본 방향은 지구 근궤도에서 강력한 제조 산업을 건설하고 우주비행사를 달과 화성으로 보내며 빠르게 확장하는 민간 우주 부문과의 협력을 강화해 우주에 접근하고, 거주하고, 우주 자산을 개발하는 능력을 혁신적으로 발전시키는 것이다. 이에 따라 민간 주도의 우주사업 방식인 뉴스페이스( New Space )가 더 활성화 될 수 있다는 점과 더불어 저궤도 위성통신 등을 활용해 차세대 이동통신, 자율주행, 군용 통신, 위성모바일 통신, 위성 탐사 및 관측, 재난 예측 등 산업 생태계를 기반으로 하는 민간 우주경제 급성장을 이끌 것이라고 내다봤다. 마지막으로 안보 분야에서 각자도생 정책이 글로벌 자주국방 강화 추세로 이어지면서 방산 부흥을 이끌 전망이다. 트럼프 2.0 시대에는 미국 우선주의에 입각한 안보 무임승차 불가론을 내세워 나토( NATO ) 회원국들을 향해 대대적인 방위비 증액 압박에 돌입할 것으로 보인다. 더불어 미국이 중국 견제에 집중하기 위해 유럽의 방위는 NATO 동맹국들이 보다 적극적으로 책임지라고 압박할 가능성이 크다.\n",
            "  summary:\n",
            "  미국 정치 이슈와 첨단 산업의 트렌드에 대해 트럼프 2.0 시대의 미국 우선주의와 중국과 경쟁에 초점을 맞춘 기사가 있습니다. AI 및 로봇 산업이 규제 완화와 패권 전쟁으로 인해 부상할 것으로 보인다는 내용이 담겨있는데요. 2차 세계대전 당시 핵무기를 개발해 국제 안보의 패권을 장악했듯이 이번 경우에는 AI 맨해튼 프로젝트가 추진될 거라는 이야기가 있습니다. 또한 우주 분야에서는 아르테미스 프로젝트와 민간 우주 경제 성장이 주목받았습니다. iM 증권은 민간 주도의 우주사업 방식인 뉴스페이스(New Space)가 더 활성화되면서 저궤도 위성통신 등을 활용해 차세대 이동통신, 자율주행, 군용 통신, 위성모바일 통신, 위성 탐사 및 관측, 재난 예측 등 민간 우주경제 생태계의 급성장을 예측했다고합니다.</s>\n",
            "<EXAMPLE 2>:\n",
            "  query:\n",
            "  보험 산업에서 AI 기술을 활용하여 어떤 새로운 서비스와 사업이 등장하고 있나요?,\n",
            "  keywords:\n",
            "  보험산업과 AI,\n",
            "  title:\n",
            "  시니어·AI·해외시장…신사업 시동거는 보험사,\n",
            "  document:\n",
            "  삼성생명 시니어리빙 TF →시니어 Biz 팀 격상 교보생명 '보장분석 AI 서포터' 올해 도입 DB 손해보험 '해외전략본부' 신설 보험사들이 연초 신사업 추진에 적극적으로 나서고 있다. 저출산·고령화 등 인구구조 변화에 대응하고 인공지능( AI ) 기술 고도화와 신시장 개척을 통해 미래 먹거리를 선점하겠다는 전략이다. 15일 보험업계에 따르면 삼성생명은 올해 조직개편을 통해 시니어리빙 태스크포스( TF )를 시니어 Biz 팀으로 격상했다. 지난해 시니어사업 추진을 위해 기획실 산하에 만든 임시조직을 정식 팀으로 만든 건 올해부터 요양사업을 본격화하겠다는 전략으로 보인다. 삼성생명은 지난해 11월12일부터 가능해진 보험금청구권신탁도 최근 가입 문의가 늘었다며 올해 새 수익원으로 자리 잡길 기대하는 눈치다. 홍원학 삼성생명 대표는 신년사에서 \"올해 헬스케어·신탁·시니어 등 새로운 사업에 도전해 생활금융 전반을 리드하는 회사로 도약할 것\"이라고 말했다. 하나생명도 최근 이사회에서 요양사업 자회사 설립 안건을 의결했다. 하나생명은 올해 하반기 주간보호센터를 열고 내년 하반기엔 서울 인근에 프리미엄 요양시설을 지을 계획이다. 하나금융지주가 지난해 10월 출범한 시니어 특화 브랜드 '하나 더 넥스트'와 발맞춰 사업을 전개할 예정이다. 챗 GPT 가 보험사의 시니업 사업 진출에 대해 묘사한 그림. 챗 GPT 제공 KDB 생명은 지난달 금융감독원에 부수 업무로 주간보호시설 개설·운영·장기요양서비스 제공 등을 추가했다. 오는 3월 경기 고양시 덕양구 지축동에 데이케어센터를 열기 위해서다. KB 라이프생명과 신한라이프에 이어 생보업계 3번째 데이케어센터가 될 전망이다. KDB 생명은 이들 생보사처럼 추후 사업성과에 따라 요양사업 전담 조직을 분사하는 방안도 검토중이다. AI 관련 신사업 움직임도 활발하다. 교보생명은 지난해 말 금융위원회로부터 혁신금융서비스로 지정받은 '보장분석 AI 서포터'를 올해 본격 도입할 예정이다. AI 서포터는 AI 로 방대한 양의 보장 분석을 쉽게 요약해 설계사에게 전달하는 서비스다. 수수료 측면에서 설계사에게 유리한 보험이 아닌 고객 보장 중심 상품을 추천하겠다는 취지로 개발했다. 교보생명은 지난달 정기인사를 통해 신창재 교보생명 대표이사 겸 이사회 의장의 장남 신중하씨를 AI 활용 및 고객의 소리 데이터 담당 상무로 선임하는 등 올해 AI 서비스에 박차를 가할 계획이다. KB 손해보험은 올해 조직개편에서 DT (디지털 전환)추진본부 산하에 AI 데이터 분석파트를 신설했다. 디지털과 데이터에 기반한 신사업 추진 역량을 강화한다는 취지다. 해외시장 공략도 본격화하는 추세다. DB 손해보험은 올해 조직개편을 통해 기존 해외전략파트와 해외관리파트의 상위 조직인 해외전략본부를 신설했다. DB 손보는 현재 뉴욕·캘리포니아·하와이·괌에 지점을 두고 있다. 미국 현지 영업을 강화하기 위해 뉴욕지점장 출신인 김남윤 담당을 해외전략본부장으로 선임했다. 한화생명도 김승연 한화그룹 회장의 차남인 김동원 최고글로벌책임자( CGO· 사장)의 진두지휘 아래 글로벌 종합금융그룹으로서의 입지 굳히기에 나설 것으로 보인다. 한화생명은 지난해 11월 미국 현지 증권사 벨로시티 지분 75% 매입하기 위한 주식매매계약을 체결했다. 양국 감독당국의 인수허가가 나면 국내 보험사가 미국 증권사를 인수하는 첫 사례다. 한화생명은 벨로시티의 인프라와 네트워크를 활용해 미국에서 직접 금융상품을 판매하겠다는 전략이다. 한화생명은 지난해 3월 인도네시아 손해보험사인 리포손해보험을 인수했고 4월엔 인도네시아 노부은행에 지분 40%를 투자하는 등 글로벌 역량을 꾸준히 확대하고 있다.,\n",
            "  summary:\n",
            "  보험 산업에서 AI 기술을 활용한 새로운 서비스와 사업이 등장하고 있습니다. 교보생명은 AI를 활용한 보장 분석 서비스를 도입합니다. 교보생명은 지난해 말 '보장분석 AI 서포터'를 금융위원회로부터 혁신금융서비스로 지정받았는데요. AI 서포터는 AI 로 방대한 양의 보장 분석을 쉽게 요약해 설계사에게 전달하는 서비스입니다. 한편, KB 손해보험은 AI 데이터 분석 파트를 신설했습니다. 올해 디지털과 데이터에 기반한 신사업 추진 역량을 강화한다는 취지로 조직개편에서 DT (디지털 전환)추진본부 산하에 AI 데이터 분석파트를 신설했다고 합니다.</s>\n",
            "<ASSISTANT>:\n",
            "  query:\n",
            "  보험 산업에서 AI 기술을 활용하여 어떤 새로운 서비스와 사업이 등장하고 있나요?,\n",
            "  keywords:\n",
            "  보험산업과 AI,\n",
            "  title:\n",
            "  시니어·AI·해외시장…신사업 시동거는 보험사,\n",
            "  document:\n",
            "  삼성생명 시니어리빙 TF →시니어 Biz 팀 격상 교보생명 '보장분석 AI 서포터' 올해 도입 DB 손해보험 '해외전략본부' 신설 보험사들이 연초 신사업 추진에 적극적으로 나서고 있다. 저출산·고령화 등 인구구조 변화에 대응하고 인공지능( AI ) 기술 고도화와 신시장 개척을 통해 미래 먹거리를 선점하겠다는 전략이다. 15일 보험업계에 따르면 삼성생명은 올해 조직개편을 통해 시니어리빙 태스크포스( TF )를 시니어 Biz 팀으로 격상했다. 지난해 시니어사업 추진을 위해 기획실 산하에 만든 임시조직을 정식 팀으로 만든 건 올해부터 요양사업을 본격화하겠다는 전략으로 보인다. 삼성생명은 지난해 11월12일부터 가능해진 보험금청구권신탁도 최근 가입 문의가 늘었다며 올해 새 수익원으로 자리 잡길 기대하는 눈치다. 홍원학 삼성생명 대표는 신년사에서 \"올해 헬스케어·신탁·시니어 등 새로운 사업에 도전해 생활금융 전반을 리드하는 회사로 도약할 것\"이라고 말했다. 하나생명도 최근 이사회에서 요양사업 자회사 설립 안건을 의결했다. 하나생명은 올해 하반기 주간보호센터를 열고 내년 하반기엔 서울 인근에 프리미엄 요양시설을 지을 계획이다. 하나금융지주가 지난해 10월 출범한 시니어 특화 브랜드 '하나 더 넥스트'와 발맞춰 사업을 전개할 예정이다. 챗 GPT 가 보험사의 시니업 사업 진출에 대해 묘사한 그림. 챗 GPT 제공 KDB 생명은 지난달 금융감독원에 부수 업무로 주간보호시설 개설·운영·장기요양서비스 제공 등을 추가했다. 오는 3월 경기 고양시 덕양구 지축동에 데이케어센터를 열기 위해서다. KB 라이프생명과 신한라이프에 이어 생보업계 3번째 데이케어센터가 될 전망이다. KDB 생명은 이들 생보사처럼 추후 사업성과에 따라 요양사업 전담 조직을 분사하는 방안도 검토중이다. AI 관련 신사업 움직임도 활발하다. 교보생명은 지난해 말 금융위원회로부터 혁신금융서비스로 지정받은 '보장분석 AI 서포터'를 올해 본격 도입할 예정이다. AI 서포터는 AI 로 방대한 양의 보장 분석을 쉽게 요약해 설계사에게 전달하는 서비스다. 수수료 측면에서 설계사에게 유리한 보험이 아닌 고객 보장 중심 상품을 추천하겠다는 취지로 개발했다. 교보생명은 지난달 정기인사를 통해 신창재 교보생명 대표이사 겸 이사회 의장의 장남 신중하씨를 AI 활용 및 고객의 소리 데이터 담당 상무로 선임하는 등 올해 AI 서비스에 박차를 가할 계획이다. KB 손해보험은 올해 조직개편에서 DT (디지털 전환)추진본부 산하에 AI 데이터 분석파트를 신설했다. 디지털과 데이터에 기반한 신사업 추진 역량을 강화한다는 취지다. 해외시장 공략도 본격화하는 추세다. DB 손해보험은 올해 조직개편을 통해 기존 해외전략파트와 해외관리파트의 상위 조직인 해외전략본부를 신설했다. DB 손보는 현재 뉴욕·캘리포니아·하와이·괌에 지점을 두고 있다. 미국 현지 영업을 강화하기 위해 뉴욕지점장 출신인 김남윤 담당을 해외전략본부장으로 선임했다. 한화생명도 김승연 한화그룹 회장의 차남인 김동원 최고글로벌책임자( CGO· 사장)의 진두지휘 아래 글로벌 종합금융그룹으로서의 입지 굳히기에 나설 것으로 보인다. 한화생명은 지난해 11월 미국 현지 증권사 벨로시티 지분 75% 매입하기 위한 주식매매계약을 체결했다. 양국 감독당국의 인수허가가 나면 국내 보험사가 미국 증권사를 인수하는 첫 사례다. 한화생명은 벨로시티의 인프라와 네트워크를 활용해 미국에서 직접 금융상품을 판매하겠다는 전략이다. 한화생명은 지난해 3월 인도네시아 손해보험사인 리포손해보험을 인수했고 4월엔 인도네시아 노부은행에 지분 40%를 투자하는 등 글로벌 역량을 꾸준히 확대하고 있다.,\n",
            "  summary:\n",
            "\n"
          ]
        }
      ]
    },
    {
      "cell_type": "markdown",
      "source": [
        "금융권에서 망분리 규제 완화로 인해 AI와 SaaS 기술이 도입되고 있습니다. 생성형 AI를 활용한 대고객 서비스와 내부 업무 자동화가 주목받고 있습니다. 신한금융지주와 KB 금융지주를 비롯한 26개사가 마이크로소프트의 M365 코파일럿을 내부 업무에 활용할 수 있게 되었습니다. 우리은행은 MS의 애저 오픈 AI를 활용한 맞춤형 금융투자상품 정보와 대화형 상품상담 서비스를 제공합니다. 외국계 금융사에서는 인사관리부터 보안관리 솔루션까지 SaaS로 전환하고 있습니다. 스탠다드차타드은행은 CRMx를 SaaS로 도입해 영업계획과 파이프라인을 관리합니다. 국내 금융사도 FIGMA, 루카스메타, 두레이 등 SaaS 기반 업무협업 서비스를 도입하고 있습니다.\n",
        "\n"
      ],
      "metadata": {
        "id": "QjO7QU8ZWWAW"
      }
    },
    {
      "cell_type": "markdown",
      "source": [
        "```python\n",
        "idx = 3\n",
        "doc = query_df[\"document\"][idx]\n",
        "keyws = query_df[\"keywords\"][idx]\n",
        "doc_split = doc.strip().split('\\n')\n",
        "title = doc_split[0]\n",
        "doc_url = doc_split[1]\n",
        "body = \" \".join(doc_split[2:])\n",
        "query = \"물리적 AI의 급부상으로 인해 로봇 산업에 어떤 변화가 예상되는지 알고 싶습니다.\"\n",
        "prompt_v1 = prompt_template.format(query, keyws, title, body, )\n",
        "request = llm.invoke(prompt_v1)\n",
        "print(request.content)\n",
        "```\n",
        "위와 같이 쿼리 부분에 요청의 의미가 들어간 서술형의 분장이 들어가면 출력이 예제의 의도대로 나오지 않는다"
      ],
      "metadata": {
        "id": "x1by9ztTv7aD"
      }
    },
    {
      "cell_type": "code",
      "source": [
        "idx = 3\n",
        "doc = query_df[\"document\"][idx]\n",
        "keyws = query_df[\"keywords\"][idx]\n",
        "doc_split = doc.strip().split('\\n')\n",
        "title = doc_split[0]\n",
        "doc_url = doc_split[1]\n",
        "body = \" \".join(doc_split[2:])\n",
        "query = \"물리적 AI의 급부상으로 인해 로봇 산업에 변화.\"\n",
        "prompt = prompt_template_v5.format(query, keyws, title, body, )\n",
        "request = llm.invoke(prompt)\n",
        "print(request.content)"
      ],
      "metadata": {
        "colab": {
          "base_uri": "https://localhost:8080/"
        },
        "id": "mIRF4wb8Xgs6",
        "outputId": "17eb1627-2db6-4365-f1bd-c5659acddc02"
      },
      "execution_count": null,
      "outputs": [
        {
          "output_type": "stream",
          "name": "stdout",
          "text": [
            "물리적 AI의 급부상으로 로봇 산업에 변화가 일고 있습니다. 엔비디아 CEO 젠슨 황은 물리적 AI를 로봇의 미래로 정의하고 로봇 및 자율주행 AI 개발 플랫폼인 '코스모스'를 발표했습니다. 이에 따라 로봇 시장은 급성장할 것으로 예상되며, 삼성전자, 현대차그룹, LG 전자 등 국내 기업들도 로봇 시장에 진출하고 있습니다. 그러나 한국은 휴머노이드 로봇 개발에서 유럽과 미국에 뒤처져 있습니다. 업계에서는 민간 투자와 정책적 지원, 인재 양성이 시급하다고 주장하고 있습니다.\n"
          ]
        }
      ]
    },
    {
      "cell_type": "markdown",
      "source": [
        "물리적 AI의 급부상으로 로봇 산업에 변화가 일고 있습니다. 엔비디아 CEO 젠슨 황은 물리적 AI를 로봇의 미래로 정의하고 로봇 및 자율주행 AI 개발 플랫폼인 '코스모스'를 발표했습니다. 이에 따라 로봇 시장은 급성장할 것으로 예상되며, 삼성전자, 현대차그룹, LG 전자 등 국내 기업들도 로봇 시장에 진출하고 있습니다. 그러나 한국은 휴머노이드 로봇 개발에서 유럽과 미국에 뒤처져 있습니다. 업계에서는 민간 투자와 정책적 지원, 인재 양성이 시급하다고 주장하고 있습니다.\n"
      ],
      "metadata": {
        "id": "gWsi7JofX12J"
      }
    },
    {
      "cell_type": "code",
      "source": [],
      "metadata": {
        "id": "qFgUicSxZLyQ"
      },
      "execution_count": null,
      "outputs": []
    }
  ]
}